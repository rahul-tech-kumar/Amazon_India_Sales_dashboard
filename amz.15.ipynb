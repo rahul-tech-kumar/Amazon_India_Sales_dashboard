{
 "cells": [
  {
   "cell_type": "code",
   "execution_count": 2,
   "id": "6b78e3ea",
   "metadata": {},
   "outputs": [],
   "source": [
    "import pandas as pd\n",
    "import numpy as np\n",
    "\n",
    "df=pd.read_csv(\"amazon_india_2015.csv\")\n"
   ]
  },
  {
   "cell_type": "code",
   "execution_count": 3,
   "id": "c5096b40",
   "metadata": {},
   "outputs": [
    {
     "data": {
      "text/plain": [
       "(33165, 34)"
      ]
     },
     "execution_count": 3,
     "metadata": {},
     "output_type": "execute_result"
    }
   ],
   "source": [
    "df.shape"
   ]
  },
  {
   "cell_type": "code",
   "execution_count": 4,
   "id": "60a1f03c",
   "metadata": {},
   "outputs": [
    {
     "data": {
      "text/html": [
       "<div>\n",
       "<style scoped>\n",
       "    .dataframe tbody tr th:only-of-type {\n",
       "        vertical-align: middle;\n",
       "    }\n",
       "\n",
       "    .dataframe tbody tr th {\n",
       "        vertical-align: top;\n",
       "    }\n",
       "\n",
       "    .dataframe thead th {\n",
       "        text-align: right;\n",
       "    }\n",
       "</style>\n",
       "<table border=\"1\" class=\"dataframe\">\n",
       "  <thead>\n",
       "    <tr style=\"text-align: right;\">\n",
       "      <th></th>\n",
       "      <th>transaction_id</th>\n",
       "      <th>order_date</th>\n",
       "      <th>customer_id</th>\n",
       "      <th>product_id</th>\n",
       "      <th>product_name</th>\n",
       "      <th>category</th>\n",
       "      <th>subcategory</th>\n",
       "      <th>brand</th>\n",
       "      <th>original_price_inr</th>\n",
       "      <th>discount_percent</th>\n",
       "      <th>...</th>\n",
       "      <th>is_festival_sale</th>\n",
       "      <th>festival_name</th>\n",
       "      <th>customer_rating</th>\n",
       "      <th>return_status</th>\n",
       "      <th>order_month</th>\n",
       "      <th>order_year</th>\n",
       "      <th>order_quarter</th>\n",
       "      <th>product_weight_kg</th>\n",
       "      <th>is_prime_eligible</th>\n",
       "      <th>product_rating</th>\n",
       "    </tr>\n",
       "  </thead>\n",
       "  <tbody>\n",
       "    <tr>\n",
       "      <th>0</th>\n",
       "      <td>TXN_2015_00000001</td>\n",
       "      <td>2015-01-25</td>\n",
       "      <td>CUST_2015_00003884</td>\n",
       "      <td>PROD_000021</td>\n",
       "      <td>Samsung Galaxy S6 16GB Black</td>\n",
       "      <td>Electronics</td>\n",
       "      <td>Smartphones</td>\n",
       "      <td>Samsung</td>\n",
       "      <td>123614.29</td>\n",
       "      <td>27.91</td>\n",
       "      <td>...</td>\n",
       "      <td>True</td>\n",
       "      <td>Republic Day Sale</td>\n",
       "      <td>5.0</td>\n",
       "      <td>Delivered</td>\n",
       "      <td>1</td>\n",
       "      <td>2015</td>\n",
       "      <td>1</td>\n",
       "      <td>0.19</td>\n",
       "      <td>True</td>\n",
       "      <td>4.7</td>\n",
       "    </tr>\n",
       "    <tr>\n",
       "      <th>1</th>\n",
       "      <td>TXN_2015_00000002</td>\n",
       "      <td>2015-01-05</td>\n",
       "      <td>CUST_2015_00011709</td>\n",
       "      <td>PROD_000055</td>\n",
       "      <td>OnePlus OnePlus 2 16GB White</td>\n",
       "      <td>Electronics</td>\n",
       "      <td>Smartphones</td>\n",
       "      <td>OnePlus</td>\n",
       "      <td>54731.86</td>\n",
       "      <td>0.00</td>\n",
       "      <td>...</td>\n",
       "      <td>False</td>\n",
       "      <td>NaN</td>\n",
       "      <td>4.5</td>\n",
       "      <td>Delivered</td>\n",
       "      <td>1</td>\n",
       "      <td>2015</td>\n",
       "      <td>1</td>\n",
       "      <td>0.20</td>\n",
       "      <td>True</td>\n",
       "      <td>4.1</td>\n",
       "    </tr>\n",
       "    <tr>\n",
       "      <th>2</th>\n",
       "      <td>TXN_2015_00000003</td>\n",
       "      <td>2015-01-24</td>\n",
       "      <td>CUST_2015_00004782</td>\n",
       "      <td>PROD_000039</td>\n",
       "      <td>Samsung Galaxy Note 5 64GB Black</td>\n",
       "      <td>Electronics</td>\n",
       "      <td>Smartphones</td>\n",
       "      <td>Samsung</td>\n",
       "      <td>97644.25</td>\n",
       "      <td>46.93</td>\n",
       "      <td>...</td>\n",
       "      <td>True</td>\n",
       "      <td>Republic Day Sale</td>\n",
       "      <td>NaN</td>\n",
       "      <td>Delivered</td>\n",
       "      <td>1</td>\n",
       "      <td>2015</td>\n",
       "      <td>1</td>\n",
       "      <td>0.17</td>\n",
       "      <td>True</td>\n",
       "      <td>3.3</td>\n",
       "    </tr>\n",
       "    <tr>\n",
       "      <th>3</th>\n",
       "      <td>TXN_2015_00000004</td>\n",
       "      <td>2015-01-28</td>\n",
       "      <td>CUST_2015_00008105</td>\n",
       "      <td>PROD_000085</td>\n",
       "      <td>Motorola Moto G (3rd Gen) 16GB Black</td>\n",
       "      <td>Electronics</td>\n",
       "      <td>Smartphones</td>\n",
       "      <td>Motorola</td>\n",
       "      <td>21,947.26</td>\n",
       "      <td>0.00</td>\n",
       "      <td>...</td>\n",
       "      <td>False</td>\n",
       "      <td>NaN</td>\n",
       "      <td>3.0</td>\n",
       "      <td>Delivered</td>\n",
       "      <td>1</td>\n",
       "      <td>2015</td>\n",
       "      <td>1</td>\n",
       "      <td>0.22</td>\n",
       "      <td>True</td>\n",
       "      <td>3.5</td>\n",
       "    </tr>\n",
       "    <tr>\n",
       "      <th>4</th>\n",
       "      <td>TXN_2015_00000005</td>\n",
       "      <td>2015-01-31</td>\n",
       "      <td>CUST_2015_00002955</td>\n",
       "      <td>PROD_000055</td>\n",
       "      <td>OnePlus OnePlus 2 16GB White</td>\n",
       "      <td>Electronics</td>\n",
       "      <td>Smartphones</td>\n",
       "      <td>OnePlus</td>\n",
       "      <td>54731.86</td>\n",
       "      <td>0.00</td>\n",
       "      <td>...</td>\n",
       "      <td>FALSE</td>\n",
       "      <td>NaN</td>\n",
       "      <td>4.0</td>\n",
       "      <td>Delivered</td>\n",
       "      <td>1</td>\n",
       "      <td>2015</td>\n",
       "      <td>1</td>\n",
       "      <td>0.20</td>\n",
       "      <td>True</td>\n",
       "      <td>4.1</td>\n",
       "    </tr>\n",
       "  </tbody>\n",
       "</table>\n",
       "<p>5 rows × 34 columns</p>\n",
       "</div>"
      ],
      "text/plain": [
       "      transaction_id  order_date         customer_id   product_id  \\\n",
       "0  TXN_2015_00000001  2015-01-25  CUST_2015_00003884  PROD_000021   \n",
       "1  TXN_2015_00000002  2015-01-05  CUST_2015_00011709  PROD_000055   \n",
       "2  TXN_2015_00000003  2015-01-24  CUST_2015_00004782  PROD_000039   \n",
       "3  TXN_2015_00000004  2015-01-28  CUST_2015_00008105  PROD_000085   \n",
       "4  TXN_2015_00000005  2015-01-31  CUST_2015_00002955  PROD_000055   \n",
       "\n",
       "                           product_name     category  subcategory     brand  \\\n",
       "0          Samsung Galaxy S6 16GB Black  Electronics  Smartphones   Samsung   \n",
       "1          OnePlus OnePlus 2 16GB White  Electronics  Smartphones   OnePlus   \n",
       "2      Samsung Galaxy Note 5 64GB Black  Electronics  Smartphones   Samsung   \n",
       "3  Motorola Moto G (3rd Gen) 16GB Black  Electronics  Smartphones  Motorola   \n",
       "4          OnePlus OnePlus 2 16GB White  Electronics  Smartphones   OnePlus   \n",
       "\n",
       "  original_price_inr  discount_percent  ...  is_festival_sale  \\\n",
       "0          123614.29             27.91  ...              True   \n",
       "1           54731.86              0.00  ...             False   \n",
       "2           97644.25             46.93  ...              True   \n",
       "3          21,947.26              0.00  ...             False   \n",
       "4           54731.86              0.00  ...             FALSE   \n",
       "\n",
       "       festival_name  customer_rating  return_status  order_month order_year  \\\n",
       "0  Republic Day Sale              5.0      Delivered            1       2015   \n",
       "1                NaN              4.5      Delivered            1       2015   \n",
       "2  Republic Day Sale              NaN      Delivered            1       2015   \n",
       "3                NaN              3.0      Delivered            1       2015   \n",
       "4                NaN              4.0      Delivered            1       2015   \n",
       "\n",
       "  order_quarter product_weight_kg is_prime_eligible product_rating  \n",
       "0             1              0.19              True            4.7  \n",
       "1             1              0.20              True            4.1  \n",
       "2             1              0.17              True            3.3  \n",
       "3             1              0.22              True            3.5  \n",
       "4             1              0.20              True            4.1  \n",
       "\n",
       "[5 rows x 34 columns]"
      ]
     },
     "execution_count": 4,
     "metadata": {},
     "output_type": "execute_result"
    }
   ],
   "source": [
    "df.head(5)"
   ]
  },
  {
   "cell_type": "code",
   "execution_count": 5,
   "id": "6f151903",
   "metadata": {},
   "outputs": [
    {
     "data": {
      "text/html": [
       "<div>\n",
       "<style scoped>\n",
       "    .dataframe tbody tr th:only-of-type {\n",
       "        vertical-align: middle;\n",
       "    }\n",
       "\n",
       "    .dataframe tbody tr th {\n",
       "        vertical-align: top;\n",
       "    }\n",
       "\n",
       "    .dataframe thead th {\n",
       "        text-align: right;\n",
       "    }\n",
       "</style>\n",
       "<table border=\"1\" class=\"dataframe\">\n",
       "  <thead>\n",
       "    <tr style=\"text-align: right;\">\n",
       "      <th></th>\n",
       "      <th>transaction_id</th>\n",
       "      <th>order_date</th>\n",
       "      <th>customer_id</th>\n",
       "      <th>product_id</th>\n",
       "      <th>product_name</th>\n",
       "      <th>category</th>\n",
       "      <th>subcategory</th>\n",
       "      <th>brand</th>\n",
       "      <th>original_price_inr</th>\n",
       "      <th>discount_percent</th>\n",
       "      <th>...</th>\n",
       "      <th>is_festival_sale</th>\n",
       "      <th>festival_name</th>\n",
       "      <th>customer_rating</th>\n",
       "      <th>return_status</th>\n",
       "      <th>order_month</th>\n",
       "      <th>order_year</th>\n",
       "      <th>order_quarter</th>\n",
       "      <th>product_weight_kg</th>\n",
       "      <th>is_prime_eligible</th>\n",
       "      <th>product_rating</th>\n",
       "    </tr>\n",
       "  </thead>\n",
       "  <tbody>\n",
       "    <tr>\n",
       "      <th>33160</th>\n",
       "      <td>TXN_2015_00001578_DUP</td>\n",
       "      <td>2015-01-24</td>\n",
       "      <td>CUST_2015_00002994</td>\n",
       "      <td>PROD_000063</td>\n",
       "      <td>OnePlus OnePlus X 32GB Blue</td>\n",
       "      <td>Electronics</td>\n",
       "      <td>Smartphones</td>\n",
       "      <td>OnePlus</td>\n",
       "      <td>75380.48</td>\n",
       "      <td>45.58</td>\n",
       "      <td>...</td>\n",
       "      <td>True</td>\n",
       "      <td>Republic Day Sale</td>\n",
       "      <td>5.0</td>\n",
       "      <td>Delivered</td>\n",
       "      <td>1</td>\n",
       "      <td>2015</td>\n",
       "      <td>1</td>\n",
       "      <td>0.18</td>\n",
       "      <td>True</td>\n",
       "      <td>3.8</td>\n",
       "    </tr>\n",
       "    <tr>\n",
       "      <th>33161</th>\n",
       "      <td>TXN_2015_00004573_DUP</td>\n",
       "      <td>2015-03-01</td>\n",
       "      <td>CUST_2015_00005528</td>\n",
       "      <td>PROD_001546</td>\n",
       "      <td>Dell MacBook 4GB RAM Silver</td>\n",
       "      <td>Electronics</td>\n",
       "      <td>Laptops</td>\n",
       "      <td>Dell</td>\n",
       "      <td>29350.42</td>\n",
       "      <td>22.28</td>\n",
       "      <td>...</td>\n",
       "      <td>True</td>\n",
       "      <td>Holi Festival</td>\n",
       "      <td>4.0</td>\n",
       "      <td>Delivered</td>\n",
       "      <td>3</td>\n",
       "      <td>2015</td>\n",
       "      <td>1</td>\n",
       "      <td>1.21</td>\n",
       "      <td>True</td>\n",
       "      <td>3.4</td>\n",
       "    </tr>\n",
       "    <tr>\n",
       "      <th>33162</th>\n",
       "      <td>TXN_2015_00003696_DUP</td>\n",
       "      <td>2015-02-27</td>\n",
       "      <td>CUST_2015_00011570</td>\n",
       "      <td>PROD_001710</td>\n",
       "      <td>Lenovo Tab M10 8GB RAM Black</td>\n",
       "      <td>Electronics</td>\n",
       "      <td>Tablets</td>\n",
       "      <td>Lenovo</td>\n",
       "      <td>56337.89</td>\n",
       "      <td>23.68</td>\n",
       "      <td>...</td>\n",
       "      <td>False</td>\n",
       "      <td>NaN</td>\n",
       "      <td>NaN</td>\n",
       "      <td>Delivered</td>\n",
       "      <td>2</td>\n",
       "      <td>2015</td>\n",
       "      <td>1</td>\n",
       "      <td>0.49</td>\n",
       "      <td>True</td>\n",
       "      <td>4.1</td>\n",
       "    </tr>\n",
       "    <tr>\n",
       "      <th>33163</th>\n",
       "      <td>TXN_2015_00032368_DUP</td>\n",
       "      <td>2015-12-04</td>\n",
       "      <td>CUST_2015_00005774</td>\n",
       "      <td>PROD_000083</td>\n",
       "      <td>Xiaomi Redmi Note 4G 16GB Blue</td>\n",
       "      <td>Electronics</td>\n",
       "      <td>Smartphones</td>\n",
       "      <td>Xiaomi</td>\n",
       "      <td>33199.84</td>\n",
       "      <td>0.00</td>\n",
       "      <td>...</td>\n",
       "      <td>False</td>\n",
       "      <td>NaN</td>\n",
       "      <td>NaN</td>\n",
       "      <td>Delivered</td>\n",
       "      <td>12</td>\n",
       "      <td>2015</td>\n",
       "      <td>4</td>\n",
       "      <td>0.15</td>\n",
       "      <td>False</td>\n",
       "      <td>4.1</td>\n",
       "    </tr>\n",
       "    <tr>\n",
       "      <th>33164</th>\n",
       "      <td>TXN_2015_00014927_DUP</td>\n",
       "      <td>2015-07-27</td>\n",
       "      <td>CUST_2015_00000326</td>\n",
       "      <td>PROD_000036</td>\n",
       "      <td>Samsung Galaxy S6 Edge 16GB Gold</td>\n",
       "      <td>Electronics</td>\n",
       "      <td>Smartphones</td>\n",
       "      <td>Samsung</td>\n",
       "      <td>88872.68</td>\n",
       "      <td>0.00</td>\n",
       "      <td>...</td>\n",
       "      <td>False</td>\n",
       "      <td>NaN</td>\n",
       "      <td>NaN</td>\n",
       "      <td>Delivered</td>\n",
       "      <td>7</td>\n",
       "      <td>2015</td>\n",
       "      <td>3</td>\n",
       "      <td>0.16</td>\n",
       "      <td>False</td>\n",
       "      <td>3.9</td>\n",
       "    </tr>\n",
       "  </tbody>\n",
       "</table>\n",
       "<p>5 rows × 34 columns</p>\n",
       "</div>"
      ],
      "text/plain": [
       "              transaction_id  order_date         customer_id   product_id  \\\n",
       "33160  TXN_2015_00001578_DUP  2015-01-24  CUST_2015_00002994  PROD_000063   \n",
       "33161  TXN_2015_00004573_DUP  2015-03-01  CUST_2015_00005528  PROD_001546   \n",
       "33162  TXN_2015_00003696_DUP  2015-02-27  CUST_2015_00011570  PROD_001710   \n",
       "33163  TXN_2015_00032368_DUP  2015-12-04  CUST_2015_00005774  PROD_000083   \n",
       "33164  TXN_2015_00014927_DUP  2015-07-27  CUST_2015_00000326  PROD_000036   \n",
       "\n",
       "                           product_name     category  subcategory    brand  \\\n",
       "33160       OnePlus OnePlus X 32GB Blue  Electronics  Smartphones  OnePlus   \n",
       "33161       Dell MacBook 4GB RAM Silver  Electronics      Laptops     Dell   \n",
       "33162      Lenovo Tab M10 8GB RAM Black  Electronics      Tablets   Lenovo   \n",
       "33163    Xiaomi Redmi Note 4G 16GB Blue  Electronics  Smartphones   Xiaomi   \n",
       "33164  Samsung Galaxy S6 Edge 16GB Gold  Electronics  Smartphones  Samsung   \n",
       "\n",
       "      original_price_inr  discount_percent  ...  is_festival_sale  \\\n",
       "33160           75380.48             45.58  ...              True   \n",
       "33161           29350.42             22.28  ...              True   \n",
       "33162           56337.89             23.68  ...             False   \n",
       "33163           33199.84              0.00  ...             False   \n",
       "33164           88872.68              0.00  ...             False   \n",
       "\n",
       "           festival_name  customer_rating  return_status  order_month  \\\n",
       "33160  Republic Day Sale              5.0      Delivered            1   \n",
       "33161      Holi Festival              4.0      Delivered            3   \n",
       "33162                NaN              NaN      Delivered            2   \n",
       "33163                NaN              NaN      Delivered           12   \n",
       "33164                NaN              NaN      Delivered            7   \n",
       "\n",
       "      order_year order_quarter product_weight_kg is_prime_eligible  \\\n",
       "33160       2015             1              0.18              True   \n",
       "33161       2015             1              1.21              True   \n",
       "33162       2015             1              0.49              True   \n",
       "33163       2015             4              0.15             False   \n",
       "33164       2015             3              0.16             False   \n",
       "\n",
       "      product_rating  \n",
       "33160            3.8  \n",
       "33161            3.4  \n",
       "33162            4.1  \n",
       "33163            4.1  \n",
       "33164            3.9  \n",
       "\n",
       "[5 rows x 34 columns]"
      ]
     },
     "execution_count": 5,
     "metadata": {},
     "output_type": "execute_result"
    }
   ],
   "source": [
    "df.tail()"
   ]
  },
  {
   "cell_type": "code",
   "execution_count": 6,
   "id": "807f909d",
   "metadata": {},
   "outputs": [
    {
     "data": {
      "text/plain": [
       "transaction_id                0\n",
       "order_date                    0\n",
       "customer_id                   0\n",
       "product_id                    0\n",
       "product_name                  0\n",
       "category                      0\n",
       "subcategory                   0\n",
       "brand                         0\n",
       "original_price_inr            0\n",
       "discount_percent              0\n",
       "discounted_price_inr          0\n",
       "quantity                      0\n",
       "subtotal_inr                  0\n",
       "delivery_charges           2654\n",
       "final_amount_inr              0\n",
       "customer_city                 0\n",
       "customer_state                0\n",
       "customer_tier                 0\n",
       "customer_spending_tier        0\n",
       "customer_age_group         3976\n",
       "payment_method                0\n",
       "delivery_days                 0\n",
       "delivery_type                 0\n",
       "is_prime_member               0\n",
       "is_festival_sale              0\n",
       "festival_name             22581\n",
       "customer_rating            9969\n",
       "return_status                 0\n",
       "order_month                   0\n",
       "order_year                    0\n",
       "order_quarter                 0\n",
       "product_weight_kg             0\n",
       "is_prime_eligible             0\n",
       "product_rating                0\n",
       "dtype: int64"
      ]
     },
     "execution_count": 6,
     "metadata": {},
     "output_type": "execute_result"
    }
   ],
   "source": [
    "missing_value=df.isnull().sum()\n",
    "missing_value"
   ]
  },
  {
   "cell_type": "code",
   "execution_count": 7,
   "id": "6d03dde5",
   "metadata": {},
   "outputs": [
    {
     "name": "stdout",
     "output_type": "stream",
     "text": [
      "delivery_charges       2654\n",
      "customer_age_group     3976\n",
      "festival_name         22581\n",
      "customer_rating        9969\n",
      "dtype: int64\n",
      "Total missing values: 39180\n",
      "Percentage of missing data: 3.47%\n"
     ]
    }
   ],
   "source": [
    "missing_value=df.isnull().sum()\n",
    "print(missing_value[missing_value>0])\n",
    "\n",
    "print(f\"Total missing values: {df.isnull().sum().sum()}\")\n",
    "\n",
    "print(f\"Percentage of missing data: {df.isnull().sum().sum() / (df.shape[0] * df.shape[1]) * 100:.2f}%\")\n"
   ]
  },
  {
   "cell_type": "code",
   "execution_count": 8,
   "id": "2ba8ada6",
   "metadata": {},
   "outputs": [
    {
     "name": "stdout",
     "output_type": "stream",
     "text": [
      "<class 'pandas.core.frame.DataFrame'>\n",
      "RangeIndex: 33165 entries, 0 to 33164\n",
      "Data columns (total 34 columns):\n",
      " #   Column                  Non-Null Count  Dtype  \n",
      "---  ------                  --------------  -----  \n",
      " 0   transaction_id          33165 non-null  object \n",
      " 1   order_date              33165 non-null  object \n",
      " 2   customer_id             33165 non-null  object \n",
      " 3   product_id              33165 non-null  object \n",
      " 4   product_name            33165 non-null  object \n",
      " 5   category                33165 non-null  object \n",
      " 6   subcategory             33165 non-null  object \n",
      " 7   brand                   33165 non-null  object \n",
      " 8   original_price_inr      33165 non-null  object \n",
      " 9   discount_percent        33165 non-null  float64\n",
      " 10  discounted_price_inr    33165 non-null  float64\n",
      " 11  quantity                33165 non-null  int64  \n",
      " 12  subtotal_inr            33165 non-null  float64\n",
      " 13  delivery_charges        30511 non-null  float64\n",
      " 14  final_amount_inr        33165 non-null  float64\n",
      " 15  customer_city           33165 non-null  object \n",
      " 16  customer_state          33165 non-null  object \n",
      " 17  customer_tier           33165 non-null  object \n",
      " 18  customer_spending_tier  33165 non-null  object \n",
      " 19  customer_age_group      29189 non-null  object \n",
      " 20  payment_method          33165 non-null  object \n",
      " 21  delivery_days           33165 non-null  object \n",
      " 22  delivery_type           33165 non-null  object \n",
      " 23  is_prime_member         33165 non-null  object \n",
      " 24  is_festival_sale        33165 non-null  object \n",
      " 25  festival_name           10584 non-null  object \n",
      " 26  customer_rating         23196 non-null  object \n",
      " 27  return_status           33165 non-null  object \n",
      " 28  order_month             33165 non-null  int64  \n",
      " 29  order_year              33165 non-null  int64  \n",
      " 30  order_quarter           33165 non-null  int64  \n",
      " 31  product_weight_kg       33165 non-null  float64\n",
      " 32  is_prime_eligible       33165 non-null  object \n",
      " 33  product_rating          33165 non-null  float64\n",
      "dtypes: float64(7), int64(4), object(23)\n",
      "memory usage: 8.6+ MB\n"
     ]
    }
   ],
   "source": [
    "df.info()"
   ]
  },
  {
   "cell_type": "code",
   "execution_count": 9,
   "id": "ffcb0ea8",
   "metadata": {},
   "outputs": [
    {
     "name": "stdout",
     "output_type": "stream",
     "text": [
      "datetime64[ns]\n"
     ]
    }
   ],
   "source": [
    "import pandas as pd\n",
    "\n",
    "# Convert orderdate  to datetime\n",
    "df['order_date'] = pd.to_datetime(df['order_date'], errors='coerce')\n",
    "\n",
    "\n",
    "print(df['order_date'].dtypes)"
   ]
  },
  {
   "cell_type": "code",
   "execution_count": 10,
   "id": "846bc851",
   "metadata": {},
   "outputs": [
    {
     "data": {
      "text/plain": [
       "0    2015-01-25\n",
       "1    2015-01-05\n",
       "2    2015-01-24\n",
       "3    2015-01-28\n",
       "4    2015-01-31\n",
       "5    2015-01-04\n",
       "6    2015-01-27\n",
       "7    2015-01-08\n",
       "8    2015-01-18\n",
       "9    2015-01-03\n",
       "10   2015-01-25\n",
       "11   2015-01-15\n",
       "12   2015-01-26\n",
       "13   2015-01-11\n",
       "14   2015-01-08\n",
       "15   2015-01-07\n",
       "16   2015-01-25\n",
       "17   2015-01-08\n",
       "18   2015-01-06\n",
       "19   2015-01-11\n",
       "20   2015-01-06\n",
       "21   2015-01-04\n",
       "22   2015-01-13\n",
       "23   2015-01-10\n",
       "24   2015-01-03\n",
       "25   2015-01-14\n",
       "26   2015-01-14\n",
       "27   2015-01-04\n",
       "28   2015-01-17\n",
       "29   2015-01-12\n",
       "30   2015-01-12\n",
       "31   2015-01-18\n",
       "32   2015-01-16\n",
       "33   2015-01-05\n",
       "34   2015-01-15\n",
       "35   2015-01-06\n",
       "36   2015-01-15\n",
       "37   2015-01-23\n",
       "38   2015-01-06\n",
       "39          NaT\n",
       "40   2015-01-26\n",
       "41          NaT\n",
       "42   2015-01-03\n",
       "43   2015-01-15\n",
       "44   2015-01-06\n",
       "Name: order_date, dtype: datetime64[ns]"
      ]
     },
     "execution_count": 10,
     "metadata": {},
     "output_type": "execute_result"
    }
   ],
   "source": [
    "df[\"order_date\"].head(45)\n",
    "#40no"
   ]
  },
  {
   "cell_type": "code",
   "execution_count": 11,
   "id": "7a4900b1",
   "metadata": {},
   "outputs": [
    {
     "name": "stdout",
     "output_type": "stream",
     "text": [
      "3252\n"
     ]
    }
   ],
   "source": [
    "\n",
    "\n",
    "# Standardize format to 'YYYY-MM-DD' (string)\n",
    "df['order_date'] = df['order_date'].dt.strftime('%Y-%m-%d')\n",
    "\n",
    "# Check invalid entries (NaT after coercion → NaN in string)\n",
    "print(df['order_date'].isna().sum())\n"
   ]
  },
  {
   "cell_type": "code",
   "execution_count": 12,
   "id": "96401d27",
   "metadata": {},
   "outputs": [
    {
     "data": {
      "text/plain": [
       "0     2015-01-25\n",
       "1     2015-01-05\n",
       "2     2015-01-24\n",
       "3     2015-01-28\n",
       "4     2015-01-31\n",
       "5     2015-01-04\n",
       "6     2015-01-27\n",
       "7     2015-01-08\n",
       "8     2015-01-18\n",
       "9     2015-01-03\n",
       "10    2015-01-25\n",
       "11    2015-01-15\n",
       "12    2015-01-26\n",
       "13    2015-01-11\n",
       "14    2015-01-08\n",
       "15    2015-01-07\n",
       "16    2015-01-25\n",
       "17    2015-01-08\n",
       "18    2015-01-06\n",
       "19    2015-01-11\n",
       "20    2015-01-06\n",
       "21    2015-01-04\n",
       "22    2015-01-13\n",
       "23    2015-01-10\n",
       "24    2015-01-03\n",
       "25    2015-01-14\n",
       "26    2015-01-14\n",
       "27    2015-01-04\n",
       "28    2015-01-17\n",
       "29    2015-01-12\n",
       "30    2015-01-12\n",
       "31    2015-01-18\n",
       "32    2015-01-16\n",
       "33    2015-01-05\n",
       "34    2015-01-15\n",
       "35    2015-01-06\n",
       "36    2015-01-15\n",
       "37    2015-01-23\n",
       "38    2015-01-06\n",
       "39           NaN\n",
       "40    2015-01-26\n",
       "41           NaN\n",
       "42    2015-01-03\n",
       "43    2015-01-15\n",
       "44    2015-01-06\n",
       "Name: order_date, dtype: object"
      ]
     },
     "execution_count": 12,
     "metadata": {},
     "output_type": "execute_result"
    }
   ],
   "source": [
    "df[\"order_date\"].head(45)"
   ]
  },
  {
   "cell_type": "code",
   "execution_count": 13,
   "id": "10cd1cbf",
   "metadata": {},
   "outputs": [
    {
     "name": "stdout",
     "output_type": "stream",
     "text": [
      "Remaining rows after cleaning: 29913\n",
      "0\n"
     ]
    }
   ],
   "source": [
    "# Remove rows where order_date is NaN (invalid after conversion)\n",
    "df = df.dropna(subset=['order_date'])\n",
    "\n",
    "print(\"Remaining rows after cleaning:\", len(df))\n",
    "\n",
    "\n",
    "\n",
    "print(df['order_date'].isna().sum())\n"
   ]
  },
  {
   "cell_type": "code",
   "execution_count": 14,
   "id": "90db5e6d",
   "metadata": {},
   "outputs": [
    {
     "name": "stdout",
     "output_type": "stream",
     "text": [
      "10500\n"
     ]
    }
   ],
   "source": [
    "#Filling the data\n",
    "\n",
    "\n",
    "#converting into numeric\n",
    "df['customer_rating'] = pd.to_numeric(df['customer_rating'], errors='coerce')\n",
    "\n",
    "print(df['customer_rating'].isna().sum())"
   ]
  },
  {
   "cell_type": "markdown",
   "id": "14c64d31",
   "metadata": {},
   "source": [
    "# imputer"
   ]
  },
  {
   "cell_type": "code",
   "execution_count": 15,
   "id": "1d69d361",
   "metadata": {},
   "outputs": [
    {
     "data": {
      "text/html": [
       "<div>\n",
       "<style scoped>\n",
       "    .dataframe tbody tr th:only-of-type {\n",
       "        vertical-align: middle;\n",
       "    }\n",
       "\n",
       "    .dataframe tbody tr th {\n",
       "        vertical-align: top;\n",
       "    }\n",
       "\n",
       "    .dataframe thead th {\n",
       "        text-align: right;\n",
       "    }\n",
       "</style>\n",
       "<table border=\"1\" class=\"dataframe\">\n",
       "  <thead>\n",
       "    <tr style=\"text-align: right;\">\n",
       "      <th></th>\n",
       "      <th>customer_rating</th>\n",
       "      <th>delivery_charges</th>\n",
       "    </tr>\n",
       "  </thead>\n",
       "  <tbody>\n",
       "    <tr>\n",
       "      <th>0</th>\n",
       "      <td>5.000000</td>\n",
       "      <td>0.0</td>\n",
       "    </tr>\n",
       "    <tr>\n",
       "      <th>1</th>\n",
       "      <td>4.500000</td>\n",
       "      <td>0.0</td>\n",
       "    </tr>\n",
       "    <tr>\n",
       "      <th>2</th>\n",
       "      <td>4.328517</td>\n",
       "      <td>0.0</td>\n",
       "    </tr>\n",
       "    <tr>\n",
       "      <th>3</th>\n",
       "      <td>3.000000</td>\n",
       "      <td>0.0</td>\n",
       "    </tr>\n",
       "    <tr>\n",
       "      <th>4</th>\n",
       "      <td>4.000000</td>\n",
       "      <td>0.0</td>\n",
       "    </tr>\n",
       "    <tr>\n",
       "      <th>...</th>\n",
       "      <td>...</td>\n",
       "      <td>...</td>\n",
       "    </tr>\n",
       "    <tr>\n",
       "      <th>29908</th>\n",
       "      <td>5.000000</td>\n",
       "      <td>0.0</td>\n",
       "    </tr>\n",
       "    <tr>\n",
       "      <th>29909</th>\n",
       "      <td>4.000000</td>\n",
       "      <td>0.0</td>\n",
       "    </tr>\n",
       "    <tr>\n",
       "      <th>29910</th>\n",
       "      <td>4.328517</td>\n",
       "      <td>0.0</td>\n",
       "    </tr>\n",
       "    <tr>\n",
       "      <th>29911</th>\n",
       "      <td>4.328517</td>\n",
       "      <td>0.0</td>\n",
       "    </tr>\n",
       "    <tr>\n",
       "      <th>29912</th>\n",
       "      <td>4.328517</td>\n",
       "      <td>0.0</td>\n",
       "    </tr>\n",
       "  </tbody>\n",
       "</table>\n",
       "<p>29913 rows × 2 columns</p>\n",
       "</div>"
      ],
      "text/plain": [
       "       customer_rating  delivery_charges\n",
       "0             5.000000               0.0\n",
       "1             4.500000               0.0\n",
       "2             4.328517               0.0\n",
       "3             3.000000               0.0\n",
       "4             4.000000               0.0\n",
       "...                ...               ...\n",
       "29908         5.000000               0.0\n",
       "29909         4.000000               0.0\n",
       "29910         4.328517               0.0\n",
       "29911         4.328517               0.0\n",
       "29912         4.328517               0.0\n",
       "\n",
       "[29913 rows x 2 columns]"
      ]
     },
     "execution_count": 15,
     "metadata": {},
     "output_type": "execute_result"
    }
   ],
   "source": [
    "# question 3 \n",
    "from sklearn.experimental import enable_iterative_imputer # Required for experimental feature\n",
    "from sklearn.impute import IterativeImputer\n",
    "from sklearn.linear_model import BayesianRidge\n",
    "\n",
    "\n",
    "imputer = IterativeImputer(estimator=BayesianRidge(), max_iter=10, random_state=0)\n",
    "\n",
    "num_cols = [\"customer_rating\", \"delivery_charges\"]\n",
    "num_data = df[num_cols]  # same index as df\n",
    "imputed_array = imputer.fit_transform(num_data)\n",
    "\n",
    "\n",
    "imputed_num_data = pd.DataFrame(imputed_array, columns=num_cols)\n",
    "\n",
    "imputed_num_data"
   ]
  },
  {
   "cell_type": "code",
   "execution_count": 16,
   "id": "12a77a85",
   "metadata": {},
   "outputs": [
    {
     "name": "stdout",
     "output_type": "stream",
     "text": [
      "<class 'pandas.core.frame.DataFrame'>\n",
      "RangeIndex: 29913 entries, 0 to 29912\n",
      "Data columns (total 2 columns):\n",
      " #   Column            Non-Null Count  Dtype  \n",
      "---  ------            --------------  -----  \n",
      " 0   customer_rating   29913 non-null  float64\n",
      " 1   delivery_charges  29913 non-null  float64\n",
      "dtypes: float64(2)\n",
      "memory usage: 467.5 KB\n"
     ]
    }
   ],
   "source": [
    "imputed_num_data.info()"
   ]
  },
  {
   "cell_type": "code",
   "execution_count": 17,
   "id": "5afe6374",
   "metadata": {},
   "outputs": [
    {
     "name": "stdout",
     "output_type": "stream",
     "text": [
      "<class 'pandas.core.series.Series'>\n",
      "Index: 29913 entries, 0 to 33164\n",
      "Series name: customer_age_group\n",
      "Non-Null Count  Dtype \n",
      "--------------  ----- \n",
      "29913 non-null  object\n",
      "dtypes: object(1)\n",
      "memory usage: 467.4+ KB\n"
     ]
    }
   ],
   "source": [
    "#now fill the categorical data\n",
    "\n",
    "df['customer_age_group'] = df['customer_age_group'].fillna(df['customer_age_group'].mode()[0])\n",
    "df['customer_age_group'].info()"
   ]
  },
  {
   "cell_type": "code",
   "execution_count": 18,
   "id": "924a6fd2",
   "metadata": {},
   "outputs": [],
   "source": [
    "#dropping this column because 23000 null value\n",
    "\n",
    "df = df.drop(columns=['festival_name'])\n"
   ]
  },
  {
   "cell_type": "code",
   "execution_count": 19,
   "id": "0a1110bd",
   "metadata": {},
   "outputs": [],
   "source": [
    "df[[\"customer_rating\",\"delivery_charges\"]] = imputed_num_data\n"
   ]
  },
  {
   "cell_type": "code",
   "execution_count": 20,
   "id": "ca4bde98",
   "metadata": {},
   "outputs": [
    {
     "name": "stdout",
     "output_type": "stream",
     "text": [
      "<class 'pandas.core.frame.DataFrame'>\n",
      "Index: 29913 entries, 0 to 33164\n",
      "Data columns (total 33 columns):\n",
      " #   Column                  Non-Null Count  Dtype  \n",
      "---  ------                  --------------  -----  \n",
      " 0   transaction_id          29913 non-null  object \n",
      " 1   order_date              29913 non-null  object \n",
      " 2   customer_id             29913 non-null  object \n",
      " 3   product_id              29913 non-null  object \n",
      " 4   product_name            29913 non-null  object \n",
      " 5   category                29913 non-null  object \n",
      " 6   subcategory             29913 non-null  object \n",
      " 7   brand                   29913 non-null  object \n",
      " 8   original_price_inr      29913 non-null  object \n",
      " 9   discount_percent        29913 non-null  float64\n",
      " 10  discounted_price_inr    29913 non-null  float64\n",
      " 11  quantity                29913 non-null  int64  \n",
      " 12  subtotal_inr            29913 non-null  float64\n",
      " 13  delivery_charges        26957 non-null  float64\n",
      " 14  final_amount_inr        29913 non-null  float64\n",
      " 15  customer_city           29913 non-null  object \n",
      " 16  customer_state          29913 non-null  object \n",
      " 17  customer_tier           29913 non-null  object \n",
      " 18  customer_spending_tier  29913 non-null  object \n",
      " 19  customer_age_group      29913 non-null  object \n",
      " 20  payment_method          29913 non-null  object \n",
      " 21  delivery_days           29913 non-null  object \n",
      " 22  delivery_type           29913 non-null  object \n",
      " 23  is_prime_member         29913 non-null  object \n",
      " 24  is_festival_sale        29913 non-null  object \n",
      " 25  customer_rating         26957 non-null  float64\n",
      " 26  return_status           29913 non-null  object \n",
      " 27  order_month             29913 non-null  int64  \n",
      " 28  order_year              29913 non-null  int64  \n",
      " 29  order_quarter           29913 non-null  int64  \n",
      " 30  product_weight_kg       29913 non-null  float64\n",
      " 31  is_prime_eligible       29913 non-null  object \n",
      " 32  product_rating          29913 non-null  float64\n",
      "dtypes: float64(8), int64(4), object(21)\n",
      "memory usage: 7.8+ MB\n"
     ]
    }
   ],
   "source": [
    "df.info()"
   ]
  },
  {
   "cell_type": "markdown",
   "id": "2251fa78",
   "metadata": {},
   "source": [
    "# -----------------------------------------------------------------------------"
   ]
  },
  {
   "cell_type": "code",
   "execution_count": 21,
   "id": "0f2714f9",
   "metadata": {},
   "outputs": [
    {
     "name": "stdout",
     "output_type": "stream",
     "text": [
      "<class 'pandas.core.series.Series'>\n",
      "Index: 29913 entries, 0 to 33164\n",
      "Series name: original_price_inr\n",
      "Non-Null Count  Dtype  \n",
      "--------------  -----  \n",
      "29023 non-null  float64\n",
      "dtypes: float64(1)\n",
      "memory usage: 467.4 KB\n",
      "None\n",
      "890\n",
      "0\n"
     ]
    }
   ],
   "source": [
    "# Question 2\n",
    "# The original_price_inr column contains mixed data types: numeric values, text with '₹' symbols, comma separators \n",
    "# ('₹1,25,000'), and some entries like 'Price on Request'. Clean this column to contain only numeric values in Indian Rupees.\n",
    "\n",
    "\n",
    "df['original_price_inr'] = df['original_price_inr'].astype(str) \\\n",
    "                           .str.replace('₹','', regex=False) \\\n",
    "                           .str.replace(',','', regex=False)\n",
    "\n",
    "# Converting to numeric\n",
    "df['original_price_inr'] = pd.to_numeric(df['original_price_inr'], errors='coerce')\n",
    "\n",
    "\n",
    "print(df['original_price_inr'].info())\n",
    "print(df[\"original_price_inr\"].isnull().sum())\n",
    "\n",
    "\n",
    "df['original_price_inr'] = df['original_price_inr'].fillna(df['original_price_inr'].mean())\n",
    "print(df['original_price_inr'].isnull().sum())"
   ]
  },
  {
   "cell_type": "markdown",
   "id": "e58b553c",
   "metadata": {},
   "source": [
    "# -----------------------------------------------------------------------------"
   ]
  },
  {
   "cell_type": "markdown",
   "id": "e1a57ebf",
   "metadata": {},
   "source": [
    "# 4(customer_city)"
   ]
  },
  {
   "cell_type": "code",
   "execution_count": 22,
   "id": "7dbe75a5",
   "metadata": {},
   "outputs": [
    {
     "name": "stdout",
     "output_type": "stream",
     "text": [
      "['Mumbai' 'Allahabad' 'Kolkata' 'Ludhiana' 'Delhi' 'Lucknow' 'Jaipur'\n",
      " 'Bhubaneswar' 'Ahmedabad' 'Bangalore' 'Pune' 'Kochi' 'Chennai' 'Nagpur'\n",
      " 'Visakhapatnam' 'mumba' 'Gorakhpur' 'Bombay' 'Kanpur' 'Chandigarh'\n",
      " 'Hyderabad' 'Aligarh' 'Indore' 'Patna' 'Meerut' 'Vadodara' 'Saharanpur'\n",
      " 'Bareilly' 'Coimbatore' 'BANGALORE' 'Moradabad' 'New Delhi' 'Surat'\n",
      " 'KOLKATA' 'Banglore' 'Madras' 'chenai' 'Delhi NCR' 'Varanasi' 'Bengalore'\n",
      " 'Bengaluru' 'MUMBAI' 'Kolkata ' 'Calcutta' 'delhi' 'CHENNAI' 'Chennai '\n",
      " 'kolkata' 'Mumbai ' 'DELHI']\n"
     ]
    }
   ],
   "source": [
    "print(df['customer_city'].unique())"
   ]
  },
  {
   "cell_type": "code",
   "execution_count": 23,
   "id": "d432d46c",
   "metadata": {},
   "outputs": [],
   "source": [
    "\n",
    "df['customer_city'] = df['customer_city'].str.strip().str.lower()\n",
    "\n",
    "CITY = {\n",
    "    \"bangalore\": \"Bengaluru\",\n",
    "    \"bengaluru\": \"Bengaluru\",\n",
    "    \"banglore\": \"Bengaluru\",\n",
    "    \"bengalore\": \"Bengaluru\",\n",
    "    \"bangluru\": \"Bengaluru\",\n",
    "\n",
    "    \"bombay\": \"Mumbai\",\n",
    "    \"mumbai\": \"Mumbai\",\n",
    "    \"mumba\": \"Mumbai\",\n",
    "    \"mumbai \": \"Mumbai\",\n",
    "\n",
    "    \"new delhi\": \"Delhi\",\n",
    "    \"delhi\": \"Delhi\",\n",
    "    \"delhi ncr\": \"Delhi\",\n",
    "\n",
    "    \"kolkata\": \"Kolkata\",\n",
    "    \"kolkata \": \"Kolkata\",\n",
    "    \"calcutta\": \"Kolkata\",\n",
    "    \"kolkatta\": \"Kolkata\",\n",
    "\n",
    "    \"chennai\": \"Chennai\",\n",
    "    \"chenai\": \"Chennai\",\n",
    "    \"chennai \": \"Chennai\",\n",
    "    \"madras\": \"Chennai\",\n",
    "}\n",
    "\n",
    "\n",
    "df[\"customer_city\"]=df[\"customer_city\"].replace(CITY)\n",
    "\n",
    "\n",
    "df['customer_city'] = df['customer_city'].str.title() #captailize first letter\n"
   ]
  },
  {
   "cell_type": "code",
   "execution_count": 24,
   "id": "de7b1210",
   "metadata": {},
   "outputs": [
    {
     "name": "stdout",
     "output_type": "stream",
     "text": [
      "['Mumbai' 'Allahabad' 'Kolkata' 'Ludhiana' 'Delhi' 'Lucknow' 'Jaipur'\n",
      " 'Bhubaneswar' 'Ahmedabad' 'Bengaluru' 'Pune' 'Kochi' 'Chennai' 'Nagpur'\n",
      " 'Visakhapatnam' 'Gorakhpur' 'Kanpur' 'Chandigarh' 'Hyderabad' 'Aligarh'\n",
      " 'Indore' 'Patna' 'Meerut' 'Vadodara' 'Saharanpur' 'Bareilly' 'Coimbatore'\n",
      " 'Moradabad' 'Surat' 'Varanasi']\n"
     ]
    }
   ],
   "source": [
    "print(df['customer_city'].unique())"
   ]
  },
  {
   "cell_type": "code",
   "execution_count": 25,
   "id": "04b4d101",
   "metadata": {},
   "outputs": [
    {
     "name": "stdout",
     "output_type": "stream",
     "text": [
      "<class 'pandas.core.series.Series'>\n",
      "Index: 29913 entries, 0 to 33164\n",
      "Series name: customer_city\n",
      "Non-Null Count  Dtype \n",
      "--------------  ----- \n",
      "29913 non-null  object\n",
      "dtypes: object(1)\n",
      "memory usage: 467.4+ KB\n"
     ]
    }
   ],
   "source": [
    "df[\"customer_city\"].info()"
   ]
  },
  {
   "cell_type": "markdown",
   "id": "6f02427d",
   "metadata": {},
   "source": [
    "# -----------------------------------------------------------------------------"
   ]
  },
  {
   "cell_type": "code",
   "execution_count": 26,
   "id": "ff5bb187",
   "metadata": {},
   "outputs": [],
   "source": [
    "# Question 5\n",
    "# Boolean columns (is_prime_member, is_prime_eligible, is_festival_sale) contain mixed values:\n",
    "# True/False, Yes/No, 1/0, Y/N, and some missing entries. Convert all boolean columns to consistent True/False format.\n"
   ]
  },
  {
   "cell_type": "code",
   "execution_count": 27,
   "id": "a003e9a5",
   "metadata": {},
   "outputs": [
    {
     "name": "stdout",
     "output_type": "stream",
     "text": [
      "['True' 'No' 'False' 'TRUE' '1' 'Yes' '0' 'FALSE']\n",
      "['True' 'False' 'FALSE' 'No' '0' 'Yes' 'TRUE' '1']\n",
      "['No' 'False' 'FALSE' '0']\n"
     ]
    }
   ],
   "source": [
    "print(df[\"is_prime_eligible\"].unique())\n",
    "print(df[\"is_festival_sale\"].unique())\n",
    "print(df[\"is_prime_member\"].unique())"
   ]
  },
  {
   "cell_type": "code",
   "execution_count": 28,
   "id": "651238bf",
   "metadata": {},
   "outputs": [
    {
     "name": "stderr",
     "output_type": "stream",
     "text": [
      "C:\\Users\\offic\\AppData\\Local\\Temp\\ipykernel_14916\\1761372029.py:14: FutureWarning: Downcasting behavior in `replace` is deprecated and will be removed in a future version. To retain the old behavior, explicitly call `result.infer_objects(copy=False)`. To opt-in to the future behavior, set `pd.set_option('future.no_silent_downcasting', True)`\n",
      "  df[[\"is_prime_eligible\",\"is_festival_sale\",\"is_prime_member\"]] = df[[\"is_prime_eligible\",\"is_festival_sale\",\"is_prime_member\"]].replace(boolian).astype(bool)\n"
     ]
    }
   ],
   "source": [
    "#Here set the all boolin true/false and set type bool from object\n",
    "\n",
    "boolian={\n",
    "    \"TRUE\": True,\n",
    "    \"FALSE\": False,\n",
    "    \"No\": False,\n",
    "    \"1\": True,\n",
    "    \"0\": False,\n",
    "    \"Yes\": True,\n",
    "    \"True\": True,\n",
    "    \"False\": False\n",
    "}\n",
    "\n",
    "df[[\"is_prime_eligible\",\"is_festival_sale\",\"is_prime_member\"]] = df[[\"is_prime_eligible\",\"is_festival_sale\",\"is_prime_member\"]].replace(boolian).astype(bool)"
   ]
  },
  {
   "cell_type": "code",
   "execution_count": 29,
   "id": "e3c50d8c",
   "metadata": {},
   "outputs": [
    {
     "name": "stdout",
     "output_type": "stream",
     "text": [
      "[ True False]\n",
      "[ True False]\n",
      "[False]\n"
     ]
    }
   ],
   "source": [
    "print(df[\"is_prime_eligible\"].unique())\n",
    "print(df[\"is_festival_sale\"].unique())\n",
    "print(df[\"is_prime_member\"].unique())"
   ]
  },
  {
   "cell_type": "code",
   "execution_count": 30,
   "id": "7d7e52c7",
   "metadata": {},
   "outputs": [
    {
     "name": "stdout",
     "output_type": "stream",
     "text": [
      "<class 'pandas.core.frame.DataFrame'>\n",
      "Index: 29913 entries, 0 to 33164\n",
      "Data columns (total 3 columns):\n",
      " #   Column             Non-Null Count  Dtype\n",
      "---  ------             --------------  -----\n",
      " 0   is_prime_eligible  29913 non-null  bool \n",
      " 1   is_festival_sale   29913 non-null  bool \n",
      " 2   is_prime_member    29913 non-null  bool \n",
      "dtypes: bool(3)\n",
      "memory usage: 321.3 KB\n"
     ]
    }
   ],
   "source": [
    "df[[\"is_prime_eligible\",\"is_festival_sale\",\"is_prime_member\"]].info()"
   ]
  },
  {
   "cell_type": "markdown",
   "id": "bde3a4d5",
   "metadata": {},
   "source": [
    "# -----------------------------------------------------------------------------"
   ]
  },
  {
   "cell_type": "code",
   "execution_count": 31,
   "id": "a3c72346",
   "metadata": {},
   "outputs": [],
   "source": [
    "# Question 6\n",
    "# Product categories have variations: 'Electronics/Electronic/ELECTRONICS/Electronics & Accessories'. \n",
    "# Standardize category names across the dataset and ensure consistent naming conventions.\n"
   ]
  },
  {
   "cell_type": "code",
   "execution_count": 32,
   "id": "f2d75070",
   "metadata": {},
   "outputs": [
    {
     "data": {
      "text/plain": [
       "array(['Electronics', 'ELECTRONICS', 'Electronics & Accessories',\n",
       "       'Electronic', 'Electronicss'], dtype=object)"
      ]
     },
     "execution_count": 32,
     "metadata": {},
     "output_type": "execute_result"
    }
   ],
   "source": [
    "df[\"category\"].unique()"
   ]
  },
  {
   "cell_type": "code",
   "execution_count": 33,
   "id": "e3653e36",
   "metadata": {},
   "outputs": [],
   "source": [
    "#  Normalize to lowercase \n",
    "df['category'] = df['category'].str.strip().str.lower()\n",
    "\n",
    "#  Define a mapping for variations\n",
    "CATEGORY_MAP = {\n",
    "    \"electronics\": \"Electronics\",\n",
    "    \"electronic\": \"Electronics\",\n",
    "    \"electronics & accessories\": \"Electronics\",\n",
    "    \"electronicss\": \"Electronics\"\n",
    "    \n",
    "}\n",
    "\n",
    "# mapping\n",
    "df['category'] = df['category'].replace(CATEGORY_MAP)\n",
    "\n",
    "#  title case for display\n",
    "df['category'] = df['category'].str.title()\n",
    "\n",
    "\n",
    "# print(df['category'].unique())\n"
   ]
  },
  {
   "cell_type": "code",
   "execution_count": 34,
   "id": "42669e85",
   "metadata": {},
   "outputs": [
    {
     "name": "stdout",
     "output_type": "stream",
     "text": [
      "['Electronics']\n"
     ]
    }
   ],
   "source": [
    "print(df['category'].unique())"
   ]
  },
  {
   "cell_type": "code",
   "execution_count": 35,
   "id": "1bc4b5a8",
   "metadata": {},
   "outputs": [
    {
     "name": "stdout",
     "output_type": "stream",
     "text": [
      "<class 'pandas.core.series.Series'>\n",
      "Index: 29913 entries, 0 to 33164\n",
      "Series name: category\n",
      "Non-Null Count  Dtype \n",
      "--------------  ----- \n",
      "29913 non-null  object\n",
      "dtypes: object(1)\n",
      "memory usage: 467.4+ KB\n"
     ]
    }
   ],
   "source": [
    "df['category'].info()"
   ]
  },
  {
   "cell_type": "markdown",
   "id": "dcd7bfaa",
   "metadata": {},
   "source": [
    "# -----------------------------------------------------------------------------"
   ]
  },
  {
   "cell_type": "code",
   "execution_count": 36,
   "id": "d517e898",
   "metadata": {},
   "outputs": [],
   "source": [
    "# Question 7\n",
    "# The delivery_days column contains negative values, text entries like 'Same Day', '1-2 days', \n",
    "# and some unrealistic values like 50 days. Clean this column to contain only valid numeric delivery days.\n"
   ]
  },
  {
   "cell_type": "code",
   "execution_count": 37,
   "id": "5bc19304",
   "metadata": {},
   "outputs": [
    {
     "data": {
      "text/plain": [
       "array(['6', '4', '3', '5', '7', 'Express', '0', '-1', 'Same Day',\n",
       "       '1-2 days', '15'], dtype=object)"
      ]
     },
     "execution_count": 37,
     "metadata": {},
     "output_type": "execute_result"
    }
   ],
   "source": [
    "df[\"delivery_days\"].unique()"
   ]
  },
  {
   "cell_type": "code",
   "execution_count": 38,
   "id": "703e19bd",
   "metadata": {},
   "outputs": [],
   "source": [
    "mapping = {\n",
    "    'Same Day': 0,\n",
    "    '1-2 days': 1,\n",
    "    'Express': 0\n",
    "}\n",
    "\n",
    "def convert(value):\n",
    "    if value in mapping:\n",
    "        return mapping[value]\n",
    "    try:\n",
    "        return int(value)\n",
    "    except ValueError:\n",
    "        return -1 \n",
    "    \n",
    "\n",
    "df[\"delivery_days\"]=df[\"delivery_days\"].apply(convert)\n",
    "\n",
    "#now convert into type as integer\n",
    "\n",
    "df[\"delivery_days\"] = pd.to_numeric(df[\"delivery_days\"], errors='coerce')\n",
    "\n",
    "    \n",
    "    "
   ]
  },
  {
   "cell_type": "code",
   "execution_count": 39,
   "id": "dfc9acd1",
   "metadata": {},
   "outputs": [
    {
     "name": "stdout",
     "output_type": "stream",
     "text": [
      "<class 'pandas.core.series.Series'>\n",
      "Index: 29913 entries, 0 to 33164\n",
      "Series name: delivery_days\n",
      "Non-Null Count  Dtype\n",
      "--------------  -----\n",
      "29913 non-null  int64\n",
      "dtypes: int64(1)\n",
      "memory usage: 467.4 KB\n"
     ]
    }
   ],
   "source": [
    "df[\"delivery_days\"].info()"
   ]
  },
  {
   "cell_type": "code",
   "execution_count": 40,
   "id": "843a42dc",
   "metadata": {},
   "outputs": [
    {
     "name": "stdout",
     "output_type": "stream",
     "text": [
      "Invalid entries: 189\n"
     ]
    }
   ],
   "source": [
    "# Counting invalid entries there are\n",
    "invalid_count = (df[\"delivery_days\"] == -1).sum()\n",
    "print(f\"Invalid entries: {invalid_count}\")\n"
   ]
  },
  {
   "cell_type": "code",
   "execution_count": 41,
   "id": "7bb5da46",
   "metadata": {},
   "outputs": [
    {
     "name": "stdout",
     "output_type": "stream",
     "text": [
      "0\n"
     ]
    }
   ],
   "source": [
    "from sklearn.experimental import enable_iterative_imputer  # noqa\n",
    "from sklearn.impute import IterativeImputer\n",
    "from sklearn.linear_model import BayesianRidge\n",
    "\n",
    "\n",
    "df[\"delivery_days\"] = df[\"delivery_days\"].replace(-1, np.nan)\n",
    "\n",
    "# using iterative imputer\n",
    "imputer=IterativeImputer(estimator=BayesianRidge(),max_iter=10, random_state=0)\n",
    "\n",
    "df[[\"delivery_days\"]] = imputer.fit_transform(df[[\"delivery_days\"]])\n",
    "\n",
    "# Convert to integer \n",
    "df[\"delivery_days\"] = df[\"delivery_days\"].round().astype(int)\n",
    "\n",
    "print(df[\"delivery_days\"].isna().sum())\n",
    "\n"
   ]
  },
  {
   "cell_type": "code",
   "execution_count": 42,
   "id": "eb84f693",
   "metadata": {},
   "outputs": [
    {
     "name": "stdout",
     "output_type": "stream",
     "text": [
      "<class 'pandas.core.series.Series'>\n",
      "Index: 29913 entries, 0 to 33164\n",
      "Series name: delivery_days\n",
      "Non-Null Count  Dtype\n",
      "--------------  -----\n",
      "29913 non-null  int64\n",
      "dtypes: int64(1)\n",
      "memory usage: 467.4 KB\n"
     ]
    }
   ],
   "source": [
    "df[\"delivery_days\"].info()"
   ]
  },
  {
   "cell_type": "markdown",
   "id": "e7991dc1",
   "metadata": {},
   "source": [
    "# -----------------------------------------------------------------------------"
   ]
  },
  {
   "cell_type": "markdown",
   "id": "1c8d6648",
   "metadata": {},
   "source": [
    "Question 8\n",
    "Identify and handle duplicate transactions where the same customer, product, date, and amount appear multiple times. Some duplicates are genuine (bulk orders) while others are data errors. Develop a strategy to distinguish and handle both cases.\n"
   ]
  },
  {
   "cell_type": "code",
   "execution_count": 43,
   "id": "9dbb91a4",
   "metadata": {},
   "outputs": [
    {
     "data": {
      "text/html": [
       "<div>\n",
       "<style scoped>\n",
       "    .dataframe tbody tr th:only-of-type {\n",
       "        vertical-align: middle;\n",
       "    }\n",
       "\n",
       "    .dataframe tbody tr th {\n",
       "        vertical-align: top;\n",
       "    }\n",
       "\n",
       "    .dataframe thead th {\n",
       "        text-align: right;\n",
       "    }\n",
       "</style>\n",
       "<table border=\"1\" class=\"dataframe\">\n",
       "  <thead>\n",
       "    <tr style=\"text-align: right;\">\n",
       "      <th></th>\n",
       "      <th>product_id</th>\n",
       "      <th>customer_id</th>\n",
       "      <th>final_amount_inr</th>\n",
       "      <th>order_date</th>\n",
       "    </tr>\n",
       "  </thead>\n",
       "  <tbody>\n",
       "    <tr>\n",
       "      <th>0</th>\n",
       "      <td>PROD_000021</td>\n",
       "      <td>CUST_2015_00003884</td>\n",
       "      <td>89112.17</td>\n",
       "      <td>2015-01-25</td>\n",
       "    </tr>\n",
       "    <tr>\n",
       "      <th>1</th>\n",
       "      <td>PROD_000055</td>\n",
       "      <td>CUST_2015_00011709</td>\n",
       "      <td>54731.86</td>\n",
       "      <td>2015-01-05</td>\n",
       "    </tr>\n",
       "    <tr>\n",
       "      <th>2</th>\n",
       "      <td>PROD_000039</td>\n",
       "      <td>CUST_2015_00004782</td>\n",
       "      <td>103636.52</td>\n",
       "      <td>2015-01-24</td>\n",
       "    </tr>\n",
       "    <tr>\n",
       "      <th>3</th>\n",
       "      <td>PROD_000085</td>\n",
       "      <td>CUST_2015_00008105</td>\n",
       "      <td>21947.26</td>\n",
       "      <td>2015-01-28</td>\n",
       "    </tr>\n",
       "    <tr>\n",
       "      <th>4</th>\n",
       "      <td>PROD_000055</td>\n",
       "      <td>CUST_2015_00002955</td>\n",
       "      <td>109463.72</td>\n",
       "      <td>2015-01-31</td>\n",
       "    </tr>\n",
       "    <tr>\n",
       "      <th>...</th>\n",
       "      <td>...</td>\n",
       "      <td>...</td>\n",
       "      <td>...</td>\n",
       "      <td>...</td>\n",
       "    </tr>\n",
       "    <tr>\n",
       "      <th>33160</th>\n",
       "      <td>PROD_000063</td>\n",
       "      <td>CUST_2015_00002994</td>\n",
       "      <td>41019.67</td>\n",
       "      <td>2015-01-24</td>\n",
       "    </tr>\n",
       "    <tr>\n",
       "      <th>33161</th>\n",
       "      <td>PROD_001546</td>\n",
       "      <td>CUST_2015_00005528</td>\n",
       "      <td>22811.29</td>\n",
       "      <td>2015-03-01</td>\n",
       "    </tr>\n",
       "    <tr>\n",
       "      <th>33162</th>\n",
       "      <td>PROD_001710</td>\n",
       "      <td>CUST_2015_00011570</td>\n",
       "      <td>85996.21</td>\n",
       "      <td>2015-02-27</td>\n",
       "    </tr>\n",
       "    <tr>\n",
       "      <th>33163</th>\n",
       "      <td>PROD_000083</td>\n",
       "      <td>CUST_2015_00005774</td>\n",
       "      <td>33199.84</td>\n",
       "      <td>2015-12-04</td>\n",
       "    </tr>\n",
       "    <tr>\n",
       "      <th>33164</th>\n",
       "      <td>PROD_000036</td>\n",
       "      <td>CUST_2015_00000326</td>\n",
       "      <td>88872.68</td>\n",
       "      <td>2015-07-27</td>\n",
       "    </tr>\n",
       "  </tbody>\n",
       "</table>\n",
       "<p>29913 rows × 4 columns</p>\n",
       "</div>"
      ],
      "text/plain": [
       "        product_id         customer_id  final_amount_inr  order_date\n",
       "0      PROD_000021  CUST_2015_00003884          89112.17  2015-01-25\n",
       "1      PROD_000055  CUST_2015_00011709          54731.86  2015-01-05\n",
       "2      PROD_000039  CUST_2015_00004782         103636.52  2015-01-24\n",
       "3      PROD_000085  CUST_2015_00008105          21947.26  2015-01-28\n",
       "4      PROD_000055  CUST_2015_00002955         109463.72  2015-01-31\n",
       "...            ...                 ...               ...         ...\n",
       "33160  PROD_000063  CUST_2015_00002994          41019.67  2015-01-24\n",
       "33161  PROD_001546  CUST_2015_00005528          22811.29  2015-03-01\n",
       "33162  PROD_001710  CUST_2015_00011570          85996.21  2015-02-27\n",
       "33163  PROD_000083  CUST_2015_00005774          33199.84  2015-12-04\n",
       "33164  PROD_000036  CUST_2015_00000326          88872.68  2015-07-27\n",
       "\n",
       "[29913 rows x 4 columns]"
      ]
     },
     "execution_count": 43,
     "metadata": {},
     "output_type": "execute_result"
    }
   ],
   "source": [
    "df[[\"product_id\",\"customer_id\",\"final_amount_inr\",\"order_date\"]]"
   ]
  },
  {
   "cell_type": "code",
   "execution_count": 44,
   "id": "25edb5ab",
   "metadata": {},
   "outputs": [
    {
     "name": "stdout",
     "output_type": "stream",
     "text": [
      "Number of duplicate rows : 151\n",
      "              transaction_id  order_date         customer_id   product_id  \\\n",
      "33000  TXN_2015_00016501_DUP  2015-07-01  CUST_2015_00010086  PROD_001781   \n",
      "33001  TXN_2015_00014828_DUP  2015-07-14  CUST_2015_00003428  PROD_001719   \n",
      "33002  TXN_2015_00020641_DUP  2015-09-05  CUST_2015_00011426  PROD_000033   \n",
      "33003  TXN_2015_00007274_DUP  2015-04-24  CUST_2015_00004028  PROD_000066   \n",
      "33004  TXN_2015_00002272_DUP  2015-01-28  CUST_2015_00000924  PROD_000077   \n",
      "...                      ...         ...                 ...          ...   \n",
      "33160  TXN_2015_00001578_DUP  2015-01-24  CUST_2015_00002994  PROD_000063   \n",
      "33161  TXN_2015_00004573_DUP  2015-03-01  CUST_2015_00005528  PROD_001546   \n",
      "33162  TXN_2015_00003696_DUP  2015-02-27  CUST_2015_00011570  PROD_001710   \n",
      "33163  TXN_2015_00032368_DUP  2015-12-04  CUST_2015_00005774  PROD_000083   \n",
      "33164  TXN_2015_00014927_DUP  2015-07-27  CUST_2015_00000326  PROD_000036   \n",
      "\n",
      "                            product_name     category  subcategory    brand  \\\n",
      "33000               Boat Earbuds Premium  Electronics        Audio     Boat   \n",
      "33001          Xiaomi iPad 4GB RAM Black  Electronics      Tablets   Xiaomi   \n",
      "33002  Samsung Galaxy S6 Edge 32GB White  Electronics  Smartphones  Samsung   \n",
      "33003            Xiaomi Mi 4i 64GB Black  Electronics  Smartphones   Xiaomi   \n",
      "33004           Xiaomi Redmi 2 32GB Blue  Electronics  Smartphones   Xiaomi   \n",
      "...                                  ...          ...          ...      ...   \n",
      "33160        OnePlus OnePlus X 32GB Blue  Electronics  Smartphones  OnePlus   \n",
      "33161        Dell MacBook 4GB RAM Silver  Electronics      Laptops     Dell   \n",
      "33162       Lenovo Tab M10 8GB RAM Black  Electronics      Tablets   Lenovo   \n",
      "33163     Xiaomi Redmi Note 4G 16GB Blue  Electronics  Smartphones   Xiaomi   \n",
      "33164   Samsung Galaxy S6 Edge 16GB Gold  Electronics  Smartphones  Samsung   \n",
      "\n",
      "       original_price_inr  discount_percent  ...  is_prime_member  \\\n",
      "33000            17174.29             28.81  ...            False   \n",
      "33001            29675.17             50.41  ...            False   \n",
      "33002           167952.46              0.00  ...            False   \n",
      "33003            31102.54             25.55  ...            False   \n",
      "33004            20175.12              0.00  ...            False   \n",
      "...                   ...               ...  ...              ...   \n",
      "33160            75380.48             45.58  ...            False   \n",
      "33161            29350.42             22.28  ...            False   \n",
      "33162            56337.89             23.68  ...            False   \n",
      "33163            33199.84              0.00  ...            False   \n",
      "33164            88872.68              0.00  ...            False   \n",
      "\n",
      "       is_festival_sale  customer_rating  return_status  order_month  \\\n",
      "33000              True              NaN      Delivered            7   \n",
      "33001              True              NaN      Delivered            7   \n",
      "33002             False              NaN      Delivered            9   \n",
      "33003             False              NaN      Delivered            4   \n",
      "33004             False              NaN      Delivered            1   \n",
      "...                 ...              ...            ...          ...   \n",
      "33160              True              NaN      Delivered            1   \n",
      "33161              True              NaN      Delivered            3   \n",
      "33162             False              NaN      Delivered            2   \n",
      "33163             False              NaN      Delivered           12   \n",
      "33164             False              NaN      Delivered            7   \n",
      "\n",
      "      order_year order_quarter product_weight_kg is_prime_eligible  \\\n",
      "33000       2015             3              0.14              True   \n",
      "33001       2015             3              0.57              True   \n",
      "33002       2015             3              0.25              True   \n",
      "33003       2015             2              0.19              True   \n",
      "33004       2015             1              0.19              True   \n",
      "...          ...           ...               ...               ...   \n",
      "33160       2015             1              0.18              True   \n",
      "33161       2015             1              1.21              True   \n",
      "33162       2015             1              0.49              True   \n",
      "33163       2015             4              0.15             False   \n",
      "33164       2015             3              0.16             False   \n",
      "\n",
      "      product_rating  \n",
      "33000            3.2  \n",
      "33001            3.3  \n",
      "33002            3.6  \n",
      "33003            4.2  \n",
      "33004            4.3  \n",
      "...              ...  \n",
      "33160            3.8  \n",
      "33161            3.4  \n",
      "33162            4.1  \n",
      "33163            4.1  \n",
      "33164            3.9  \n",
      "\n",
      "[151 rows x 33 columns]\n"
     ]
    }
   ],
   "source": [
    "duplicates = df[df.duplicated(subset=[\"product_id\",\"customer_id\",\"final_amount_inr\",\"order_date\"])]\n",
    "print(f\"Number of duplicate rows : {duplicates.shape[0]}\")\n",
    "print(duplicates)"
   ]
  },
  {
   "cell_type": "markdown",
   "id": "7c050cef",
   "metadata": {},
   "source": [
    "# ------------------------------------------------------------------------------"
   ]
  },
  {
   "cell_type": "markdown",
   "id": "695d62c5",
   "metadata": {},
   "source": [
    "Question 9\n",
    "The dataset contains outlier prices where some products show prices 100x higher than expected due to data entry errors (decimal point issues). Identify and correct these outliers using statistical methods and domain knowledge.\n"
   ]
  },
  {
   "cell_type": "code",
   "execution_count": 45,
   "id": "dea25050",
   "metadata": {},
   "outputs": [
    {
     "data": {
      "image/png": "[encoded data removed]",
      "text/plain": [
       "<Figure size 640x480 with 1 Axes>"
      ]
     },
     "metadata": {},
     "output_type": "display_data"
    }
   ],
   "source": [
    "import seaborn as sns\n",
    "import matplotlib.pyplot as plt\n",
    "\n",
    "sns.boxplot(x=df[\"original_price_inr\"])\n",
    "plt.show()\n"
   ]
  },
  {
   "cell_type": "code",
   "execution_count": 46,
   "id": "58a7dc42",
   "metadata": {},
   "outputs": [
    {
     "name": "stdout",
     "output_type": "stream",
     "text": [
      "Detected outliers: 613\n"
     ]
    },
    {
     "data": {
      "image/png": "[encoded data removed]",
      "text/plain": [
       "<Figure size 1500x500 with 2 Axes>"
      ]
     },
     "metadata": {},
     "output_type": "display_data"
    }
   ],
   "source": [
    "import pandas as pd\n",
    "import seaborn as sns\n",
    "import matplotlib.pyplot as plt\n",
    "\n",
    "\n",
    "n = df[\"original_price_inr\"].copy()\n",
    "\n",
    "# removing outliers...\n",
    "\n",
    "q1 = n.quantile(0.25)\n",
    "q3 = n.quantile(0.75)\n",
    "iqr = q3 - q1\n",
    "\n",
    "\n",
    "lower_bound = q1 - 1.5 * iqr\n",
    "upper_bound = q3 + 1.5 * iqr\n",
    "\n",
    "# outlier above the upper bound\n",
    "outliers = df[df[\"original_price_inr\"] > upper_bound]\n",
    "print(f\"Detected outliers: {outliers.shape[0]}\")\n",
    "\n",
    "# Correct those outliers assuming they were inflated by 100x\n",
    "df[\"corrected_price_inr\"] = df[\"original_price_inr\"]\n",
    "\n",
    "df.loc[df[\"original_price_inr\"] > upper_bound, \"corrected_price_inr\"] = df[\"original_price_inr\"] / 100\n",
    "\n",
    "# visualization  before and after\n",
    "\n",
    "plt.figure(figsize = (15,5))\n",
    "\n",
    "\n",
    "plt.subplot(121)\n",
    "sns.boxplot(x=df[\"original_price_inr\"])\n",
    "plt.title(\"Original Prices with Outliers\")\n",
    "\n",
    "\n",
    "plt.subplot(122)\n",
    "sns.boxplot(x=df[\"corrected_price_inr\"])\n",
    "plt.title(\"Corrected Prices\")\n",
    "\n",
    "plt.tight_layout()\n",
    "plt.show()\n"
   ]
  },
  {
   "cell_type": "code",
   "execution_count": 47,
   "id": "028e7191",
   "metadata": {},
   "outputs": [
    {
     "name": "stdout",
     "output_type": "stream",
     "text": [
      "<class 'pandas.core.series.Series'>\n",
      "Index: 29913 entries, 0 to 33164\n",
      "Series name: original_price_inr\n",
      "Non-Null Count  Dtype  \n",
      "--------------  -----  \n",
      "29913 non-null  float64\n",
      "dtypes: float64(1)\n",
      "memory usage: 1.5 MB\n"
     ]
    }
   ],
   "source": [
    "df[\"original_price_inr\"].info()"
   ]
  },
  {
   "cell_type": "code",
   "execution_count": 48,
   "id": "a2ee4001",
   "metadata": {},
   "outputs": [
    {
     "name": "stdout",
     "output_type": "stream",
     "text": [
      "<class 'pandas.core.series.Series'>\n",
      "Index: 29913 entries, 0 to 33164\n",
      "Series name: corrected_price_inr\n",
      "Non-Null Count  Dtype  \n",
      "--------------  -----  \n",
      "29913 non-null  float64\n",
      "dtypes: float64(1)\n",
      "memory usage: 1.5 MB\n"
     ]
    }
   ],
   "source": [
    "df[\"corrected_price_inr\"].info()"
   ]
  },
  {
   "cell_type": "code",
   "execution_count": null,
   "id": "f04495d7",
   "metadata": {},
   "outputs": [],
   "source": []
  },
  {
   "cell_type": "markdown",
   "id": "325e20ac",
   "metadata": {},
   "source": [
    "# ----------------------------------------------------------------------------"
   ]
  },
  {
   "cell_type": "markdown",
   "id": "04d312fa",
   "metadata": {},
   "source": [
    "Question 10\n",
    "Payment methods contain inconsistent naming: 'UPI/PhonePe/GooglePay', 'Credit Card/CREDIT_CARD/CC', 'Cash on Delivery/COD/C.O.D'. Standardize payment method categories and create a clean categorical hierarchy.\n"
   ]
  },
  {
   "cell_type": "code",
   "execution_count": 49,
   "id": "5042b23a",
   "metadata": {},
   "outputs": [
    {
     "data": {
      "text/plain": [
       "array(['COD', 'Debit Card', 'Credit Card', 'Net Banking'], dtype=object)"
      ]
     },
     "execution_count": 49,
     "metadata": {},
     "output_type": "execute_result"
    }
   ],
   "source": [
    "df[\"payment_method\"].unique()"
   ]
  },
  {
   "cell_type": "markdown",
   "id": "4311beee",
   "metadata": {},
   "source": []
  },
  {
   "cell_type": "markdown",
   "id": "3241b3d8",
   "metadata": {},
   "source": [
    "# ----------------------------------------------------------------------------"
   ]
  },
  {
   "cell_type": "markdown",
   "id": "4c314a96",
   "metadata": {},
   "source": [
    "# ----------------------------------------------------------------------------"
   ]
  },
  {
   "cell_type": "markdown",
   "id": "ca50a73a",
   "metadata": {},
   "source": [
    "# ----------------------------------------------------------------------------"
   ]
  },
  {
   "cell_type": "code",
   "execution_count": 50,
   "id": "1a60db67",
   "metadata": {},
   "outputs": [
    {
     "data": {
      "text/html": [
       "<div>\n",
       "<style scoped>\n",
       "    .dataframe tbody tr th:only-of-type {\n",
       "        vertical-align: middle;\n",
       "    }\n",
       "\n",
       "    .dataframe tbody tr th {\n",
       "        vertical-align: top;\n",
       "    }\n",
       "\n",
       "    .dataframe thead th {\n",
       "        text-align: right;\n",
       "    }\n",
       "</style>\n",
       "<table border=\"1\" class=\"dataframe\">\n",
       "  <thead>\n",
       "    <tr style=\"text-align: right;\">\n",
       "      <th></th>\n",
       "      <th>transaction_id</th>\n",
       "      <th>order_date</th>\n",
       "      <th>customer_id</th>\n",
       "      <th>product_id</th>\n",
       "      <th>product_name</th>\n",
       "      <th>category</th>\n",
       "      <th>subcategory</th>\n",
       "      <th>brand</th>\n",
       "      <th>original_price_inr</th>\n",
       "      <th>discount_percent</th>\n",
       "      <th>...</th>\n",
       "      <th>is_festival_sale</th>\n",
       "      <th>festival_name</th>\n",
       "      <th>customer_rating</th>\n",
       "      <th>return_status</th>\n",
       "      <th>order_month</th>\n",
       "      <th>order_year</th>\n",
       "      <th>order_quarter</th>\n",
       "      <th>product_weight_kg</th>\n",
       "      <th>is_prime_eligible</th>\n",
       "      <th>product_rating</th>\n",
       "    </tr>\n",
       "  </thead>\n",
       "  <tbody>\n",
       "    <tr>\n",
       "      <th>0</th>\n",
       "      <td>TXN_2016_00000001</td>\n",
       "      <td>2016-01-27</td>\n",
       "      <td>CUST_2016_00002571</td>\n",
       "      <td>PROD_000124</td>\n",
       "      <td>Apple iPhone SE 16GB White</td>\n",
       "      <td>Electronics</td>\n",
       "      <td>Smartphones</td>\n",
       "      <td>Apple</td>\n",
       "      <td>101945.03</td>\n",
       "      <td>0.00</td>\n",
       "      <td>...</td>\n",
       "      <td>False</td>\n",
       "      <td>NaN</td>\n",
       "      <td>NaN</td>\n",
       "      <td>Delivered</td>\n",
       "      <td>1</td>\n",
       "      <td>2016</td>\n",
       "      <td>1</td>\n",
       "      <td>0.23</td>\n",
       "      <td>True</td>\n",
       "      <td>4.6</td>\n",
       "    </tr>\n",
       "    <tr>\n",
       "      <th>1</th>\n",
       "      <td>TXN_2016_00000002</td>\n",
       "      <td>2016-01-07</td>\n",
       "      <td>CUST_2016_00003513</td>\n",
       "      <td>PROD_001612</td>\n",
       "      <td>Apple Pavilion 8GB RAM Silver</td>\n",
       "      <td>Electronics</td>\n",
       "      <td>Laptops</td>\n",
       "      <td>Apple</td>\n",
       "      <td>52750.75</td>\n",
       "      <td>14.72</td>\n",
       "      <td>...</td>\n",
       "      <td>False</td>\n",
       "      <td>NaN</td>\n",
       "      <td>NaN</td>\n",
       "      <td>Delivered</td>\n",
       "      <td>1</td>\n",
       "      <td>2016</td>\n",
       "      <td>1</td>\n",
       "      <td>2.69</td>\n",
       "      <td>True</td>\n",
       "      <td>3.7</td>\n",
       "    </tr>\n",
       "    <tr>\n",
       "      <th>2</th>\n",
       "      <td>TXN_2016_00000003</td>\n",
       "      <td>2016-01-28</td>\n",
       "      <td>CUST_2015_00001993</td>\n",
       "      <td>PROD_001751</td>\n",
       "      <td>Realme Slate 4GB RAM Black</td>\n",
       "      <td>Electronics</td>\n",
       "      <td>Tablets</td>\n",
       "      <td>Realme</td>\n",
       "      <td>18238.6</td>\n",
       "      <td>0.00</td>\n",
       "      <td>...</td>\n",
       "      <td>False</td>\n",
       "      <td>NaN</td>\n",
       "      <td>5.0</td>\n",
       "      <td>Delivered</td>\n",
       "      <td>1</td>\n",
       "      <td>2016</td>\n",
       "      <td>1</td>\n",
       "      <td>0.59</td>\n",
       "      <td>True</td>\n",
       "      <td>3.9</td>\n",
       "    </tr>\n",
       "    <tr>\n",
       "      <th>3</th>\n",
       "      <td>TXN_2016_00000004</td>\n",
       "      <td>25-01-2016</td>\n",
       "      <td>CUST_2016_00003593</td>\n",
       "      <td>PROD_000154</td>\n",
       "      <td>Samsung Galaxy J7 Prime 16GB Gold</td>\n",
       "      <td>Electronics</td>\n",
       "      <td>Smartphones</td>\n",
       "      <td>Samsung</td>\n",
       "      <td>33118.39</td>\n",
       "      <td>44.96</td>\n",
       "      <td>...</td>\n",
       "      <td>True</td>\n",
       "      <td>Republic Day Sale</td>\n",
       "      <td>4.5</td>\n",
       "      <td>Delivered</td>\n",
       "      <td>1</td>\n",
       "      <td>2016</td>\n",
       "      <td>1</td>\n",
       "      <td>0.17</td>\n",
       "      <td>TRUE</td>\n",
       "      <td>3.4</td>\n",
       "    </tr>\n",
       "    <tr>\n",
       "      <th>4</th>\n",
       "      <td>TXN_2016_00000005</td>\n",
       "      <td>2016-01-26</td>\n",
       "      <td>CUST_2016_00015048</td>\n",
       "      <td>PROD_001710</td>\n",
       "      <td>Lenovo Tab M10 8GB RAM Black</td>\n",
       "      <td>Electronics</td>\n",
       "      <td>Tablets</td>\n",
       "      <td>Lenovo</td>\n",
       "      <td>59718.16</td>\n",
       "      <td>49.77</td>\n",
       "      <td>...</td>\n",
       "      <td>True</td>\n",
       "      <td>Republic Day Sale</td>\n",
       "      <td>NaN</td>\n",
       "      <td>Delivered</td>\n",
       "      <td>1</td>\n",
       "      <td>2016</td>\n",
       "      <td>1</td>\n",
       "      <td>0.49</td>\n",
       "      <td>True</td>\n",
       "      <td>4.1</td>\n",
       "    </tr>\n",
       "  </tbody>\n",
       "</table>\n",
       "<p>5 rows × 34 columns</p>\n",
       "</div>"
      ],
      "text/plain": [
       "      transaction_id  order_date         customer_id   product_id  \\\n",
       "0  TXN_2016_00000001  2016-01-27  CUST_2016_00002571  PROD_000124   \n",
       "1  TXN_2016_00000002  2016-01-07  CUST_2016_00003513  PROD_001612   \n",
       "2  TXN_2016_00000003  2016-01-28  CUST_2015_00001993  PROD_001751   \n",
       "3  TXN_2016_00000004  25-01-2016  CUST_2016_00003593  PROD_000154   \n",
       "4  TXN_2016_00000005  2016-01-26  CUST_2016_00015048  PROD_001710   \n",
       "\n",
       "                        product_name     category  subcategory    brand  \\\n",
       "0         Apple iPhone SE 16GB White  Electronics  Smartphones    Apple   \n",
       "1      Apple Pavilion 8GB RAM Silver  Electronics      Laptops    Apple   \n",
       "2         Realme Slate 4GB RAM Black  Electronics      Tablets   Realme   \n",
       "3  Samsung Galaxy J7 Prime 16GB Gold  Electronics  Smartphones  Samsung   \n",
       "4       Lenovo Tab M10 8GB RAM Black  Electronics      Tablets   Lenovo   \n",
       "\n",
       "  original_price_inr  discount_percent  ...  is_festival_sale  \\\n",
       "0          101945.03              0.00  ...             False   \n",
       "1           52750.75             14.72  ...             False   \n",
       "2            18238.6              0.00  ...             False   \n",
       "3           33118.39             44.96  ...              True   \n",
       "4           59718.16             49.77  ...              True   \n",
       "\n",
       "       festival_name  customer_rating  return_status  order_month order_year  \\\n",
       "0                NaN              NaN      Delivered            1       2016   \n",
       "1                NaN              NaN      Delivered            1       2016   \n",
       "2                NaN              5.0      Delivered            1       2016   \n",
       "3  Republic Day Sale              4.5      Delivered            1       2016   \n",
       "4  Republic Day Sale              NaN      Delivered            1       2016   \n",
       "\n",
       "  order_quarter product_weight_kg is_prime_eligible product_rating  \n",
       "0             1              0.23              True            4.6  \n",
       "1             1              2.69              True            3.7  \n",
       "2             1              0.59              True            3.9  \n",
       "3             1              0.17              TRUE            3.4  \n",
       "4             1              0.49              True            4.1  \n",
       "\n",
       "[5 rows x 34 columns]"
      ]
     },
     "execution_count": 50,
     "metadata": {},
     "output_type": "execute_result"
    }
   ],
   "source": [
    "import pandas as pd\n",
    "import numpy as np\n",
    "import matplotlib.pyplot as plt\n",
    "\n",
    "\n",
    "df_16=pd.read_csv(\"amazon_india_2016.csv\")\n",
    "df_16.head()"
   ]
  },
  {
   "cell_type": "code",
   "execution_count": 51,
   "id": "0d65fd5d",
   "metadata": {},
   "outputs": [
    {
     "data": {
      "text/plain": [
       "(55275, 34)"
      ]
     },
     "execution_count": 51,
     "metadata": {},
     "output_type": "execute_result"
    }
   ],
   "source": [
    "df_16.shape"
   ]
  },
  {
   "cell_type": "code",
   "execution_count": 52,
   "id": "52554dd0",
   "metadata": {},
   "outputs": [
    {
     "data": {
      "text/plain": [
       "transaction_id                0\n",
       "order_date                    0\n",
       "customer_id                   0\n",
       "product_id                    0\n",
       "product_name                  0\n",
       "category                      0\n",
       "subcategory                   0\n",
       "brand                         0\n",
       "original_price_inr            0\n",
       "discount_percent              0\n",
       "discounted_price_inr          0\n",
       "quantity                      0\n",
       "subtotal_inr                  0\n",
       "delivery_charges           4424\n",
       "final_amount_inr              0\n",
       "customer_city                 0\n",
       "customer_state                0\n",
       "customer_tier                 0\n",
       "customer_spending_tier        0\n",
       "customer_age_group         6630\n",
       "payment_method                0\n",
       "delivery_days                 0\n",
       "delivery_type                 0\n",
       "is_prime_member               0\n",
       "is_festival_sale              0\n",
       "festival_name             37815\n",
       "customer_rating           16764\n",
       "return_status                 0\n",
       "order_month                   0\n",
       "order_year                    0\n",
       "order_quarter                 0\n",
       "product_weight_kg             0\n",
       "is_prime_eligible             0\n",
       "product_rating                0\n",
       "dtype: int64"
      ]
     },
     "execution_count": 52,
     "metadata": {},
     "output_type": "execute_result"
    }
   ],
   "source": [
    "missing_value=df_16.isnull().sum()\n",
    "missing_value"
   ]
  },
  {
   "cell_type": "code",
   "execution_count": 53,
   "id": "6f7e2a05",
   "metadata": {},
   "outputs": [
    {
     "name": "stdout",
     "output_type": "stream",
     "text": [
      "delivery_charges       4424\n",
      "customer_age_group     6630\n",
      "festival_name         37815\n",
      "customer_rating       16764\n",
      "dtype: int64\n",
      "Total missing values: 65633\n",
      "Percentage of missing data: 3.49%\n"
     ]
    }
   ],
   "source": [
    "missing_value=df_16.isnull().sum()\n",
    "print(missing_value[missing_value>0])\n",
    "\n",
    "print(f\"Total missing values: {df_16.isnull().sum().sum()}\")\n",
    "\n",
    "print(f\"Percentage of missing data: {df_16.isnull().sum().sum() / (df_16.shape[0] * df_16.shape[1]) * 100:.2f}%\")\n"
   ]
  },
  {
   "cell_type": "code",
   "execution_count": 54,
   "id": "90d3c591",
   "metadata": {},
   "outputs": [
    {
     "name": "stdout",
     "output_type": "stream",
     "text": [
      "<class 'pandas.core.frame.DataFrame'>\n",
      "RangeIndex: 55275 entries, 0 to 55274\n",
      "Data columns (total 34 columns):\n",
      " #   Column                  Non-Null Count  Dtype  \n",
      "---  ------                  --------------  -----  \n",
      " 0   transaction_id          55275 non-null  object \n",
      " 1   order_date              55275 non-null  object \n",
      " 2   customer_id             55275 non-null  object \n",
      " 3   product_id              55275 non-null  object \n",
      " 4   product_name            55275 non-null  object \n",
      " 5   category                55275 non-null  object \n",
      " 6   subcategory             55275 non-null  object \n",
      " 7   brand                   55275 non-null  object \n",
      " 8   original_price_inr      55275 non-null  object \n",
      " 9   discount_percent        55275 non-null  float64\n",
      " 10  discounted_price_inr    55275 non-null  float64\n",
      " 11  quantity                55275 non-null  int64  \n",
      " 12  subtotal_inr            55275 non-null  float64\n",
      " 13  delivery_charges        50851 non-null  float64\n",
      " 14  final_amount_inr        55275 non-null  float64\n",
      " 15  customer_city           55275 non-null  object \n",
      " 16  customer_state          55275 non-null  object \n",
      " 17  customer_tier           55275 non-null  object \n",
      " 18  customer_spending_tier  55275 non-null  object \n",
      " 19  customer_age_group      48645 non-null  object \n",
      " 20  payment_method          55275 non-null  object \n",
      " 21  delivery_days           55275 non-null  object \n",
      " 22  delivery_type           55275 non-null  object \n",
      " 23  is_prime_member         55275 non-null  object \n",
      " 24  is_festival_sale        55275 non-null  object \n",
      " 25  festival_name           17460 non-null  object \n",
      " 26  customer_rating         38511 non-null  object \n",
      " 27  return_status           55275 non-null  object \n",
      " 28  order_month             55275 non-null  int64  \n",
      " 29  order_year              55275 non-null  int64  \n",
      " 30  order_quarter           55275 non-null  int64  \n",
      " 31  product_weight_kg       55275 non-null  float64\n",
      " 32  is_prime_eligible       55275 non-null  object \n",
      " 33  product_rating          55275 non-null  float64\n",
      "dtypes: float64(7), int64(4), object(23)\n",
      "memory usage: 14.3+ MB\n"
     ]
    }
   ],
   "source": [
    "df_16.info()"
   ]
  },
  {
   "cell_type": "code",
   "execution_count": 55,
   "id": "f6835c23",
   "metadata": {},
   "outputs": [
    {
     "data": {
      "text/plain": [
       "array([nan, '5.0', '4.5', '4.0', '3.5', '3.0', '4/5', '3/5', '5.0 stars',\n",
       "       '4.5 stars', '4.5/5.0', '4.0 stars', '3.5 stars', '4', '4.0/5.0',\n",
       "       '3.0 stars', '5/5', '3', '5.0/5.0', '3.0/5.0', '5', '3.5/5.0'],\n",
       "      dtype=object)"
      ]
     },
     "execution_count": 55,
     "metadata": {},
     "output_type": "execute_result"
    }
   ],
   "source": [
    "df_16[\"customer_rating\"].unique()"
   ]
  },
  {
   "cell_type": "code",
   "execution_count": 56,
   "id": "bf006a6b",
   "metadata": {},
   "outputs": [],
   "source": [
    "def clean_rating(value):\n",
    "    if pd.isna(value):\n",
    "        return np.nan\n",
    "    \n",
    "    value = value.strip().lower()\n",
    "    #remove stars\n",
    "    value = value.replace('stars', '').strip()\n",
    "    \n",
    "    if \"/\" in value:\n",
    "        parts=value.split(\"/\")\n",
    "        \n",
    "        try:\n",
    "            numerator=float(parts[0].strip())\n",
    "            denominator=float(parts[1].strip())\n",
    "            \n",
    "            if denominator !=0:\n",
    "                return round((numerator / denominator) * 5, 2)\n",
    "            else:\n",
    "                return np.nan\n",
    "        except:\n",
    "            return np.nan\n",
    "     \n",
    "    # if no. is plain   \n",
    "    try:\n",
    "        return float(value)\n",
    "    except:\n",
    "        return np.nan\n",
    "    \n",
    "    \n",
    "\n",
    "df_16[\"customer_rating\"]=df_16[\"customer_rating\"].apply(clean_rating).astype(float)\n",
    "\n",
    "\n",
    "        "
   ]
  },
  {
   "cell_type": "code",
   "execution_count": 57,
   "id": "97329eb6",
   "metadata": {},
   "outputs": [
    {
     "data": {
      "text/plain": [
       "array([nan, 5. , 4.5, 4. , 3.5, 3. ])"
      ]
     },
     "execution_count": 57,
     "metadata": {},
     "output_type": "execute_result"
    }
   ],
   "source": [
    "df_16[\"customer_rating\"].unique()"
   ]
  },
  {
   "cell_type": "code",
   "execution_count": 58,
   "id": "9b586216",
   "metadata": {},
   "outputs": [
    {
     "data": {
      "text/plain": [
       "np.int64(16764)"
      ]
     },
     "execution_count": 58,
     "metadata": {},
     "output_type": "execute_result"
    }
   ],
   "source": [
    "df_16[\"customer_rating\"].isna().sum()"
   ]
  },
  {
   "cell_type": "code",
   "execution_count": 59,
   "id": "5d26b4f8",
   "metadata": {},
   "outputs": [
    {
     "name": "stdout",
     "output_type": "stream",
     "text": [
      "<class 'pandas.core.series.Series'>\n",
      "RangeIndex: 55275 entries, 0 to 55274\n",
      "Series name: customer_rating\n",
      "Non-Null Count  Dtype  \n",
      "--------------  -----  \n",
      "38511 non-null  float64\n",
      "dtypes: float64(1)\n",
      "memory usage: 432.0 KB\n"
     ]
    }
   ],
   "source": [
    "df_16[\"customer_rating\"].info()"
   ]
  },
  {
   "cell_type": "code",
   "execution_count": 60,
   "id": "796acf6b",
   "metadata": {},
   "outputs": [
    {
     "name": "stdout",
     "output_type": "stream",
     "text": [
      "Null values in customer_rating: 0\n"
     ]
    }
   ],
   "source": [
    "from sklearn.experimental import enable_iterative_imputer  \n",
    "from sklearn.impute import IterativeImputer\n",
    "from sklearn.linear_model import BayesianRidge\n",
    "\n",
    "\n",
    "\n",
    "\n",
    "# using iterative imputer\n",
    "imputer=IterativeImputer(estimator=BayesianRidge(),max_iter=10, random_state=0)\n",
    "\n",
    "df_16[[\"customer_rating\"]] = imputer.fit_transform(df_16[[\"customer_rating\"]])\n",
    "\n",
    "# Convert to integer \n",
    "# df_16[\"customer_rating\"] = df_16[\"customer_rating\"].round(1).astype(float)\n",
    "df_16[\"customer_rating\"] = (df_16[\"customer_rating\"] * 2).round() / 2\n",
    "\n",
    "\n",
    "print(\"Null values in customer_rating:\",df_16[\"customer_rating\"].isna().sum())"
   ]
  },
  {
   "cell_type": "code",
   "execution_count": 61,
   "id": "f63887a5",
   "metadata": {},
   "outputs": [
    {
     "data": {
      "text/plain": [
       "array([4.5, 5. , 4. , 3.5, 3. ])"
      ]
     },
     "execution_count": 61,
     "metadata": {},
     "output_type": "execute_result"
    }
   ],
   "source": [
    "df_16[\"customer_rating\"].unique()"
   ]
  },
  {
   "cell_type": "code",
   "execution_count": null,
   "id": "913a7d32",
   "metadata": {},
   "outputs": [],
   "source": []
  },
  {
   "cell_type": "code",
   "execution_count": null,
   "id": "65df2ade",
   "metadata": {},
   "outputs": [],
   "source": []
  },
  {
   "cell_type": "code",
   "execution_count": 62,
   "id": "1dd4d8a1",
   "metadata": {},
   "outputs": [
    {
     "data": {
      "text/plain": [
       "array([ 0., nan])"
      ]
     },
     "execution_count": 62,
     "metadata": {},
     "output_type": "execute_result"
    }
   ],
   "source": [
    "# filling the delivery values\n",
    "df_16[\"delivery_charges\"].unique()"
   ]
  },
  {
   "cell_type": "code",
   "execution_count": 63,
   "id": "15304d60",
   "metadata": {},
   "outputs": [],
   "source": [
    "df_16[\"delivery_charges\"]=df_16[\"delivery_charges\"].fillna(df_16[\"delivery_charges\"].mean())"
   ]
  },
  {
   "cell_type": "code",
   "execution_count": 64,
   "id": "e0c7109e",
   "metadata": {},
   "outputs": [
    {
     "data": {
      "text/plain": [
       "np.int64(0)"
      ]
     },
     "execution_count": 64,
     "metadata": {},
     "output_type": "execute_result"
    }
   ],
   "source": [
    "df_16[\"delivery_charges\"].isna().sum()"
   ]
  },
  {
   "cell_type": "code",
   "execution_count": 65,
   "id": "a4a63aa4",
   "metadata": {},
   "outputs": [
    {
     "name": "stdout",
     "output_type": "stream",
     "text": [
      "<class 'pandas.core.series.Series'>\n",
      "RangeIndex: 55275 entries, 0 to 55274\n",
      "Series name: customer_age_group\n",
      "Non-Null Count  Dtype \n",
      "--------------  ----- \n",
      "55275 non-null  object\n",
      "dtypes: object(1)\n",
      "memory usage: 432.0+ KB\n"
     ]
    }
   ],
   "source": [
    "#now fill the categorical data\n",
    "\n",
    "df_16['customer_age_group'] = df_16['customer_age_group'].fillna(df_16['customer_age_group'].mode()[0])\n",
    "df_16['customer_age_group'].info()"
   ]
  },
  {
   "cell_type": "code",
   "execution_count": 66,
   "id": "b909b91e",
   "metadata": {},
   "outputs": [
    {
     "name": "stdout",
     "output_type": "stream",
     "text": [
      "<class 'pandas.core.frame.DataFrame'>\n",
      "RangeIndex: 55275 entries, 0 to 55274\n",
      "Data columns (total 34 columns):\n",
      " #   Column                  Non-Null Count  Dtype  \n",
      "---  ------                  --------------  -----  \n",
      " 0   transaction_id          55275 non-null  object \n",
      " 1   order_date              55275 non-null  object \n",
      " 2   customer_id             55275 non-null  object \n",
      " 3   product_id              55275 non-null  object \n",
      " 4   product_name            55275 non-null  object \n",
      " 5   category                55275 non-null  object \n",
      " 6   subcategory             55275 non-null  object \n",
      " 7   brand                   55275 non-null  object \n",
      " 8   original_price_inr      55275 non-null  object \n",
      " 9   discount_percent        55275 non-null  float64\n",
      " 10  discounted_price_inr    55275 non-null  float64\n",
      " 11  quantity                55275 non-null  int64  \n",
      " 12  subtotal_inr            55275 non-null  float64\n",
      " 13  delivery_charges        55275 non-null  float64\n",
      " 14  final_amount_inr        55275 non-null  float64\n",
      " 15  customer_city           55275 non-null  object \n",
      " 16  customer_state          55275 non-null  object \n",
      " 17  customer_tier           55275 non-null  object \n",
      " 18  customer_spending_tier  55275 non-null  object \n",
      " 19  customer_age_group      55275 non-null  object \n",
      " 20  payment_method          55275 non-null  object \n",
      " 21  delivery_days           55275 non-null  object \n",
      " 22  delivery_type           55275 non-null  object \n",
      " 23  is_prime_member         55275 non-null  object \n",
      " 24  is_festival_sale        55275 non-null  object \n",
      " 25  festival_name           17460 non-null  object \n",
      " 26  customer_rating         55275 non-null  float64\n",
      " 27  return_status           55275 non-null  object \n",
      " 28  order_month             55275 non-null  int64  \n",
      " 29  order_year              55275 non-null  int64  \n",
      " 30  order_quarter           55275 non-null  int64  \n",
      " 31  product_weight_kg       55275 non-null  float64\n",
      " 32  is_prime_eligible       55275 non-null  object \n",
      " 33  product_rating          55275 non-null  float64\n",
      "dtypes: float64(8), int64(4), object(22)\n",
      "memory usage: 14.3+ MB\n"
     ]
    }
   ],
   "source": [
    "df_16.info()"
   ]
  },
  {
   "cell_type": "markdown",
   "id": "9a85541c",
   "metadata": {},
   "source": [
    "# ----------------------------------------------------------------------------"
   ]
  },
  {
   "cell_type": "markdown",
   "id": "cf525a0e",
   "metadata": {},
   "source": [
    "Question 1\n",
    "Your dataset contains order_date in multiple formats: 'DD/MM/YYYY', 'DD-MM-YY', 'YYYY-MM-DD', and some invalid entries like '32/13/2020'. Clean and standardize all dates to 'YYYY-MM-DD' format, handling invalid dates appropriately.\n"
   ]
  },
  {
   "cell_type": "code",
   "execution_count": 72,
   "id": "7ff0f38b",
   "metadata": {},
   "outputs": [
    {
     "name": "stderr",
     "output_type": "stream",
     "text": [
      "C:\\Users\\offic\\AppData\\Local\\Temp\\ipykernel_14916\\712551751.py:12: UserWarning: The argument 'infer_datetime_format' is deprecated and will be removed in a future version. A strict version of it is now the default, see https://pandas.pydata.org/pdeps/0004-consistent-to-datetime-parsing.html. You can safely remove this argument.\n",
      "  ser = ser.fillna(pd.to_datetime(df_16[\"order_date\"], errors=\"coerce\", dayfirst=True, infer_datetime_format=True))\n",
      "C:\\Users\\offic\\AppData\\Local\\Temp\\ipykernel_14916\\712551751.py:12: UserWarning: Parsing dates in %Y-%m-%d format when dayfirst=True was specified. Pass `dayfirst=False` or specify a format to silence this warning.\n",
      "  ser = ser.fillna(pd.to_datetime(df_16[\"order_date\"], errors=\"coerce\", dayfirst=True, infer_datetime_format=True))\n"
     ]
    }
   ],
   "source": [
    "\n",
    "formats = [\"%d/%m/%Y\", \"%d-%m-%Y\", \"%Y-%m-%d\",\"%m/%d/%Y\"]\n",
    "\n",
    "# Try parsing with known formats one by one\n",
    "ser = None\n",
    "for fmt in formats:\n",
    "    if ser is None:\n",
    "        ser = pd.to_datetime(df_16[\"order_date\"], format=fmt, errors=\"coerce\", dayfirst=True)\n",
    "    else:\n",
    "        ser = ser.fillna(pd.to_datetime(df_16[\"order_date\"], format=fmt, errors=\"coerce\", dayfirst=True))\n",
    "\n",
    "# Final attempt using inference\n",
    "ser = ser.fillna(pd.to_datetime(df_16[\"order_date\"], errors=\"coerce\", dayfirst=True, infer_datetime_format=True))\n",
    "\n",
    "# Assign the cleaned and formatted date\n",
    "df_16[\"order_date_cleaned\"] = ser.dt.strftime('%Y-%m-%d')\n",
    "\n",
    "\n"
   ]
  },
  {
   "cell_type": "code",
   "execution_count": 73,
   "id": "31c3d837",
   "metadata": {},
   "outputs": [],
   "source": [
    "df_16[\"order_date_cleaned\"] = pd.to_datetime(df_16[\"order_date_cleaned\"], format='%Y-%m-%d', errors='coerce')\n"
   ]
  },
  {
   "cell_type": "code",
   "execution_count": 69,
   "id": "ef09ecdb",
   "metadata": {},
   "outputs": [
    {
     "name": "stdout",
     "output_type": "stream",
     "text": [
      "datetime64[ns]\n"
     ]
    }
   ],
   "source": [
    "print(df_16[\"order_date_cleaned\"].dtypes)\n"
   ]
  },
  {
   "cell_type": "code",
   "execution_count": 74,
   "id": "203ceb1a",
   "metadata": {},
   "outputs": [
    {
     "data": {
      "text/plain": [
       "0   2016-01-27\n",
       "1   2016-01-07\n",
       "2   2016-01-28\n",
       "3   2016-01-25\n",
       "4   2016-01-26\n",
       "5   2016-01-05\n",
       "6   2016-01-02\n",
       "7   2016-01-18\n",
       "8   2016-01-13\n",
       "9   2016-01-03\n",
       "Name: order_date_cleaned, dtype: datetime64[ns]"
      ]
     },
     "execution_count": 74,
     "metadata": {},
     "output_type": "execute_result"
    }
   ],
   "source": [
    "df_16[\"order_date_cleaned\"].head(10)"
   ]
  },
  {
   "cell_type": "code",
   "execution_count": 75,
   "id": "efbc8c66",
   "metadata": {},
   "outputs": [
    {
     "name": "stdout",
     "output_type": "stream",
     "text": [
      "0\n"
     ]
    }
   ],
   "source": [
    "print(df_16[\"order_date_cleaned\"].isna().sum())"
   ]
  },
  {
   "cell_type": "code",
   "execution_count": 76,
   "id": "ffaab413",
   "metadata": {},
   "outputs": [
    {
     "name": "stdout",
     "output_type": "stream",
     "text": [
      "Series([], Name: order_date, dtype: object)\n"
     ]
    }
   ],
   "source": [
    "invalid_dates = df_16[df_16[\"order_date_cleaned\"].isna()]\n",
    "print(invalid_dates[\"order_date\"].head(100))\n"
   ]
  },
  {
   "cell_type": "markdown",
   "id": "a1cd8b7f",
   "metadata": {},
   "source": []
  },
  {
   "cell_type": "markdown",
   "id": "57241884",
   "metadata": {},
   "source": []
  },
  {
   "cell_type": "markdown",
   "id": "1a1dd87f",
   "metadata": {},
   "source": []
  },
  {
   "cell_type": "markdown",
   "id": "3c15d468",
   "metadata": {},
   "source": [
    "# -------------------------------------------------------------------------"
   ]
  },
  {
   "cell_type": "markdown",
   "id": "5e3aa41d",
   "metadata": {},
   "source": [
    "Question 2\n",
    "The original_price_inr column contains mixed data types: numeric values, text with '₹' symbols, comma separators ('₹1,25,000'), and some entries like 'Price on Request'. Clean this column to contain only numeric values in Indian Rupees.\n"
   ]
  },
  {
   "cell_type": "code",
   "execution_count": 570,
   "id": "3bcf6197",
   "metadata": {},
   "outputs": [
    {
     "name": "stdout",
     "output_type": "stream",
     "text": [
      "<class 'pandas.core.series.Series'>\n",
      "RangeIndex: 55275 entries, 0 to 55274\n",
      "Series name: original_price_inr\n",
      "Non-Null Count  Dtype  \n",
      "--------------  -----  \n",
      "55275 non-null  float64\n",
      "dtypes: float64(1)\n",
      "memory usage: 432.0 KB\n",
      "None\n",
      "0\n",
      "0\n"
     ]
    }
   ],
   "source": [
    "df_16['original_price_inr'] = df_16['original_price_inr'].astype(str) \\\n",
    "                           .str.replace('₹','', regex=False) \\\n",
    "                           .str.replace(',','', regex=False)\\\n",
    "                           .str.replace(\"Rs\",'',regex=False)\n",
    "\n",
    "# Converting to numeric\n",
    "df_16['original_price_inr'] = pd.to_numeric(df_16['original_price_inr'], errors='coerce')\n",
    "\n",
    "\n",
    "print(df_16['original_price_inr'].info())\n",
    "print(df_16[\"original_price_inr\"].isnull().sum())\n",
    "\n",
    "\n",
    "df_16['original_price_inr'] = df_16['original_price_inr'].fillna(df_16['original_price_inr'].mean())\n",
    "print(df_16['original_price_inr'].isnull().sum())"
   ]
  },
  {
   "cell_type": "code",
   "execution_count": null,
   "id": "3e131d03",
   "metadata": {},
   "outputs": [],
   "source": []
  },
  {
   "cell_type": "markdown",
   "id": "b392bee7",
   "metadata": {},
   "source": [
    "Question 3\n",
    "Customer ratings appear in various formats: '5.0', '4 stars', '3/5', '2.5/5.0', and some missing values. Standardize all ratings to numeric scale 1.0-5.0, handling inconsistent formats and missing values strategically.\n"
   ]
  },
  {
   "cell_type": "code",
   "execution_count": 573,
   "id": "28cfd102",
   "metadata": {},
   "outputs": [
    {
     "name": "stdout",
     "output_type": "stream",
     "text": [
      "0    4\n",
      "1    4\n",
      "2    5\n",
      "3    4\n",
      "4    4\n",
      "Name: customer_rating, dtype: int64\n",
      "0\n"
     ]
    }
   ],
   "source": [
    "print(df_16[\"customer_rating\"].head(5))\n",
    "\n",
    "print(df_16[\"customer_city\"].isna().sum())\n"
   ]
  },
  {
   "cell_type": "code",
   "execution_count": null,
   "id": "dc9dcf48",
   "metadata": {},
   "outputs": [],
   "source": []
  },
  {
   "cell_type": "markdown",
   "id": "14f7bf0b",
   "metadata": {},
   "source": [
    "Question 4\n",
    "The customer_city column has inconsistent naming: 'Bangalore/Bengaluru', 'Mumbai/Bombay', 'Delhi/New Delhi', along with spelling errors and case variations. Standardize all city names and handle geographical variations.\n"
   ]
  },
  {
   "cell_type": "code",
   "execution_count": 574,
   "id": "0445fd9c",
   "metadata": {},
   "outputs": [
    {
     "data": {
      "text/plain": [
       "array(['Pune', 'Lucknow', 'Mumbai', 'Ahmedabad', 'Delhi', 'Chennai',\n",
       "       'Surat', 'Vadodara', 'Coimbatore', 'Kolkata', 'Indore',\n",
       "       'Saharanpur', 'Chandigarh', 'Bangalore', 'Patna', 'Madras',\n",
       "       'Bhubaneswar', 'Jaipur', 'Nagpur', 'Allahabad', 'Kanpur',\n",
       "       'Visakhapatnam', 'Hyderabad', 'Kolkata ', 'Ludhiana', 'Varanasi',\n",
       "       'BANGALORE', 'Kochi', 'Moradabad', 'Meerut', 'Bareilly', 'CHENNAI',\n",
       "       'kolkata', 'New Delhi', 'Aligarh', 'Gorakhpur', 'Bengalore',\n",
       "       'MUMBAI', 'chenai', 'Bengaluru', 'Calcutta', 'Mumbai ', 'DELHI',\n",
       "       'Banglore', 'Delhi NCR', 'Bombay', 'KOLKATA', 'delhi', 'mumba',\n",
       "       'Chennai '], dtype=object)"
      ]
     },
     "execution_count": 574,
     "metadata": {},
     "output_type": "execute_result"
    }
   ],
   "source": [
    "df_16[\"customer_city\"].unique()"
   ]
  },
  {
   "cell_type": "code",
   "execution_count": 575,
   "id": "6fb16462",
   "metadata": {},
   "outputs": [],
   "source": [
    "\n",
    "df_16['customer_city'] = df_16['customer_city'].str.strip().str.lower()\n",
    "\n",
    "CITY = {\n",
    "    \"bangalore\": \"Bengaluru\",\n",
    "    \"bengaluru\": \"Bengaluru\",\n",
    "    \"banglore\": \"Bengaluru\",\n",
    "    \"bengalore\": \"Bengaluru\",\n",
    "    \"bangluru\": \"Bengaluru\",\n",
    "\n",
    "    \"bombay\": \"Mumbai\",\n",
    "    \"mumbai\": \"Mumbai\",\n",
    "    \"mumba\": \"Mumbai\",\n",
    "    \"mumbai \": \"Mumbai\",\n",
    "\n",
    "    \"new delhi\": \"Delhi\",\n",
    "    \"delhi\": \"Delhi\",\n",
    "    \"delhi ncr\": \"Delhi\",\n",
    "\n",
    "    \"kolkata\": \"Kolkata\",\n",
    "    \"kolkata \": \"Kolkata\",\n",
    "    \"calcutta\": \"Kolkata\",\n",
    "    \"kolkatta\": \"Kolkata\",\n",
    "\n",
    "    \"chennai\": \"Chennai\",\n",
    "    \"chenai\": \"Chennai\",\n",
    "    \"chennai \": \"Chennai\",\n",
    "    \"madras\": \"Chennai\",\n",
    "}\n",
    "\n",
    "\n",
    "df_16[\"customer_city\"]=df_16[\"customer_city\"].replace(CITY)\n",
    "\n",
    "\n",
    "df_16['customer_city'] = df_16['customer_city'].str.title() #captailize first letter\n"
   ]
  },
  {
   "cell_type": "code",
   "execution_count": 577,
   "id": "7f7616db",
   "metadata": {},
   "outputs": [
    {
     "name": "stdout",
     "output_type": "stream",
     "text": [
      "<class 'pandas.core.series.Series'>\n",
      "RangeIndex: 55275 entries, 0 to 55274\n",
      "Series name: customer_city\n",
      "Non-Null Count  Dtype \n",
      "--------------  ----- \n",
      "55275 non-null  object\n",
      "dtypes: object(1)\n",
      "memory usage: 432.0+ KB\n"
     ]
    }
   ],
   "source": [
    "df_16[\"customer_city\"].info()"
   ]
  },
  {
   "cell_type": "markdown",
   "id": "c2a56a22",
   "metadata": {},
   "source": []
  },
  {
   "cell_type": "markdown",
   "id": "a553e420",
   "metadata": {},
   "source": [
    "Question 5\n",
    "Boolean columns (is_prime_member, is_prime_eligible, is_festival_sale) contain mixed values: True/False, Yes/No, 1/0, Y/N, and some missing entries. Convert all boolean columns to consistent True/False format.\n"
   ]
  },
  {
   "cell_type": "code",
   "execution_count": 579,
   "id": "ce587757",
   "metadata": {},
   "outputs": [
    {
     "name": "stdout",
     "output_type": "stream",
     "text": [
      "['False' 'True' 'FALSE' 'No' 'Yes' 'TRUE' '1' '0']\n",
      "['True' 'TRUE' 'False' 'Yes' '1' 'No' '0' 'FALSE']\n",
      "['False' '0' 'FALSE' 'No' 'True' '1' 'TRUE' 'Yes']\n"
     ]
    }
   ],
   "source": [
    "print(df_16[\"is_festival_sale\"].unique())\n",
    "print(df_16[\"is_prime_eligible\"].unique())\n",
    "print(df_16[\"is_prime_member\"].unique())"
   ]
  },
  {
   "cell_type": "code",
   "execution_count": 580,
   "id": "5751e86d",
   "metadata": {},
   "outputs": [
    {
     "name": "stderr",
     "output_type": "stream",
     "text": [
      "C:\\Users\\offic\\AppData\\Local\\Temp\\ipykernel_10448\\2491953745.py:14: FutureWarning: Downcasting behavior in `replace` is deprecated and will be removed in a future version. To retain the old behavior, explicitly call `result.infer_objects(copy=False)`. To opt-in to the future behavior, set `pd.set_option('future.no_silent_downcasting', True)`\n",
      "  df_16[[\"is_prime_eligible\",\"is_festival_sale\",\"is_prime_member\"]] = df_16[[\"is_prime_eligible\",\"is_festival_sale\",\"is_prime_member\"]].replace(boolian).astype(bool)\n"
     ]
    }
   ],
   "source": [
    "#Here set the all boolin true/false and set type bool from object\n",
    "\n",
    "boolian={\n",
    "    \"TRUE\": True,\n",
    "    \"FALSE\": False,\n",
    "    \"No\": False,\n",
    "    \"1\": True,\n",
    "    \"0\": False,\n",
    "    \"Yes\": True,\n",
    "    \"True\": True,\n",
    "    \"False\": False\n",
    "}\n",
    "\n",
    "df_16[[\"is_prime_eligible\",\"is_festival_sale\",\"is_prime_member\"]] = df_16[[\"is_prime_eligible\",\"is_festival_sale\",\"is_prime_member\"]].replace(boolian).astype(bool)"
   ]
  },
  {
   "cell_type": "code",
   "execution_count": 581,
   "id": "1bf76b6e",
   "metadata": {},
   "outputs": [
    {
     "name": "stdout",
     "output_type": "stream",
     "text": [
      "[False  True]\n",
      "[ True False]\n",
      "[False  True]\n"
     ]
    }
   ],
   "source": [
    "print(df_16[\"is_festival_sale\"].unique())\n",
    "print(df_16[\"is_prime_eligible\"].unique())\n",
    "print(df_16[\"is_prime_member\"].unique())"
   ]
  },
  {
   "cell_type": "code",
   "execution_count": 582,
   "id": "d6ce6534",
   "metadata": {},
   "outputs": [
    {
     "name": "stdout",
     "output_type": "stream",
     "text": [
      "<class 'pandas.core.frame.DataFrame'>\n",
      "RangeIndex: 55275 entries, 0 to 55274\n",
      "Data columns (total 3 columns):\n",
      " #   Column             Non-Null Count  Dtype\n",
      "---  ------             --------------  -----\n",
      " 0   is_prime_eligible  55275 non-null  bool \n",
      " 1   is_festival_sale   55275 non-null  bool \n",
      " 2   is_prime_member    55275 non-null  bool \n",
      "dtypes: bool(3)\n",
      "memory usage: 162.1 KB\n"
     ]
    }
   ],
   "source": [
    "df_16[[\"is_prime_eligible\",\"is_festival_sale\",\"is_prime_member\"]].info()"
   ]
  },
  {
   "cell_type": "markdown",
   "id": "bb62e247",
   "metadata": {},
   "source": []
  },
  {
   "cell_type": "markdown",
   "id": "df16669d",
   "metadata": {},
   "source": [
    "Question 6\n",
    "Product categories have variations: 'Electronics/Electronic/ELECTRONICS/Electronics & Accessories'. Standardize category names across the dataset and ensure consistent naming conventions.\n"
   ]
  },
  {
   "cell_type": "code",
   "execution_count": 583,
   "id": "a24d56ee",
   "metadata": {},
   "outputs": [
    {
     "data": {
      "text/plain": [
       "array(['Electronics', 'Electronics & Accessories', 'ELECTRONICS',\n",
       "       'Electronicss', 'Electronic'], dtype=object)"
      ]
     },
     "execution_count": 583,
     "metadata": {},
     "output_type": "execute_result"
    }
   ],
   "source": [
    "df_16[\"category\"].unique()"
   ]
  },
  {
   "cell_type": "code",
   "execution_count": 584,
   "id": "52d69d45",
   "metadata": {},
   "outputs": [],
   "source": [
    "#  Normalize to lowercase \n",
    "df_16['category'] = df_16['category'].str.strip().str.lower()\n",
    "\n",
    "\n",
    "CATEGORY_MAP = {\n",
    "    \"electronics\": \"Electronics\",\n",
    "    \"electronic\": \"Electronics\",\n",
    "    \"electronics & accessories\": \"Electronics\",\n",
    "    \"electronicss\": \"Electronics\"\n",
    "    \n",
    "}\n",
    "\n",
    "# mapping\n",
    "df_16['category'] = df_16['category'].replace(CATEGORY_MAP)\n",
    "\n",
    "#  title case for display\n",
    "df_16['category'] = df_16['category'].str.title()\n",
    "\n",
    "\n",
    "# print(df['category'].unique())\n"
   ]
  },
  {
   "cell_type": "code",
   "execution_count": 585,
   "id": "df67c161",
   "metadata": {},
   "outputs": [
    {
     "data": {
      "text/plain": [
       "array(['Electronics'], dtype=object)"
      ]
     },
     "execution_count": 585,
     "metadata": {},
     "output_type": "execute_result"
    }
   ],
   "source": [
    "df_16[\"category\"].unique()"
   ]
  },
  {
   "cell_type": "code",
   "execution_count": 586,
   "id": "2677f914",
   "metadata": {},
   "outputs": [
    {
     "name": "stdout",
     "output_type": "stream",
     "text": [
      "<class 'pandas.core.series.Series'>\n",
      "RangeIndex: 55275 entries, 0 to 55274\n",
      "Series name: category\n",
      "Non-Null Count  Dtype \n",
      "--------------  ----- \n",
      "55275 non-null  object\n",
      "dtypes: object(1)\n",
      "memory usage: 432.0+ KB\n"
     ]
    }
   ],
   "source": [
    "df_16[\"category\"].info()"
   ]
  },
  {
   "cell_type": "markdown",
   "id": "86aa44da",
   "metadata": {},
   "source": []
  },
  {
   "cell_type": "markdown",
   "id": "e454710b",
   "metadata": {},
   "source": [
    "Question 7\n",
    "The delivery_days column contains negative values, text entries like 'Same Day', '1-2 days', and some unrealistic values like 50 days. Clean this column to contain only valid numeric delivery days.\n"
   ]
  },
  {
   "cell_type": "code",
   "execution_count": 587,
   "id": "e2d5a9cb",
   "metadata": {},
   "outputs": [
    {
     "data": {
      "text/plain": [
       "array(['3', '15', '5', '4', '7', '6', '0', '1', '1-2 days', '-1',\n",
       "       'Same Day', '2', 'Express'], dtype=object)"
      ]
     },
     "execution_count": 587,
     "metadata": {},
     "output_type": "execute_result"
    }
   ],
   "source": [
    "df_16[\"delivery_days\"].unique()"
   ]
  },
  {
   "cell_type": "code",
   "execution_count": 588,
   "id": "9ce0fe9a",
   "metadata": {},
   "outputs": [],
   "source": [
    "mapping = {\n",
    "    'Same Day': 0,\n",
    "    '1-2 days': 1,\n",
    "    'Express': 0\n",
    "}\n",
    "\n",
    "def convert(value):\n",
    "    if value in mapping:\n",
    "        return mapping[value]\n",
    "    try:\n",
    "        return int(value)\n",
    "    except ValueError:\n",
    "        return -1 \n",
    "    \n",
    "\n",
    "df_16[\"delivery_days\"]=df_16[\"delivery_days\"].apply(convert)\n",
    "\n",
    "#now convert into type as integer\n",
    "\n",
    "df_16[\"delivery_days\"] = pd.to_numeric(df_16[\"delivery_days\"], errors='coerce')\n",
    "\n",
    "    \n",
    "    "
   ]
  },
  {
   "cell_type": "code",
   "execution_count": 589,
   "id": "5258cd84",
   "metadata": {},
   "outputs": [
    {
     "name": "stdout",
     "output_type": "stream",
     "text": [
      "340\n"
     ]
    }
   ],
   "source": [
    "invalid=(df_16[\"delivery_days\"]== -1).sum()\n",
    "print(invalid)"
   ]
  },
  {
   "cell_type": "code",
   "execution_count": 590,
   "id": "e7cf8608",
   "metadata": {},
   "outputs": [
    {
     "name": "stdout",
     "output_type": "stream",
     "text": [
      "0\n"
     ]
    }
   ],
   "source": [
    "from sklearn.experimental import enable_iterative_imputer  # noqa\n",
    "from sklearn.impute import IterativeImputer\n",
    "from sklearn.linear_model import BayesianRidge\n",
    "\n",
    "\n",
    "df_16[\"delivery_days\"] = df_16[\"delivery_days\"].replace(-1, np.nan)\n",
    "\n",
    "# using iterative imputer\n",
    "imputer=IterativeImputer(estimator=BayesianRidge(),max_iter=10, random_state=0)\n",
    "\n",
    "df_16[[\"delivery_days\"]] = imputer.fit_transform(df_16[[\"delivery_days\"]])\n",
    "\n",
    "# Convert to integer \n",
    "df_16[\"delivery_days\"] = df_16[\"delivery_days\"].round().astype(int)\n",
    "\n",
    "print(df_16[\"delivery_days\"].isna().sum())\n",
    "\n"
   ]
  },
  {
   "cell_type": "code",
   "execution_count": 591,
   "id": "8ba8205f",
   "metadata": {},
   "outputs": [
    {
     "name": "stdout",
     "output_type": "stream",
     "text": [
      "<class 'pandas.core.series.Series'>\n",
      "RangeIndex: 55275 entries, 0 to 55274\n",
      "Series name: delivery_days\n",
      "Non-Null Count  Dtype\n",
      "--------------  -----\n",
      "55275 non-null  int64\n",
      "dtypes: int64(1)\n",
      "memory usage: 432.0 KB\n"
     ]
    }
   ],
   "source": [
    "df_16[\"delivery_days\"].info()"
   ]
  },
  {
   "cell_type": "code",
   "execution_count": null,
   "id": "da05a090",
   "metadata": {},
   "outputs": [],
   "source": []
  },
  {
   "cell_type": "markdown",
   "id": "e605cff5",
   "metadata": {},
   "source": [
    "Question 8\n",
    "Identify and handle duplicate transactions where the same customer, product, date, and amount appear multiple times. Some duplicates are genuine (bulk orders) while others are data errors. Develop a strategy to distinguish and handle both cases.\n"
   ]
  },
  {
   "cell_type": "code",
   "execution_count": null,
   "id": "a738c4da",
   "metadata": {},
   "outputs": [],
   "source": []
  },
  {
   "cell_type": "code",
   "execution_count": null,
   "id": "c21def6e",
   "metadata": {},
   "outputs": [],
   "source": []
  },
  {
   "cell_type": "code",
   "execution_count": null,
   "id": "3e591a0e",
   "metadata": {},
   "outputs": [],
   "source": []
  },
  {
   "cell_type": "markdown",
   "id": "bc5dc88a",
   "metadata": {},
   "source": [
    "Question 9\n",
    "The dataset contains outlier prices where some products show prices 100x higher than expected due to data entry errors (decimal point issues). Identify and correct these outliers using statistical methods and domain knowledge.\n"
   ]
  },
  {
   "cell_type": "code",
   "execution_count": 593,
   "id": "5a2f1db5",
   "metadata": {},
   "outputs": [
    {
     "data": {
      "image/png": "[encoded data removed]",
      "text/plain": [
       "<Figure size 640x480 with 1 Axes>"
      ]
     },
     "metadata": {},
     "output_type": "display_data"
    }
   ],
   "source": [
    "import seaborn as sns\n",
    "import matplotlib.pyplot as plt\n",
    "\n",
    "\n",
    "sns.boxplot(x=df_16[\"original_price_inr\"])\n",
    "plt.show()\n"
   ]
  },
  {
   "cell_type": "code",
   "execution_count": 594,
   "id": "76cfae75",
   "metadata": {},
   "outputs": [
    {
     "name": "stdout",
     "output_type": "stream",
     "text": [
      "Detected outliers: 667\n"
     ]
    },
    {
     "data": {
      "image/png": "[encoded data removed]",
      "text/plain": [
       "<Figure size 1500x500 with 2 Axes>"
      ]
     },
     "metadata": {},
     "output_type": "display_data"
    }
   ],
   "source": [
    "import pandas as pd\n",
    "import seaborn as sns\n",
    "import matplotlib.pyplot as plt\n",
    "\n",
    "\n",
    "n = df_16[\"original_price_inr\"].copy()\n",
    "\n",
    "# removing outliers...\n",
    "\n",
    "q1 = n.quantile(0.25)\n",
    "q3 = n.quantile(0.75)\n",
    "iqr = q3 - q1\n",
    "\n",
    "\n",
    "lower_bound = q1 - 1.5 * iqr\n",
    "upper_bound = q3 + 1.5 * iqr\n",
    "\n",
    "# outlier above the upper bound\n",
    "outliers = df_16[df_16[\"original_price_inr\"] > upper_bound]\n",
    "print(f\"Detected outliers: {outliers.shape[0]}\")\n",
    "\n",
    "# Correct those outliers assuming they were inflated by 100x\n",
    "df_16[\"corrected_price_inr\"] = df_16[\"original_price_inr\"]\n",
    "\n",
    "df_16.loc[df_16[\"original_price_inr\"] > upper_bound, \"corrected_price_inr\"] = df_16[\"original_price_inr\"] / 100\n",
    "\n",
    "# visualization  before and after\n",
    "\n",
    "plt.figure(figsize = (15,5))\n",
    "\n",
    "\n",
    "plt.subplot(121)\n",
    "sns.boxplot(x=df_16[\"original_price_inr\"])\n",
    "plt.title(\"Original Prices with Outliers\")\n",
    "\n",
    "\n",
    "plt.subplot(122)\n",
    "sns.boxplot(x=df_16[\"corrected_price_inr\"])\n",
    "plt.title(\"Corrected Prices\")\n",
    "\n",
    "plt.tight_layout()\n",
    "plt.show()\n"
   ]
  },
  {
   "cell_type": "code",
   "execution_count": 595,
   "id": "32b95dc3",
   "metadata": {},
   "outputs": [
    {
     "name": "stdout",
     "output_type": "stream",
     "text": [
      "<class 'pandas.core.series.Series'>\n",
      "RangeIndex: 55275 entries, 0 to 55274\n",
      "Series name: original_price_inr\n",
      "Non-Null Count  Dtype  \n",
      "--------------  -----  \n",
      "55275 non-null  float64\n",
      "dtypes: float64(1)\n",
      "memory usage: 432.0 KB\n"
     ]
    }
   ],
   "source": [
    "df_16[\"original_price_inr\"].info()"
   ]
  },
  {
   "cell_type": "code",
   "execution_count": 597,
   "id": "5938dd0b",
   "metadata": {},
   "outputs": [
    {
     "name": "stdout",
     "output_type": "stream",
     "text": [
      "<class 'pandas.core.series.Series'>\n",
      "RangeIndex: 55275 entries, 0 to 55274\n",
      "Series name: corrected_price_inr\n",
      "Non-Null Count  Dtype  \n",
      "--------------  -----  \n",
      "55275 non-null  float64\n",
      "dtypes: float64(1)\n",
      "memory usage: 432.0 KB\n"
     ]
    }
   ],
   "source": [
    "df_16[\"corrected_price_inr\"].info()"
   ]
  },
  {
   "cell_type": "markdown",
   "id": "dfa76e50",
   "metadata": {},
   "source": []
  },
  {
   "cell_type": "markdown",
   "id": "e376bd49",
   "metadata": {},
   "source": [
    "Question 10\n",
    "Payment methods contain inconsistent naming: 'UPI/PhonePe/GooglePay', 'Credit Card/CREDIT_CARD/CC', 'Cash on Delivery/COD/C.O.D'. Standardize payment method categories and create a clean categorical hierarchy.\n"
   ]
  },
  {
   "cell_type": "code",
   "execution_count": 598,
   "id": "d9ff97b5",
   "metadata": {},
   "outputs": [
    {
     "data": {
      "text/plain": [
       "array(['COD', 'Credit Card', 'Debit Card', 'Net Banking', 'UPI'],\n",
       "      dtype=object)"
      ]
     },
     "execution_count": 598,
     "metadata": {},
     "output_type": "execute_result"
    }
   ],
   "source": [
    "df_16[\"payment_method\"].unique()"
   ]
  },
  {
   "cell_type": "code",
   "execution_count": 599,
   "id": "823b1e4a",
   "metadata": {},
   "outputs": [
    {
     "data": {
      "text/plain": [
       "np.int64(0)"
      ]
     },
     "execution_count": 599,
     "metadata": {},
     "output_type": "execute_result"
    }
   ],
   "source": [
    "df_16[\"payment_method\"].isna().sum()"
   ]
  },
  {
   "cell_type": "markdown",
   "id": "6916af0f",
   "metadata": {},
   "source": []
  },
  {
   "cell_type": "markdown",
   "id": "20325ba3",
   "metadata": {},
   "source": []
  },
  {
   "cell_type": "markdown",
   "id": "4ae6b02a",
   "metadata": {},
   "source": [
    "# ------------------------------------------------------------------------------"
   ]
  },
  {
   "cell_type": "markdown",
   "id": "4b6d97c4",
   "metadata": {},
   "source": [
    "# ------------------------------------------------------------------------------"
   ]
  },
  {
   "cell_type": "markdown",
   "id": "e4bbe2fa",
   "metadata": {},
   "source": [
    "# ------------------------------------------------------------------------------"
   ]
  },
  {
   "cell_type": "code",
   "execution_count": 601,
   "id": "537e9ba6",
   "metadata": {},
   "outputs": [
    {
     "data": {
      "text/html": [
       "<div>\n",
       "<style scoped>\n",
       "    .dataframe tbody tr th:only-of-type {\n",
       "        vertical-align: middle;\n",
       "    }\n",
       "\n",
       "    .dataframe tbody tr th {\n",
       "        vertical-align: top;\n",
       "    }\n",
       "\n",
       "    .dataframe thead th {\n",
       "        text-align: right;\n",
       "    }\n",
       "</style>\n",
       "<table border=\"1\" class=\"dataframe\">\n",
       "  <thead>\n",
       "    <tr style=\"text-align: right;\">\n",
       "      <th></th>\n",
       "      <th>transaction_id</th>\n",
       "      <th>order_date</th>\n",
       "      <th>customer_id</th>\n",
       "      <th>product_id</th>\n",
       "      <th>product_name</th>\n",
       "      <th>category</th>\n",
       "      <th>subcategory</th>\n",
       "      <th>brand</th>\n",
       "      <th>original_price_inr</th>\n",
       "      <th>discount_percent</th>\n",
       "      <th>...</th>\n",
       "      <th>is_festival_sale</th>\n",
       "      <th>festival_name</th>\n",
       "      <th>customer_rating</th>\n",
       "      <th>return_status</th>\n",
       "      <th>order_month</th>\n",
       "      <th>order_year</th>\n",
       "      <th>order_quarter</th>\n",
       "      <th>product_weight_kg</th>\n",
       "      <th>is_prime_eligible</th>\n",
       "      <th>product_rating</th>\n",
       "    </tr>\n",
       "  </thead>\n",
       "  <tbody>\n",
       "    <tr>\n",
       "      <th>0</th>\n",
       "      <td>TXN_2017_00000001</td>\n",
       "      <td>17-01-2017</td>\n",
       "      <td>CUST_2016_00011375</td>\n",
       "      <td>PROD_000297</td>\n",
       "      <td>Vivo V7+ 16GB Black</td>\n",
       "      <td>Electronics</td>\n",
       "      <td>Smartphones</td>\n",
       "      <td>Vivo</td>\n",
       "      <td>25367.39</td>\n",
       "      <td>0.00</td>\n",
       "      <td>...</td>\n",
       "      <td>FALSE</td>\n",
       "      <td>NaN</td>\n",
       "      <td>NaN</td>\n",
       "      <td>Delivered</td>\n",
       "      <td>1</td>\n",
       "      <td>2017</td>\n",
       "      <td>1</td>\n",
       "      <td>0.23</td>\n",
       "      <td>True</td>\n",
       "      <td>4.6</td>\n",
       "    </tr>\n",
       "    <tr>\n",
       "      <th>1</th>\n",
       "      <td>TXN_2017_00000002</td>\n",
       "      <td>2017-01-28</td>\n",
       "      <td>CUST_2017_00014565</td>\n",
       "      <td>PROD_000193</td>\n",
       "      <td>Motorola Moto G4 32GB White</td>\n",
       "      <td>Electronics</td>\n",
       "      <td>Smartphones</td>\n",
       "      <td>Motorola</td>\n",
       "      <td>16997.28</td>\n",
       "      <td>9.98</td>\n",
       "      <td>...</td>\n",
       "      <td>False</td>\n",
       "      <td>NaN</td>\n",
       "      <td>3.0</td>\n",
       "      <td>Returned</td>\n",
       "      <td>1</td>\n",
       "      <td>2017</td>\n",
       "      <td>1</td>\n",
       "      <td>0.16</td>\n",
       "      <td>True</td>\n",
       "      <td>3.5</td>\n",
       "    </tr>\n",
       "    <tr>\n",
       "      <th>2</th>\n",
       "      <td>TXN_2017_00000003</td>\n",
       "      <td>2017-01-30</td>\n",
       "      <td>CUST_2016_00011649</td>\n",
       "      <td>PROD_000073</td>\n",
       "      <td>Xiaomi Redmi 2 16GB White</td>\n",
       "      <td>Electronics</td>\n",
       "      <td>Smartphones</td>\n",
       "      <td>Xiaomi</td>\n",
       "      <td>47409.63</td>\n",
       "      <td>0.00</td>\n",
       "      <td>...</td>\n",
       "      <td>False</td>\n",
       "      <td>NaN</td>\n",
       "      <td>3.5</td>\n",
       "      <td>Delivered</td>\n",
       "      <td>1</td>\n",
       "      <td>2017</td>\n",
       "      <td>1</td>\n",
       "      <td>0.23</td>\n",
       "      <td>True</td>\n",
       "      <td>4.2</td>\n",
       "    </tr>\n",
       "    <tr>\n",
       "      <th>3</th>\n",
       "      <td>TXN_2017_00000004</td>\n",
       "      <td>2017-01-04</td>\n",
       "      <td>CUST_2016_00003484</td>\n",
       "      <td>PROD_000047</td>\n",
       "      <td>Samsung Galaxy J7 64GB Black</td>\n",
       "      <td>Electronics</td>\n",
       "      <td>Smartphones</td>\n",
       "      <td>Samsung</td>\n",
       "      <td>₹45,555.75</td>\n",
       "      <td>0.00</td>\n",
       "      <td>...</td>\n",
       "      <td>False</td>\n",
       "      <td>NaN</td>\n",
       "      <td>4.5</td>\n",
       "      <td>Delivered</td>\n",
       "      <td>1</td>\n",
       "      <td>2017</td>\n",
       "      <td>1</td>\n",
       "      <td>0.24</td>\n",
       "      <td>True</td>\n",
       "      <td>4.4</td>\n",
       "    </tr>\n",
       "    <tr>\n",
       "      <th>4</th>\n",
       "      <td>TXN_2017_00000005</td>\n",
       "      <td>2017-01-07</td>\n",
       "      <td>CUST_2015_00009936</td>\n",
       "      <td>PROD_000136</td>\n",
       "      <td>Samsung Galaxy S7 Edge 16GB Blue</td>\n",
       "      <td>Electronics</td>\n",
       "      <td>Smartphones</td>\n",
       "      <td>Samsung</td>\n",
       "      <td>100190.24</td>\n",
       "      <td>0.00</td>\n",
       "      <td>...</td>\n",
       "      <td>False</td>\n",
       "      <td>NaN</td>\n",
       "      <td>5.0</td>\n",
       "      <td>Delivered</td>\n",
       "      <td>1</td>\n",
       "      <td>2017</td>\n",
       "      <td>1</td>\n",
       "      <td>0.16</td>\n",
       "      <td>True</td>\n",
       "      <td>3.4</td>\n",
       "    </tr>\n",
       "  </tbody>\n",
       "</table>\n",
       "<p>5 rows × 34 columns</p>\n",
       "</div>"
      ],
      "text/plain": [
       "      transaction_id  order_date         customer_id   product_id  \\\n",
       "0  TXN_2017_00000001  17-01-2017  CUST_2016_00011375  PROD_000297   \n",
       "1  TXN_2017_00000002  2017-01-28  CUST_2017_00014565  PROD_000193   \n",
       "2  TXN_2017_00000003  2017-01-30  CUST_2016_00011649  PROD_000073   \n",
       "3  TXN_2017_00000004  2017-01-04  CUST_2016_00003484  PROD_000047   \n",
       "4  TXN_2017_00000005  2017-01-07  CUST_2015_00009936  PROD_000136   \n",
       "\n",
       "                       product_name     category  subcategory     brand  \\\n",
       "0               Vivo V7+ 16GB Black  Electronics  Smartphones      Vivo   \n",
       "1       Motorola Moto G4 32GB White  Electronics  Smartphones  Motorola   \n",
       "2         Xiaomi Redmi 2 16GB White  Electronics  Smartphones    Xiaomi   \n",
       "3      Samsung Galaxy J7 64GB Black  Electronics  Smartphones   Samsung   \n",
       "4  Samsung Galaxy S7 Edge 16GB Blue  Electronics  Smartphones   Samsung   \n",
       "\n",
       "  original_price_inr  discount_percent  ...  is_festival_sale  festival_name  \\\n",
       "0           25367.39              0.00  ...             FALSE            NaN   \n",
       "1           16997.28              9.98  ...             False            NaN   \n",
       "2           47409.63              0.00  ...             False            NaN   \n",
       "3         ₹45,555.75              0.00  ...             False            NaN   \n",
       "4          100190.24              0.00  ...             False            NaN   \n",
       "\n",
       "   customer_rating  return_status  order_month order_year order_quarter  \\\n",
       "0              NaN      Delivered            1       2017             1   \n",
       "1              3.0       Returned            1       2017             1   \n",
       "2              3.5      Delivered            1       2017             1   \n",
       "3              4.5      Delivered            1       2017             1   \n",
       "4              5.0      Delivered            1       2017             1   \n",
       "\n",
       "  product_weight_kg is_prime_eligible product_rating  \n",
       "0              0.23              True            4.6  \n",
       "1              0.16              True            3.5  \n",
       "2              0.23              True            4.2  \n",
       "3              0.24              True            4.4  \n",
       "4              0.16              True            3.4  \n",
       "\n",
       "[5 rows x 34 columns]"
      ]
     },
     "execution_count": 601,
     "metadata": {},
     "output_type": "execute_result"
    }
   ],
   "source": [
    "import pandas as pd\n",
    "\n",
    "df_17=pd.read_csv(\"amazon_india_2017.csv\")\n",
    "df_17.head()"
   ]
  },
  {
   "cell_type": "code",
   "execution_count": 604,
   "id": "ab2bab80",
   "metadata": {},
   "outputs": [
    {
     "data": {
      "text/plain": [
       "transaction_id                0\n",
       "order_date                    0\n",
       "customer_id                   0\n",
       "product_id                    0\n",
       "product_name                  0\n",
       "category                      0\n",
       "subcategory                   0\n",
       "brand                         0\n",
       "original_price_inr            0\n",
       "discount_percent              0\n",
       "discounted_price_inr          0\n",
       "quantity                      0\n",
       "subtotal_inr                  0\n",
       "delivery_charges           6189\n",
       "final_amount_inr              0\n",
       "customer_city                 0\n",
       "customer_state                0\n",
       "customer_tier                 0\n",
       "customer_spending_tier        0\n",
       "customer_age_group         9273\n",
       "payment_method                0\n",
       "delivery_days                 0\n",
       "delivery_type                 0\n",
       "is_prime_member               0\n",
       "is_festival_sale              0\n",
       "festival_name             52831\n",
       "customer_rating           23592\n",
       "return_status                 0\n",
       "order_month                   0\n",
       "order_year                    0\n",
       "order_quarter                 0\n",
       "product_weight_kg             0\n",
       "is_prime_eligible             0\n",
       "product_rating                0\n",
       "dtype: int64"
      ]
     },
     "execution_count": 604,
     "metadata": {},
     "output_type": "execute_result"
    }
   ],
   "source": [
    "missing_value=df_17.isna().sum()\n",
    "missing_value"
   ]
  },
  {
   "cell_type": "code",
   "execution_count": 605,
   "id": "caf1d8a0",
   "metadata": {},
   "outputs": [
    {
     "name": "stdout",
     "output_type": "stream",
     "text": [
      "delivery_charges       6189\n",
      "customer_age_group     9273\n",
      "festival_name         52831\n",
      "customer_rating       23592\n",
      "dtype: int64\n",
      "Total missing values: 91885\n",
      "Percentage of missing data: 3.49%\n"
     ]
    }
   ],
   "source": [
    "missing_value=df_17.isnull().sum()\n",
    "print(missing_value[missing_value>0])\n",
    "\n",
    "print(f\"Total missing values: {df_17.isnull().sum().sum()}\")\n",
    "\n",
    "print(f\"Percentage of missing data: {df_17.isnull().sum().sum() / (df_17.shape[0] * df_17.shape[1]) * 100:.2f}%\")\n"
   ]
  },
  {
   "cell_type": "code",
   "execution_count": 606,
   "id": "44b8012c",
   "metadata": {},
   "outputs": [
    {
     "data": {
      "text/plain": [
       "array([ 0., nan])"
      ]
     },
     "execution_count": 606,
     "metadata": {},
     "output_type": "execute_result"
    }
   ],
   "source": [
    "# filling the miising values\n",
    "# delivery_charges\n",
    "\n",
    "df_17[\"delivery_charges\"].unique()"
   ]
  },
  {
   "cell_type": "code",
   "execution_count": 607,
   "id": "554da940",
   "metadata": {},
   "outputs": [],
   "source": [
    "df_17[\"delivery_charges\"]=df_17[\"delivery_charges\"].fillna(df_17[\"delivery_charges\"].mean())"
   ]
  },
  {
   "cell_type": "code",
   "execution_count": 609,
   "id": "6bf4edf9",
   "metadata": {},
   "outputs": [
    {
     "name": "stdout",
     "output_type": "stream",
     "text": [
      "0\n"
     ]
    }
   ],
   "source": [
    "print(df_17[\"delivery_charges\"].isna().sum())"
   ]
  },
  {
   "cell_type": "code",
   "execution_count": 651,
   "id": "44b191b2",
   "metadata": {},
   "outputs": [
    {
     "name": "stdout",
     "output_type": "stream",
     "text": [
      "<class 'pandas.core.series.Series'>\n",
      "RangeIndex: 77385 entries, 0 to 77384\n",
      "Series name: delivery_charges\n",
      "Non-Null Count  Dtype  \n",
      "--------------  -----  \n",
      "77385 non-null  float64\n",
      "dtypes: float64(1)\n",
      "memory usage: 604.7 KB\n"
     ]
    }
   ],
   "source": [
    "df_17[\"delivery_charges\"].info()"
   ]
  },
  {
   "cell_type": "code",
   "execution_count": 612,
   "id": "685d0b8c",
   "metadata": {},
   "outputs": [
    {
     "data": {
      "text/plain": [
       "array([nan, '26-35', '36-45', '46-55', '18-25', '55+'], dtype=object)"
      ]
     },
     "execution_count": 612,
     "metadata": {},
     "output_type": "execute_result"
    }
   ],
   "source": [
    "df_17['customer_age_group'].unique()"
   ]
  },
  {
   "cell_type": "code",
   "execution_count": 613,
   "id": "1d48a5f1",
   "metadata": {},
   "outputs": [
    {
     "name": "stdout",
     "output_type": "stream",
     "text": [
      "<class 'pandas.core.series.Series'>\n",
      "RangeIndex: 77385 entries, 0 to 77384\n",
      "Series name: customer_age_group\n",
      "Non-Null Count  Dtype \n",
      "--------------  ----- \n",
      "77385 non-null  object\n",
      "dtypes: object(1)\n",
      "memory usage: 604.7+ KB\n"
     ]
    }
   ],
   "source": [
    "# filling the customer age group\n",
    "#now fill the categorical data\n",
    "\n",
    "df_17['customer_age_group'] = df_17['customer_age_group'].fillna(df_17['customer_age_group'].mode()[0])\n",
    "df_17['customer_age_group'].info()"
   ]
  },
  {
   "cell_type": "code",
   "execution_count": 614,
   "id": "2fb47bda",
   "metadata": {},
   "outputs": [
    {
     "data": {
      "text/plain": [
       "array([nan, '3.0', '3.5', '4.5', '5.0', '4.0', '4.5/5.0', '5.0 stars',\n",
       "       '4.0/5.0', '4/5', '4.5 stars', '4.0 stars', '3.0 stars', '5/5',\n",
       "       '3.5 stars', '4', '5.0/5.0', '3', '3/5', '5', '3.5/5.0', '3.0/5.0'],\n",
       "      dtype=object)"
      ]
     },
     "execution_count": 614,
     "metadata": {},
     "output_type": "execute_result"
    }
   ],
   "source": [
    "#filling customer rating\n",
    "\n",
    "df_17[\"customer_rating\"].unique()"
   ]
  },
  {
   "cell_type": "code",
   "execution_count": 615,
   "id": "41147a7a",
   "metadata": {},
   "outputs": [],
   "source": [
    "def clean_rating(value):\n",
    "    if pd.isna(value):\n",
    "        return np.nan\n",
    "    \n",
    "    value = value.strip().lower()\n",
    "    #remove stars\n",
    "    value = value.replace('stars', '').strip()\n",
    "    \n",
    "    if \"/\" in value:\n",
    "        parts=value.split(\"/\")\n",
    "        \n",
    "        try:\n",
    "            numerator=float(parts[0].strip())\n",
    "            denominator=float(parts[1].strip())\n",
    "            \n",
    "            if denominator !=0:\n",
    "                return round((numerator / denominator) * 5, 2)\n",
    "            else:\n",
    "                return np.nan\n",
    "        except:\n",
    "            return np.nan\n",
    "     \n",
    "    # if no. is plain   \n",
    "    try:\n",
    "        return float(value)\n",
    "    except:\n",
    "        return np.nan\n",
    "    \n",
    "    \n",
    "\n",
    "df_17[\"customer_rating\"]=df_17[\"customer_rating\"].apply(clean_rating).astype(float)\n",
    "\n",
    "\n",
    "        "
   ]
  },
  {
   "cell_type": "code",
   "execution_count": 616,
   "id": "7193c582",
   "metadata": {},
   "outputs": [
    {
     "data": {
      "text/plain": [
       "array([nan, 3. , 3.5, 4.5, 5. , 4. ])"
      ]
     },
     "execution_count": 616,
     "metadata": {},
     "output_type": "execute_result"
    }
   ],
   "source": [
    "df_17[\"customer_rating\"].unique()"
   ]
  },
  {
   "cell_type": "code",
   "execution_count": 617,
   "id": "662bb0ec",
   "metadata": {},
   "outputs": [
    {
     "data": {
      "text/plain": [
       "np.int64(23592)"
      ]
     },
     "execution_count": 617,
     "metadata": {},
     "output_type": "execute_result"
    }
   ],
   "source": [
    "df_17[\"customer_rating\"].isna().sum()"
   ]
  },
  {
   "cell_type": "code",
   "execution_count": 618,
   "id": "58f3050e",
   "metadata": {},
   "outputs": [
    {
     "name": "stdout",
     "output_type": "stream",
     "text": [
      "Null values in customer_rating: 0\n"
     ]
    }
   ],
   "source": [
    "#filling the nan vaues by imputer \n",
    "\n",
    "from sklearn.experimental import enable_iterative_imputer  \n",
    "from sklearn.impute import IterativeImputer\n",
    "from sklearn.linear_model import BayesianRidge\n",
    "\n",
    "\n",
    "\n",
    "\n",
    "# using iterative imputer\n",
    "imputer=IterativeImputer(estimator=BayesianRidge(),max_iter=10, random_state=0)\n",
    "\n",
    "df_17[[\"customer_rating\"]] = imputer.fit_transform(df_17[[\"customer_rating\"]])\n",
    "\n",
    "# Convert to integer \n",
    "df_17[\"customer_rating\"] = df_17[\"customer_rating\"].round().astype(int)\n",
    "\n",
    "print(\"Null values in customer_rating:\",df_17[\"customer_rating\"].isna().sum())"
   ]
  },
  {
   "cell_type": "code",
   "execution_count": 619,
   "id": "ae89a39d",
   "metadata": {},
   "outputs": [
    {
     "data": {
      "text/plain": [
       "array([4, 3, 5])"
      ]
     },
     "execution_count": 619,
     "metadata": {},
     "output_type": "execute_result"
    }
   ],
   "source": [
    "df_17[\"customer_rating\"].unique()"
   ]
  },
  {
   "cell_type": "code",
   "execution_count": null,
   "id": "0c827234",
   "metadata": {},
   "outputs": [],
   "source": []
  },
  {
   "cell_type": "markdown",
   "id": "8f0e2237",
   "metadata": {},
   "source": [
    "Question 1\n",
    "Your dataset contains order_date in multiple formats: 'DD/MM/YYYY', 'DD-MM-YY', 'YYYY-MM-DD', and some invalid entries like '32/13/2020'. Clean and standardize all dates to 'YYYY-MM-DD' format, handling invalid dates appropriately.\n"
   ]
  },
  {
   "cell_type": "markdown",
   "id": "8968fa3b",
   "metadata": {},
   "source": []
  },
  {
   "cell_type": "markdown",
   "id": "062f0337",
   "metadata": {},
   "source": []
  },
  {
   "cell_type": "markdown",
   "id": "40a941c5",
   "metadata": {},
   "source": [
    "Question 2\n",
    "The original_price_inr column contains mixed data types: numeric values, text with '₹' symbols, comma separators ('₹1,25,000'), and some entries like 'Price on Request'. Clean this column to contain only numeric values in Indian Rupees.\n"
   ]
  },
  {
   "cell_type": "code",
   "execution_count": 620,
   "id": "bf115615",
   "metadata": {},
   "outputs": [
    {
     "name": "stdout",
     "output_type": "stream",
     "text": [
      "<class 'pandas.core.series.Series'>\n",
      "RangeIndex: 77385 entries, 0 to 77384\n",
      "Series name: original_price_inr\n",
      "Non-Null Count  Dtype  \n",
      "--------------  -----  \n",
      "77385 non-null  float64\n",
      "dtypes: float64(1)\n",
      "memory usage: 604.7 KB\n",
      "None\n",
      "0\n",
      "0\n"
     ]
    }
   ],
   "source": [
    "df_17['original_price_inr'] = df_17['original_price_inr'].astype(str) \\\n",
    "                           .str.replace('₹','', regex=False) \\\n",
    "                           .str.replace(',','', regex=False)\\\n",
    "                           .str.replace(\"Rs\",'',regex=False)\n",
    "\n",
    "# Converting to numeric\n",
    "df_17['original_price_inr'] = pd.to_numeric(df_17['original_price_inr'], errors='coerce')\n",
    "\n",
    "\n",
    "print(df_17['original_price_inr'].info())\n",
    "print(df_17[\"original_price_inr\"].isnull().sum())\n",
    "\n",
    "\n",
    "df_17['original_price_inr'] = df_17['original_price_inr'].fillna(df_17['original_price_inr'].mean())\n",
    "print(df_17['original_price_inr'].isnull().sum())"
   ]
  },
  {
   "cell_type": "code",
   "execution_count": null,
   "id": "529af0a6",
   "metadata": {},
   "outputs": [],
   "source": []
  },
  {
   "cell_type": "markdown",
   "id": "7beea8dc",
   "metadata": {},
   "source": [
    "Question 3\n",
    "Customer ratings appear in various formats: '5.0', '4 stars', '3/5', '2.5/5.0', and some missing values. Standardize all ratings to numeric scale 1.0-5.0, handling inconsistent formats and missing values strategically.\n"
   ]
  },
  {
   "cell_type": "code",
   "execution_count": 621,
   "id": "7b0c751f",
   "metadata": {},
   "outputs": [
    {
     "data": {
      "text/plain": [
       "array([4, 3, 5])"
      ]
     },
     "execution_count": 621,
     "metadata": {},
     "output_type": "execute_result"
    }
   ],
   "source": [
    "df_17[\"customer_rating\"].unique()"
   ]
  },
  {
   "cell_type": "code",
   "execution_count": null,
   "id": "492c07c4",
   "metadata": {},
   "outputs": [],
   "source": []
  },
  {
   "cell_type": "markdown",
   "id": "caddc7af",
   "metadata": {},
   "source": [
    "Question 4\n",
    "The customer_city column has inconsistent naming: 'Bangalore/Bengaluru', 'Mumbai/Bombay', 'Delhi/New Delhi', along with spelling errors and case variations. Standardize all city names and handle geographical variations.\n"
   ]
  },
  {
   "cell_type": "code",
   "execution_count": 622,
   "id": "a9bb4c74",
   "metadata": {},
   "outputs": [
    {
     "data": {
      "text/plain": [
       "array(['Pune', 'Chandigarh', 'Ludhiana', 'Bangalore', 'Mumbai', 'Kanpur',\n",
       "       'Patna', 'Bhubaneswar', 'Delhi', 'Nagpur', 'Indore', 'Ahmedabad',\n",
       "       'Chennai', 'Kochi', 'Kolkata', 'Gorakhpur', 'Visakhapatnam',\n",
       "       'Hyderabad', 'Lucknow', 'Varanasi', 'Bengaluru', 'Moradabad',\n",
       "       'Jaipur', 'Surat', 'Coimbatore', 'kolkata', 'Vadodara', 'Meerut',\n",
       "       'Aligarh', 'DELHI', 'chenai', 'Bareilly', 'Saharanpur', 'Mumbai ',\n",
       "       'Allahabad', 'Bengalore', 'KOLKATA', 'Calcutta', 'Bombay',\n",
       "       'BANGALORE', 'mumba', 'Madras', 'New Delhi', 'Chennai ',\n",
       "       'Delhi NCR', 'CHENNAI', 'Kolkata ', 'Banglore', 'delhi', 'MUMBAI'],\n",
       "      dtype=object)"
      ]
     },
     "execution_count": 622,
     "metadata": {},
     "output_type": "execute_result"
    }
   ],
   "source": [
    "df_17[\"customer_city\"].unique()"
   ]
  },
  {
   "cell_type": "code",
   "execution_count": 623,
   "id": "2f9241e7",
   "metadata": {},
   "outputs": [],
   "source": [
    "\n",
    "df_17['customer_city'] = df_17['customer_city'].str.strip().str.lower()\n",
    "\n",
    "CITY = {\n",
    "    \"bangalore\": \"Bengaluru\",\n",
    "    \"bengaluru\": \"Bengaluru\",\n",
    "    \"banglore\": \"Bengaluru\",\n",
    "    \"bengalore\": \"Bengaluru\",\n",
    "    \"bangluru\": \"Bengaluru\",\n",
    "\n",
    "    \"bombay\": \"Mumbai\",\n",
    "    \"mumbai\": \"Mumbai\",\n",
    "    \"mumba\": \"Mumbai\",\n",
    "    \"mumbai \": \"Mumbai\",\n",
    "\n",
    "    \"new delhi\": \"Delhi\",\n",
    "    \"delhi\": \"Delhi\",\n",
    "    \"delhi ncr\": \"Delhi\",\n",
    "\n",
    "    \"kolkata\": \"Kolkata\",\n",
    "    \"kolkata \": \"Kolkata\",\n",
    "    \"calcutta\": \"Kolkata\",\n",
    "    \"kolkatta\": \"Kolkata\",\n",
    "\n",
    "    \"chennai\": \"Chennai\",\n",
    "    \"chenai\": \"Chennai\",\n",
    "    \"chennai \": \"Chennai\",\n",
    "    \"madras\": \"Chennai\",\n",
    "}\n",
    "\n",
    "\n",
    "df_17[\"customer_city\"]=df_17[\"customer_city\"].replace(CITY)\n",
    "\n",
    "\n",
    "df_17['customer_city'] = df_17['customer_city'].str.title() #captailize first letter\n"
   ]
  },
  {
   "cell_type": "code",
   "execution_count": 624,
   "id": "ebbe5656",
   "metadata": {},
   "outputs": [
    {
     "name": "stdout",
     "output_type": "stream",
     "text": [
      "<class 'pandas.core.series.Series'>\n",
      "RangeIndex: 77385 entries, 0 to 77384\n",
      "Series name: customer_city\n",
      "Non-Null Count  Dtype \n",
      "--------------  ----- \n",
      "77385 non-null  object\n",
      "dtypes: object(1)\n",
      "memory usage: 604.7+ KB\n"
     ]
    }
   ],
   "source": [
    "df_17[\"customer_city\"].info()"
   ]
  },
  {
   "cell_type": "code",
   "execution_count": null,
   "id": "95ab3f8b",
   "metadata": {},
   "outputs": [],
   "source": []
  },
  {
   "cell_type": "markdown",
   "id": "0090ea1b",
   "metadata": {},
   "source": [
    "Question 5\n",
    "Boolean columns (is_prime_member, is_prime_eligible, is_festival_sale) contain mixed values: True/False, Yes/No, 1/0, Y/N, and some missing entries. Convert all boolean columns to consistent True/False format.\n"
   ]
  },
  {
   "cell_type": "code",
   "execution_count": 625,
   "id": "d9e863b6",
   "metadata": {},
   "outputs": [
    {
     "name": "stdout",
     "output_type": "stream",
     "text": [
      "['FALSE' 'False' '0' 'True' 'Yes' 'No' 'TRUE' '1']\n",
      "['True' 'False' 'No' 'Yes' 'TRUE' '0' '1' 'FALSE']\n",
      "['False' 'True' 'No' 'FALSE' '0' 'Yes' '1' 'TRUE']\n"
     ]
    }
   ],
   "source": [
    "print(df_17[\"is_festival_sale\"].unique())\n",
    "print(df_17[\"is_prime_eligible\"].unique())\n",
    "print(df_17[\"is_prime_member\"].unique())"
   ]
  },
  {
   "cell_type": "code",
   "execution_count": 626,
   "id": "dcc20245",
   "metadata": {},
   "outputs": [
    {
     "name": "stderr",
     "output_type": "stream",
     "text": [
      "C:\\Users\\offic\\AppData\\Local\\Temp\\ipykernel_10448\\2925885698.py:14: FutureWarning: Downcasting behavior in `replace` is deprecated and will be removed in a future version. To retain the old behavior, explicitly call `result.infer_objects(copy=False)`. To opt-in to the future behavior, set `pd.set_option('future.no_silent_downcasting', True)`\n",
      "  df_17[[\"is_prime_eligible\",\"is_festival_sale\",\"is_prime_member\"]] = df_17[[\"is_prime_eligible\",\"is_festival_sale\",\"is_prime_member\"]].replace(boolian).astype(bool)\n"
     ]
    }
   ],
   "source": [
    "#Here set the all boolin true/false and set type bool from object\n",
    "\n",
    "boolian={\n",
    "    \"TRUE\": True,\n",
    "    \"FALSE\": False,\n",
    "    \"No\": False,\n",
    "    \"1\": True,\n",
    "    \"0\": False,\n",
    "    \"Yes\": True,\n",
    "    \"True\": True,\n",
    "    \"False\": False\n",
    "}\n",
    "\n",
    "df_17[[\"is_prime_eligible\",\"is_festival_sale\",\"is_prime_member\"]] = df_17[[\"is_prime_eligible\",\"is_festival_sale\",\"is_prime_member\"]].replace(boolian).astype(bool)"
   ]
  },
  {
   "cell_type": "code",
   "execution_count": 627,
   "id": "1f6494a2",
   "metadata": {},
   "outputs": [
    {
     "name": "stdout",
     "output_type": "stream",
     "text": [
      "[False  True]\n",
      "[ True False]\n",
      "[False  True]\n"
     ]
    }
   ],
   "source": [
    "print(df_17[\"is_festival_sale\"].unique())\n",
    "print(df_17[\"is_prime_eligible\"].unique())\n",
    "print(df_17[\"is_prime_member\"].unique())"
   ]
  },
  {
   "cell_type": "code",
   "execution_count": 628,
   "id": "e7dc9324",
   "metadata": {},
   "outputs": [
    {
     "name": "stdout",
     "output_type": "stream",
     "text": [
      "<class 'pandas.core.frame.DataFrame'>\n",
      "RangeIndex: 77385 entries, 0 to 77384\n",
      "Data columns (total 3 columns):\n",
      " #   Column             Non-Null Count  Dtype\n",
      "---  ------             --------------  -----\n",
      " 0   is_prime_eligible  77385 non-null  bool \n",
      " 1   is_festival_sale   77385 non-null  bool \n",
      " 2   is_prime_member    77385 non-null  bool \n",
      "dtypes: bool(3)\n",
      "memory usage: 226.8 KB\n"
     ]
    }
   ],
   "source": [
    "df_17[[\"is_prime_eligible\",\"is_festival_sale\",\"is_prime_member\"]].info()"
   ]
  },
  {
   "cell_type": "markdown",
   "id": "0ea470d7",
   "metadata": {},
   "source": []
  },
  {
   "cell_type": "markdown",
   "id": "51422de9",
   "metadata": {},
   "source": [
    "Question 6\n",
    "Product categories have variations: 'Electronics/Electronic/ELECTRONICS/Electronics & Accessories'. Standardize category names across the dataset and ensure consistent naming conventions\n"
   ]
  },
  {
   "cell_type": "code",
   "execution_count": 629,
   "id": "0e7fa45e",
   "metadata": {},
   "outputs": [
    {
     "data": {
      "text/plain": [
       "array(['Electronics', 'ELECTRONICS', 'Electronicss',\n",
       "       'Electronics & Accessories', 'Electronic'], dtype=object)"
      ]
     },
     "execution_count": 629,
     "metadata": {},
     "output_type": "execute_result"
    }
   ],
   "source": [
    "df_17[\"category\"].unique()"
   ]
  },
  {
   "cell_type": "code",
   "execution_count": 630,
   "id": "f7e599cd",
   "metadata": {},
   "outputs": [],
   "source": [
    "#  Normalize to lowercase \n",
    "df_17['category'] = df_17['category'].str.strip().str.lower()\n",
    "\n",
    "\n",
    "CATEGORY_MAP = {\n",
    "    \"electronics\": \"Electronics\",\n",
    "    \"electronic\": \"Electronics\",\n",
    "    \"electronics & accessories\": \"Electronics\",\n",
    "    \"electronicss\": \"Electronics\"\n",
    "    \n",
    "}\n",
    "\n",
    "# mapping\n",
    "df_17['category'] = df_17['category'].replace(CATEGORY_MAP)\n",
    "\n",
    "#  title case for display\n",
    "df_17['category'] = df_17['category'].str.title()\n",
    "\n",
    "\n",
    "# print(df['category'].unique())\n"
   ]
  },
  {
   "cell_type": "code",
   "execution_count": 631,
   "id": "4ebdeb3d",
   "metadata": {},
   "outputs": [
    {
     "data": {
      "text/plain": [
       "array(['Electronics'], dtype=object)"
      ]
     },
     "execution_count": 631,
     "metadata": {},
     "output_type": "execute_result"
    }
   ],
   "source": [
    "df_17[\"category\"].unique()"
   ]
  },
  {
   "cell_type": "code",
   "execution_count": 632,
   "id": "603a68f7",
   "metadata": {},
   "outputs": [
    {
     "name": "stdout",
     "output_type": "stream",
     "text": [
      "<class 'pandas.core.series.Series'>\n",
      "RangeIndex: 77385 entries, 0 to 77384\n",
      "Series name: category\n",
      "Non-Null Count  Dtype \n",
      "--------------  ----- \n",
      "77385 non-null  object\n",
      "dtypes: object(1)\n",
      "memory usage: 604.7+ KB\n"
     ]
    }
   ],
   "source": [
    "df_17[\"category\"].info()"
   ]
  },
  {
   "cell_type": "markdown",
   "id": "2f357dd7",
   "metadata": {},
   "source": []
  },
  {
   "cell_type": "markdown",
   "id": "4d81e7cd",
   "metadata": {},
   "source": [
    "Question 7\n",
    "The delivery_days column contains negative values, text entries like 'Same Day', '1-2 days', and some unrealistic values like 50 days. Clean this column to contain only valid numeric delivery days.\n"
   ]
  },
  {
   "cell_type": "code",
   "execution_count": 633,
   "id": "e11d56e7",
   "metadata": {},
   "outputs": [
    {
     "data": {
      "text/plain": [
       "array(['5', '6', '7', '3', '4', '2', '-1', 'Express', '1', 'Same Day',\n",
       "       '1-2 days', '15', '0'], dtype=object)"
      ]
     },
     "execution_count": 633,
     "metadata": {},
     "output_type": "execute_result"
    }
   ],
   "source": [
    "df_17[\"delivery_days\"].unique()"
   ]
  },
  {
   "cell_type": "code",
   "execution_count": 635,
   "id": "1ee7e7f5",
   "metadata": {},
   "outputs": [],
   "source": [
    "mapping = {\n",
    "    'Same Day': 0,\n",
    "    '1-2 days': 1,\n",
    "    'Express': 0\n",
    "}\n",
    "\n",
    "def convert(value):\n",
    "    if value in mapping:\n",
    "        return mapping[value]\n",
    "    try:\n",
    "        return int(value)\n",
    "    except ValueError:\n",
    "        return -1 \n",
    "    \n",
    "\n",
    "df_17[\"delivery_days\"]=df_17[\"delivery_days\"].apply(convert)\n",
    "\n",
    "#now convert into type as integer\n",
    "\n",
    "df_17[\"delivery_days\"] = pd.to_numeric(df_17[\"delivery_days\"], errors='coerce')\n",
    "\n",
    "    \n",
    "    "
   ]
  },
  {
   "cell_type": "code",
   "execution_count": 636,
   "id": "ca74d9c1",
   "metadata": {},
   "outputs": [
    {
     "name": "stdout",
     "output_type": "stream",
     "text": [
      "475\n"
     ]
    }
   ],
   "source": [
    "invalid=(df_17[\"delivery_days\"]== -1).sum()\n",
    "print(invalid)"
   ]
  },
  {
   "cell_type": "code",
   "execution_count": 637,
   "id": "178b656c",
   "metadata": {},
   "outputs": [
    {
     "name": "stdout",
     "output_type": "stream",
     "text": [
      "0\n"
     ]
    }
   ],
   "source": [
    "from sklearn.experimental import enable_iterative_imputer  # noqa\n",
    "from sklearn.impute import IterativeImputer\n",
    "from sklearn.linear_model import BayesianRidge\n",
    "\n",
    "\n",
    "df_17[\"delivery_days\"] = df_17[\"delivery_days\"].replace(-1, np.nan)\n",
    "\n",
    "# using iterative imputer\n",
    "imputer=IterativeImputer(estimator=BayesianRidge(),max_iter=10, random_state=0)\n",
    "\n",
    "df_17[[\"delivery_days\"]] = imputer.fit_transform(df_17[[\"delivery_days\"]])\n",
    "\n",
    "# Convert to integer \n",
    "df_17[\"delivery_days\"] = df_17[\"delivery_days\"].round().astype(int)\n",
    "\n",
    "print(df_17[\"delivery_days\"].isna().sum())\n",
    "\n"
   ]
  },
  {
   "cell_type": "code",
   "execution_count": 638,
   "id": "744ef499",
   "metadata": {},
   "outputs": [
    {
     "name": "stdout",
     "output_type": "stream",
     "text": [
      "<class 'pandas.core.series.Series'>\n",
      "RangeIndex: 77385 entries, 0 to 77384\n",
      "Series name: delivery_days\n",
      "Non-Null Count  Dtype\n",
      "--------------  -----\n",
      "77385 non-null  int64\n",
      "dtypes: int64(1)\n",
      "memory usage: 604.7 KB\n"
     ]
    }
   ],
   "source": [
    "df_17[\"delivery_days\"].info()"
   ]
  },
  {
   "cell_type": "markdown",
   "id": "ecae3cec",
   "metadata": {},
   "source": []
  },
  {
   "cell_type": "markdown",
   "id": "4b00b903",
   "metadata": {},
   "source": [
    "Question 8\n",
    "Identify and handle duplicate transactions where the same customer, product, date, and amount appear multiple times. Some duplicates are genuine (bulk orders) while others are data errors. Develop a strategy to distinguish and handle both cases\n"
   ]
  },
  {
   "cell_type": "markdown",
   "id": "9721cea9",
   "metadata": {},
   "source": []
  },
  {
   "cell_type": "markdown",
   "id": "9b81dc1a",
   "metadata": {},
   "source": [
    "Question 9\n",
    "The dataset contains outlier prices where some products show prices 100x higher than expected due to data entry errors (decimal point issues). Identify and correct these outliers using statistical methods and domain knowledge.\n"
   ]
  },
  {
   "cell_type": "code",
   "execution_count": 639,
   "id": "4547aa5d",
   "metadata": {},
   "outputs": [
    {
     "data": {
      "text/plain": [
       "<Axes: xlabel='original_price_inr'>"
      ]
     },
     "execution_count": 639,
     "metadata": {},
     "output_type": "execute_result"
    },
    {
     "data": {
      "image/png": "[encoded data removed]",
      "text/plain": [
       "<Figure size 640x480 with 1 Axes>"
      ]
     },
     "metadata": {},
     "output_type": "display_data"
    }
   ],
   "source": [
    "sns.boxplot(x=df_17[\"original_price_inr\"])"
   ]
  },
  {
   "cell_type": "code",
   "execution_count": 640,
   "id": "08a185b2",
   "metadata": {},
   "outputs": [
    {
     "name": "stdout",
     "output_type": "stream",
     "text": [
      "Detected outliers: 1537\n"
     ]
    },
    {
     "data": {
      "image/png": "[encoded data removed]",
      "text/plain": [
       "<Figure size 1500x500 with 2 Axes>"
      ]
     },
     "metadata": {},
     "output_type": "display_data"
    }
   ],
   "source": [
    "import pandas as pd\n",
    "import seaborn as sns\n",
    "import matplotlib.pyplot as plt\n",
    "\n",
    "\n",
    "n = df_17[\"original_price_inr\"].copy()\n",
    "\n",
    "# removing outliers...\n",
    "\n",
    "q1 = n.quantile(0.25)\n",
    "q3 = n.quantile(0.75)\n",
    "iqr = q3 - q1\n",
    "\n",
    "\n",
    "lower_bound = q1 - 1.5 * iqr\n",
    "upper_bound = q3 + 1.5 * iqr\n",
    "\n",
    "# outlier above the upper bound\n",
    "outliers = df_17[df_17[\"original_price_inr\"] > upper_bound]\n",
    "print(f\"Detected outliers: {outliers.shape[0]}\")\n",
    "\n",
    "# Correct those outliers assuming they were inflated by 100x\n",
    "df_17[\"corrected_price_inr\"] = df_17[\"original_price_inr\"]\n",
    "\n",
    "df_17.loc[df_17[\"original_price_inr\"] > upper_bound, \"corrected_price_inr\"] = df_17[\"original_price_inr\"] / 100\n",
    "\n",
    "# visualization  before and after\n",
    "\n",
    "plt.figure(figsize = (15,5))\n",
    "\n",
    "\n",
    "plt.subplot(121)\n",
    "sns.boxplot(x=df_17[\"original_price_inr\"])\n",
    "plt.title(\"Original Prices with Outliers\")\n",
    "\n",
    "\n",
    "plt.subplot(122)\n",
    "sns.boxplot(x=df_17[\"corrected_price_inr\"])\n",
    "plt.title(\"Corrected Prices\")\n",
    "\n",
    "plt.tight_layout()\n",
    "plt.show()\n"
   ]
  },
  {
   "cell_type": "code",
   "execution_count": 641,
   "id": "42e4b7da",
   "metadata": {},
   "outputs": [
    {
     "name": "stdout",
     "output_type": "stream",
     "text": [
      "<class 'pandas.core.series.Series'>\n",
      "RangeIndex: 77385 entries, 0 to 77384\n",
      "Series name: original_price_inr\n",
      "Non-Null Count  Dtype  \n",
      "--------------  -----  \n",
      "77385 non-null  float64\n",
      "dtypes: float64(1)\n",
      "memory usage: 604.7 KB\n"
     ]
    }
   ],
   "source": [
    "df_17[\"original_price_inr\"].info()"
   ]
  },
  {
   "cell_type": "code",
   "execution_count": 642,
   "id": "d55f0f6d",
   "metadata": {},
   "outputs": [
    {
     "name": "stdout",
     "output_type": "stream",
     "text": [
      "<class 'pandas.core.series.Series'>\n",
      "RangeIndex: 77385 entries, 0 to 77384\n",
      "Series name: corrected_price_inr\n",
      "Non-Null Count  Dtype  \n",
      "--------------  -----  \n",
      "77385 non-null  float64\n",
      "dtypes: float64(1)\n",
      "memory usage: 604.7 KB\n"
     ]
    }
   ],
   "source": [
    "df_17[\"corrected_price_inr\"].info()"
   ]
  },
  {
   "cell_type": "markdown",
   "id": "87f8c7ed",
   "metadata": {},
   "source": []
  },
  {
   "cell_type": "markdown",
   "id": "e7603d79",
   "metadata": {},
   "source": [
    "Question 10\n",
    "Payment methods contain inconsistent naming: 'UPI/PhonePe/GooglePay', 'Credit Card/CREDIT_CARD/CC', 'Cash on Delivery/COD/C.O.D'. Standardize payment method categories and create a clean categorical hierarchy.\n"
   ]
  },
  {
   "cell_type": "code",
   "execution_count": 643,
   "id": "1c8eb329",
   "metadata": {},
   "outputs": [
    {
     "data": {
      "text/plain": [
       "array(['COD', 'Debit Card', 'UPI', 'Credit Card', 'Net Banking'],\n",
       "      dtype=object)"
      ]
     },
     "execution_count": 643,
     "metadata": {},
     "output_type": "execute_result"
    }
   ],
   "source": [
    "df_17[\"payment_method\"].unique()"
   ]
  },
  {
   "cell_type": "code",
   "execution_count": null,
   "id": "c1d83f26",
   "metadata": {},
   "outputs": [],
   "source": []
  },
  {
   "cell_type": "markdown",
   "id": "7534398b",
   "metadata": {},
   "source": [
    "# -----------------------------------------------------------------------------"
   ]
  },
  {
   "cell_type": "markdown",
   "id": "d2fe3017",
   "metadata": {},
   "source": [
    "# -----------------------------------------------------------------------------"
   ]
  },
  {
   "cell_type": "markdown",
   "id": "b47e3f8c",
   "metadata": {},
   "source": [
    "# -----------------------------------------------------------------------------"
   ]
  },
  {
   "cell_type": "markdown",
   "id": "b58d5ec0",
   "metadata": {},
   "source": [
    "# -----------------------------------------------------------------------------"
   ]
  },
  {
   "cell_type": "code",
   "execution_count": 645,
   "id": "bb7a5ea2",
   "metadata": {},
   "outputs": [
    {
     "data": {
      "text/html": [
       "<div>\n",
       "<style scoped>\n",
       "    .dataframe tbody tr th:only-of-type {\n",
       "        vertical-align: middle;\n",
       "    }\n",
       "\n",
       "    .dataframe tbody tr th {\n",
       "        vertical-align: top;\n",
       "    }\n",
       "\n",
       "    .dataframe thead th {\n",
       "        text-align: right;\n",
       "    }\n",
       "</style>\n",
       "<table border=\"1\" class=\"dataframe\">\n",
       "  <thead>\n",
       "    <tr style=\"text-align: right;\">\n",
       "      <th></th>\n",
       "      <th>transaction_id</th>\n",
       "      <th>order_date</th>\n",
       "      <th>customer_id</th>\n",
       "      <th>product_id</th>\n",
       "      <th>product_name</th>\n",
       "      <th>category</th>\n",
       "      <th>subcategory</th>\n",
       "      <th>brand</th>\n",
       "      <th>original_price_inr</th>\n",
       "      <th>discount_percent</th>\n",
       "      <th>...</th>\n",
       "      <th>is_festival_sale</th>\n",
       "      <th>festival_name</th>\n",
       "      <th>customer_rating</th>\n",
       "      <th>return_status</th>\n",
       "      <th>order_month</th>\n",
       "      <th>order_year</th>\n",
       "      <th>order_quarter</th>\n",
       "      <th>product_weight_kg</th>\n",
       "      <th>is_prime_eligible</th>\n",
       "      <th>product_rating</th>\n",
       "    </tr>\n",
       "  </thead>\n",
       "  <tbody>\n",
       "    <tr>\n",
       "      <th>0</th>\n",
       "      <td>TXN_2018_00000001</td>\n",
       "      <td>2018-01-28</td>\n",
       "      <td>CUST_2015_00011381</td>\n",
       "      <td>PROD_000367</td>\n",
       "      <td>Samsung Galaxy S9+ 128GB White</td>\n",
       "      <td>Electronics</td>\n",
       "      <td>Smartphones</td>\n",
       "      <td>Samsung</td>\n",
       "      <td>123828.89</td>\n",
       "      <td>0.0</td>\n",
       "      <td>...</td>\n",
       "      <td>False</td>\n",
       "      <td>NaN</td>\n",
       "      <td>4.5</td>\n",
       "      <td>Delivered</td>\n",
       "      <td>1</td>\n",
       "      <td>2018</td>\n",
       "      <td>1</td>\n",
       "      <td>0.21</td>\n",
       "      <td>False</td>\n",
       "      <td>3.9</td>\n",
       "    </tr>\n",
       "    <tr>\n",
       "      <th>1</th>\n",
       "      <td>TXN_2018_00000002</td>\n",
       "      <td>2018-01-09</td>\n",
       "      <td>CUST_2018_00004073</td>\n",
       "      <td>PROD_001683</td>\n",
       "      <td>Apple Mi Pad 8GB RAM Silver</td>\n",
       "      <td>Electronics</td>\n",
       "      <td>Tablets</td>\n",
       "      <td>Apple</td>\n",
       "      <td>61478.19</td>\n",
       "      <td>0.0</td>\n",
       "      <td>...</td>\n",
       "      <td>False</td>\n",
       "      <td>NaN</td>\n",
       "      <td>4.0</td>\n",
       "      <td>Delivered</td>\n",
       "      <td>1</td>\n",
       "      <td>2018</td>\n",
       "      <td>1</td>\n",
       "      <td>0.40</td>\n",
       "      <td>True</td>\n",
       "      <td>4.5</td>\n",
       "    </tr>\n",
       "    <tr>\n",
       "      <th>2</th>\n",
       "      <td>TXN_2018_00000003</td>\n",
       "      <td>2018-01-06</td>\n",
       "      <td>CUST_2018_00024729</td>\n",
       "      <td>PROD_001688</td>\n",
       "      <td>Apple Slate 8GB RAM Black</td>\n",
       "      <td>Electronics</td>\n",
       "      <td>Tablets</td>\n",
       "      <td>Apple</td>\n",
       "      <td>38624.59</td>\n",
       "      <td>0.0</td>\n",
       "      <td>...</td>\n",
       "      <td>False</td>\n",
       "      <td>NaN</td>\n",
       "      <td>4.5</td>\n",
       "      <td>Delivered</td>\n",
       "      <td>1</td>\n",
       "      <td>2018</td>\n",
       "      <td>1</td>\n",
       "      <td>0.41</td>\n",
       "      <td>True</td>\n",
       "      <td>3.2</td>\n",
       "    </tr>\n",
       "    <tr>\n",
       "      <th>3</th>\n",
       "      <td>TXN_2018_00000004</td>\n",
       "      <td>2018-01-20</td>\n",
       "      <td>CUST_2018_00015834</td>\n",
       "      <td>PROD_000236</td>\n",
       "      <td>Apple iPhone X 64GB Blue</td>\n",
       "      <td>Electronics</td>\n",
       "      <td>Smartphones</td>\n",
       "      <td>Apple</td>\n",
       "      <td>201630.77</td>\n",
       "      <td>47.2</td>\n",
       "      <td>...</td>\n",
       "      <td>True</td>\n",
       "      <td>Republic Day Sale</td>\n",
       "      <td>5.0</td>\n",
       "      <td>Delivered</td>\n",
       "      <td>1</td>\n",
       "      <td>2018</td>\n",
       "      <td>1</td>\n",
       "      <td>0.25</td>\n",
       "      <td>True</td>\n",
       "      <td>4.0</td>\n",
       "    </tr>\n",
       "    <tr>\n",
       "      <th>4</th>\n",
       "      <td>TXN_2018_00000005</td>\n",
       "      <td>2018-01-07</td>\n",
       "      <td>CUST_2016_00001228</td>\n",
       "      <td>PROD_000163</td>\n",
       "      <td>OnePlus OnePlus 3T 16GB Black</td>\n",
       "      <td>Electronics</td>\n",
       "      <td>Smartphones</td>\n",
       "      <td>OnePlus</td>\n",
       "      <td>53961.7</td>\n",
       "      <td>0.0</td>\n",
       "      <td>...</td>\n",
       "      <td>False</td>\n",
       "      <td>NaN</td>\n",
       "      <td>NaN</td>\n",
       "      <td>Delivered</td>\n",
       "      <td>1</td>\n",
       "      <td>2018</td>\n",
       "      <td>1</td>\n",
       "      <td>0.16</td>\n",
       "      <td>True</td>\n",
       "      <td>4.7</td>\n",
       "    </tr>\n",
       "  </tbody>\n",
       "</table>\n",
       "<p>5 rows × 34 columns</p>\n",
       "</div>"
      ],
      "text/plain": [
       "      transaction_id  order_date         customer_id   product_id  \\\n",
       "0  TXN_2018_00000001  2018-01-28  CUST_2015_00011381  PROD_000367   \n",
       "1  TXN_2018_00000002  2018-01-09  CUST_2018_00004073  PROD_001683   \n",
       "2  TXN_2018_00000003  2018-01-06  CUST_2018_00024729  PROD_001688   \n",
       "3  TXN_2018_00000004  2018-01-20  CUST_2018_00015834  PROD_000236   \n",
       "4  TXN_2018_00000005  2018-01-07  CUST_2016_00001228  PROD_000163   \n",
       "\n",
       "                     product_name     category  subcategory    brand  \\\n",
       "0  Samsung Galaxy S9+ 128GB White  Electronics  Smartphones  Samsung   \n",
       "1     Apple Mi Pad 8GB RAM Silver  Electronics      Tablets    Apple   \n",
       "2       Apple Slate 8GB RAM Black  Electronics      Tablets    Apple   \n",
       "3        Apple iPhone X 64GB Blue  Electronics  Smartphones    Apple   \n",
       "4   OnePlus OnePlus 3T 16GB Black  Electronics  Smartphones  OnePlus   \n",
       "\n",
       "  original_price_inr  discount_percent  ...  is_festival_sale  \\\n",
       "0          123828.89               0.0  ...             False   \n",
       "1           61478.19               0.0  ...             False   \n",
       "2           38624.59               0.0  ...             False   \n",
       "3          201630.77              47.2  ...              True   \n",
       "4            53961.7               0.0  ...             False   \n",
       "\n",
       "       festival_name  customer_rating  return_status  order_month order_year  \\\n",
       "0                NaN              4.5      Delivered            1       2018   \n",
       "1                NaN              4.0      Delivered            1       2018   \n",
       "2                NaN              4.5      Delivered            1       2018   \n",
       "3  Republic Day Sale              5.0      Delivered            1       2018   \n",
       "4                NaN              NaN      Delivered            1       2018   \n",
       "\n",
       "  order_quarter product_weight_kg is_prime_eligible product_rating  \n",
       "0             1              0.21             False            3.9  \n",
       "1             1              0.40              True            4.5  \n",
       "2             1              0.41              True            3.2  \n",
       "3             1              0.25              True            4.0  \n",
       "4             1              0.16              True            4.7  \n",
       "\n",
       "[5 rows x 34 columns]"
      ]
     },
     "execution_count": 645,
     "metadata": {},
     "output_type": "execute_result"
    }
   ],
   "source": [
    "import pandas as pd\n",
    "\n",
    "df_18=pd.read_csv(\"amazon_india_2018.csv\")\n",
    "df_18.head()"
   ]
  },
  {
   "cell_type": "code",
   "execution_count": 647,
   "id": "be00f260",
   "metadata": {},
   "outputs": [
    {
     "name": "stdout",
     "output_type": "stream",
     "text": [
      "transaction_id                0\n",
      "order_date                    0\n",
      "customer_id                   0\n",
      "product_id                    0\n",
      "product_name                  0\n",
      "category                      0\n",
      "subcategory                   0\n",
      "brand                         0\n",
      "original_price_inr            0\n",
      "discount_percent              0\n",
      "discounted_price_inr          0\n",
      "quantity                      0\n",
      "subtotal_inr                  0\n",
      "delivery_charges           7953\n",
      "final_amount_inr              0\n",
      "customer_city                 0\n",
      "customer_state                0\n",
      "customer_tier                 0\n",
      "customer_spending_tier        0\n",
      "customer_age_group        11939\n",
      "payment_method                0\n",
      "delivery_days                 0\n",
      "delivery_type                 0\n",
      "is_prime_member               0\n",
      "is_festival_sale              0\n",
      "festival_name             67918\n",
      "customer_rating           30234\n",
      "return_status                 0\n",
      "order_month                   0\n",
      "order_year                    0\n",
      "order_quarter                 0\n",
      "product_weight_kg             0\n",
      "is_prime_eligible             0\n",
      "product_rating                0\n",
      "dtype: int64\n"
     ]
    }
   ],
   "source": [
    "missing_value=df_18.isna().sum()\n",
    "print(missing_value)"
   ]
  },
  {
   "cell_type": "code",
   "execution_count": 648,
   "id": "b9da72b6",
   "metadata": {},
   "outputs": [
    {
     "data": {
      "text/plain": [
       "(99495, 34)"
      ]
     },
     "execution_count": 648,
     "metadata": {},
     "output_type": "execute_result"
    }
   ],
   "source": [
    "df_18.shape"
   ]
  },
  {
   "cell_type": "code",
   "execution_count": 649,
   "id": "6abf5131",
   "metadata": {},
   "outputs": [
    {
     "name": "stdout",
     "output_type": "stream",
     "text": [
      "delivery_charges       7953\n",
      "customer_age_group    11939\n",
      "festival_name         67918\n",
      "customer_rating       30234\n",
      "dtype: int64\n",
      "Total missing values: 118044\n",
      "Percentage of missing data: 3.49%\n"
     ]
    }
   ],
   "source": [
    "missing_value=df_18.isnull().sum()\n",
    "print(missing_value[missing_value>0])\n",
    "\n",
    "print(f\"Total missing values: {df_18.isnull().sum().sum()}\")\n",
    "\n",
    "print(f\"Percentage of missing data: {df_18.isnull().sum().sum() / (df_18.shape[0] * df_18.shape[1]) * 100:.2f}%\")\n"
   ]
  },
  {
   "cell_type": "code",
   "execution_count": 652,
   "id": "a41496b3",
   "metadata": {},
   "outputs": [
    {
     "data": {
      "text/plain": [
       "array([ 0., nan])"
      ]
     },
     "execution_count": 652,
     "metadata": {},
     "output_type": "execute_result"
    }
   ],
   "source": [
    "df_18[\"delivery_charges\"].unique()"
   ]
  },
  {
   "cell_type": "code",
   "execution_count": 653,
   "id": "50e24b38",
   "metadata": {},
   "outputs": [],
   "source": [
    "#filling the delivery charges\n",
    "\n",
    "df_18[\"delivery_charges\"]=df_18[\"delivery_charges\"].fillna(df_18[\"delivery_charges\"].mean())"
   ]
  },
  {
   "cell_type": "code",
   "execution_count": 654,
   "id": "a0cea0fb",
   "metadata": {},
   "outputs": [
    {
     "data": {
      "text/plain": [
       "0    0.0\n",
       "1    0.0\n",
       "2    0.0\n",
       "3    0.0\n",
       "4    0.0\n",
       "Name: delivery_charges, dtype: float64"
      ]
     },
     "execution_count": 654,
     "metadata": {},
     "output_type": "execute_result"
    }
   ],
   "source": [
    "df_18[\"delivery_charges\"].head()"
   ]
  },
  {
   "cell_type": "code",
   "execution_count": 655,
   "id": "db9a05ab",
   "metadata": {},
   "outputs": [
    {
     "data": {
      "text/plain": [
       "array([0.])"
      ]
     },
     "execution_count": 655,
     "metadata": {},
     "output_type": "execute_result"
    }
   ],
   "source": [
    "df_18[\"delivery_charges\"].unique()"
   ]
  },
  {
   "cell_type": "code",
   "execution_count": 656,
   "id": "ea12bbea",
   "metadata": {},
   "outputs": [
    {
     "name": "stdout",
     "output_type": "stream",
     "text": [
      "<class 'pandas.core.series.Series'>\n",
      "RangeIndex: 99495 entries, 0 to 99494\n",
      "Series name: delivery_charges\n",
      "Non-Null Count  Dtype  \n",
      "--------------  -----  \n",
      "99495 non-null  float64\n",
      "dtypes: float64(1)\n",
      "memory usage: 777.4 KB\n"
     ]
    }
   ],
   "source": [
    "df_18[\"delivery_charges\"].info()"
   ]
  },
  {
   "cell_type": "code",
   "execution_count": null,
   "id": "d599b7f0",
   "metadata": {},
   "outputs": [],
   "source": []
  },
  {
   "cell_type": "code",
   "execution_count": 657,
   "id": "db667dcb",
   "metadata": {},
   "outputs": [
    {
     "data": {
      "text/plain": [
       "array(['18-25', '26-35', '36-45', '46-55', nan, '55+'], dtype=object)"
      ]
     },
     "execution_count": 657,
     "metadata": {},
     "output_type": "execute_result"
    }
   ],
   "source": [
    "#filling the customer_age_group    \n",
    "\n",
    "df_18[\"customer_age_group\"].unique()"
   ]
  },
  {
   "cell_type": "code",
   "execution_count": 658,
   "id": "7b9805ce",
   "metadata": {},
   "outputs": [
    {
     "name": "stdout",
     "output_type": "stream",
     "text": [
      "<class 'pandas.core.series.Series'>\n",
      "RangeIndex: 99495 entries, 0 to 99494\n",
      "Series name: customer_age_group\n",
      "Non-Null Count  Dtype \n",
      "--------------  ----- \n",
      "99495 non-null  object\n",
      "dtypes: object(1)\n",
      "memory usage: 777.4+ KB\n"
     ]
    }
   ],
   "source": [
    "# filling the customer age group\n",
    "#now fill the categorical data\n",
    "\n",
    "df_18['customer_age_group'] = df_18['customer_age_group'].fillna(df_18['customer_age_group'].mode()[0])\n",
    "df_18['customer_age_group'].info()"
   ]
  },
  {
   "cell_type": "code",
   "execution_count": null,
   "id": "05fdfff1",
   "metadata": {},
   "outputs": [],
   "source": []
  },
  {
   "cell_type": "code",
   "execution_count": 661,
   "id": "520f08b4",
   "metadata": {},
   "outputs": [
    {
     "data": {
      "text/plain": [
       "array(['4.5', '4.0', '5.0', nan, '5.0/5.0', '3.5', '3.0', '5/5',\n",
       "       '4.5 stars', '4.0 stars', '3/5', '4.5/5.0', '5.0 stars', '4/5',\n",
       "       '3.5 stars', '3.5/5.0', '4', '3.0/5.0', '3', '4.0/5.0', '5',\n",
       "       '3.0 stars'], dtype=object)"
      ]
     },
     "execution_count": 661,
     "metadata": {},
     "output_type": "execute_result"
    }
   ],
   "source": [
    "# filling the customer rating\n",
    "\n",
    "df_18[\"customer_rating\"].unique()"
   ]
  },
  {
   "cell_type": "code",
   "execution_count": null,
   "id": "c369c286",
   "metadata": {},
   "outputs": [
    {
     "data": {
      "text/plain": [
       "0    4.5\n",
       "1    4.0\n",
       "2    4.5\n",
       "3    5.0\n",
       "4    NaN\n",
       "Name: customer_rating, dtype: object"
      ]
     },
     "execution_count": 662,
     "metadata": {},
     "output_type": "execute_result"
    }
   ],
   "source": [
    "df_18[\"customer_rating\"].head()"
   ]
  },
  {
   "cell_type": "code",
   "execution_count": 663,
   "id": "e833fb5a",
   "metadata": {},
   "outputs": [],
   "source": [
    "def clean_rating(value):\n",
    "    if pd.isna(value):\n",
    "        return np.nan\n",
    "    \n",
    "    value = value.strip().lower()\n",
    "    #remove stars\n",
    "    value = value.replace('stars', '').strip()\n",
    "    \n",
    "    if \"/\" in value:\n",
    "        parts=value.split(\"/\")\n",
    "        \n",
    "        try:\n",
    "            numerator=float(parts[0].strip())\n",
    "            denominator=float(parts[1].strip())\n",
    "            \n",
    "            if denominator !=0:\n",
    "                return round((numerator / denominator) * 5, 2)\n",
    "            else:\n",
    "                return np.nan\n",
    "        except:\n",
    "            return np.nan\n",
    "     \n",
    "    # if no. is plain   \n",
    "    try:\n",
    "        return float(value)\n",
    "    except:\n",
    "        return np.nan\n",
    "    \n",
    "    \n",
    "\n",
    "df_18[\"customer_rating\"]=df_18[\"customer_rating\"].apply(clean_rating).astype(float)\n",
    "\n",
    "\n",
    "        "
   ]
  },
  {
   "cell_type": "code",
   "execution_count": 665,
   "id": "72c5d2b5",
   "metadata": {},
   "outputs": [
    {
     "name": "stdout",
     "output_type": "stream",
     "text": [
      "Null values in customer_rating: 0\n"
     ]
    }
   ],
   "source": [
    "#filling the nan vaues by imputer \n",
    "\n",
    "from sklearn.experimental import enable_iterative_imputer  \n",
    "from sklearn.impute import IterativeImputer\n",
    "from sklearn.linear_model import BayesianRidge\n",
    "\n",
    "\n",
    "\n",
    "\n",
    "# using iterative imputer\n",
    "imputer=IterativeImputer(estimator=BayesianRidge(),max_iter=10, random_state=0)\n",
    "\n",
    "df_18[[\"customer_rating\"]] = imputer.fit_transform(df_18[[\"customer_rating\"]])\n",
    "\n",
    "# Convert to integer \n",
    "df_18[\"customer_rating\"] = df_18[\"customer_rating\"].round().astype(int)\n",
    "\n",
    "print(\"Null values in customer_rating:\",df_18[\"customer_rating\"].isna().sum())"
   ]
  },
  {
   "cell_type": "code",
   "execution_count": 668,
   "id": "fac41dda",
   "metadata": {},
   "outputs": [
    {
     "data": {
      "text/plain": [
       "array([4, 5, 3])"
      ]
     },
     "execution_count": 668,
     "metadata": {},
     "output_type": "execute_result"
    }
   ],
   "source": [
    "df_18[\"customer_rating\"].unique()"
   ]
  },
  {
   "cell_type": "code",
   "execution_count": 669,
   "id": "30e0bff4",
   "metadata": {},
   "outputs": [
    {
     "data": {
      "text/plain": [
       "0    4\n",
       "1    4\n",
       "2    4\n",
       "3    5\n",
       "4    4\n",
       "Name: customer_rating, dtype: int64"
      ]
     },
     "execution_count": 669,
     "metadata": {},
     "output_type": "execute_result"
    }
   ],
   "source": [
    "df_18[\"customer_rating\"].head()"
   ]
  },
  {
   "cell_type": "code",
   "execution_count": null,
   "id": "6a51bd34",
   "metadata": {},
   "outputs": [],
   "source": []
  },
  {
   "cell_type": "markdown",
   "id": "561c9046",
   "metadata": {},
   "source": [
    "Question 1\n",
    "Your dataset contains order_date in multiple formats: 'DD/MM/YYYY', 'DD-MM-YY', 'YYYY-MM-DD', and some invalid entries like '32/13/2020'. Clean and standardize all dates to 'YYYY-MM-DD' format, handling invalid dates appropriately.\n"
   ]
  },
  {
   "cell_type": "code",
   "execution_count": null,
   "id": "1b6f1a45",
   "metadata": {},
   "outputs": [],
   "source": []
  },
  {
   "cell_type": "code",
   "execution_count": null,
   "id": "ff77531e",
   "metadata": {},
   "outputs": [],
   "source": []
  },
  {
   "cell_type": "code",
   "execution_count": null,
   "id": "3c01342d",
   "metadata": {},
   "outputs": [],
   "source": []
  },
  {
   "cell_type": "markdown",
   "id": "4d86608e",
   "metadata": {},
   "source": [
    "Question 2\n",
    "The original_price_inr column contains mixed data types: numeric values, text with '₹' symbols, comma separators ('₹1,25,000'), and some entries like 'Price on Request'. Clean this column to contain only numeric values in Indian Rupees.\n"
   ]
  },
  {
   "cell_type": "code",
   "execution_count": 671,
   "id": "b08aa84d",
   "metadata": {},
   "outputs": [
    {
     "name": "stdout",
     "output_type": "stream",
     "text": [
      "<class 'pandas.core.series.Series'>\n",
      "RangeIndex: 99495 entries, 0 to 99494\n",
      "Series name: original_price_inr\n",
      "Non-Null Count  Dtype  \n",
      "--------------  -----  \n",
      "99495 non-null  float64\n",
      "dtypes: float64(1)\n",
      "memory usage: 777.4 KB\n",
      "Info:  None\n",
      "0\n",
      "0\n"
     ]
    }
   ],
   "source": [
    "df_18['original_price_inr'] = df_18['original_price_inr'].astype(str) \\\n",
    "                           .str.replace('₹','', regex=False) \\\n",
    "                           .str.replace(',','', regex=False)\\\n",
    "                           .str.replace(\"Rs\",'',regex=False)\n",
    "\n",
    "# Converting to numeric\n",
    "df_18['original_price_inr'] = pd.to_numeric(df_18['original_price_inr'], errors='coerce')\n",
    "\n",
    "\n",
    "print(\"Info: \",df_18['original_price_inr'].info())\n",
    "print(df_18[\"original_price_inr\"].isnull().sum())\n",
    "\n",
    "\n",
    "df_18['original_price_inr'] = df_18['original_price_inr'].fillna(df_18['original_price_inr'].mean())\n",
    "print(df_18['original_price_inr'].isnull().sum())"
   ]
  },
  {
   "cell_type": "code",
   "execution_count": 672,
   "id": "f218f953",
   "metadata": {},
   "outputs": [
    {
     "name": "stdout",
     "output_type": "stream",
     "text": [
      "<class 'pandas.core.series.Series'>\n",
      "RangeIndex: 99495 entries, 0 to 99494\n",
      "Series name: original_price_inr\n",
      "Non-Null Count  Dtype  \n",
      "--------------  -----  \n",
      "99495 non-null  float64\n",
      "dtypes: float64(1)\n",
      "memory usage: 777.4 KB\n",
      "None\n"
     ]
    }
   ],
   "source": [
    "print(df_18['original_price_inr'].info())\n"
   ]
  },
  {
   "cell_type": "code",
   "execution_count": null,
   "id": "cba56968",
   "metadata": {},
   "outputs": [],
   "source": []
  },
  {
   "cell_type": "code",
   "execution_count": null,
   "id": "0ef0ed26",
   "metadata": {},
   "outputs": [],
   "source": []
  },
  {
   "cell_type": "markdown",
   "id": "f0cf9cf5",
   "metadata": {},
   "source": [
    "Question 3\n",
    "Customer ratings appear in various formats: '5.0', '4 stars', '3/5', '2.5/5.0', and some missing values. Standardize all ratings to numeric scale 1.0-5.0, handling inconsistent formats and missing values strategically.\n"
   ]
  },
  {
   "cell_type": "code",
   "execution_count": 673,
   "id": "7acf1371",
   "metadata": {},
   "outputs": [
    {
     "data": {
      "text/plain": [
       "array([4, 5, 3])"
      ]
     },
     "execution_count": 673,
     "metadata": {},
     "output_type": "execute_result"
    }
   ],
   "source": [
    "df_18[\"customer_rating\"].unique()"
   ]
  },
  {
   "cell_type": "code",
   "execution_count": 674,
   "id": "d4e9f324",
   "metadata": {},
   "outputs": [
    {
     "data": {
      "text/plain": [
       "np.int64(0)"
      ]
     },
     "execution_count": 674,
     "metadata": {},
     "output_type": "execute_result"
    }
   ],
   "source": [
    "df_18[\"customer_rating\"].isna().sum()"
   ]
  },
  {
   "cell_type": "markdown",
   "id": "ccd38408",
   "metadata": {},
   "source": []
  },
  {
   "cell_type": "markdown",
   "id": "134993d7",
   "metadata": {},
   "source": [
    "Question 4\n",
    "The customer_city column has inconsistent naming: 'Bangalore/Bengaluru', 'Mumbai/Bombay', 'Delhi/New Delhi', along with spelling errors and case variations. Standardize all city names and handle geographical variations.\n"
   ]
  },
  {
   "cell_type": "code",
   "execution_count": 675,
   "id": "1508d320",
   "metadata": {},
   "outputs": [
    {
     "data": {
      "text/plain": [
       "array(['Delhi', 'Mumbai', 'Kochi', 'Indore', 'Bangalore', 'Kanpur',\n",
       "       'Hyderabad', 'Ludhiana', 'Chandigarh', 'Visakhapatnam', 'Pune',\n",
       "       'Surat', 'Lucknow', 'Saharanpur', 'Coimbatore', 'Jaipur',\n",
       "       'Mumbai ', 'Ahmedabad', 'Kolkata', 'Chennai', 'Nagpur', 'Patna',\n",
       "       'Bhubaneswar', 'Vadodara', 'Aligarh', 'Bombay', 'Moradabad',\n",
       "       'Meerut', 'Varanasi', 'Gorakhpur', 'Madras', 'Bengaluru',\n",
       "       'Bareilly', 'Kolkata ', 'Delhi NCR', 'BANGALORE', 'KOLKATA',\n",
       "       'delhi', 'Allahabad', 'Banglore', 'CHENNAI', 'Chennai ', 'mumba',\n",
       "       'chenai', 'Calcutta', 'Bengalore', 'New Delhi', 'kolkata',\n",
       "       'MUMBAI', 'DELHI'], dtype=object)"
      ]
     },
     "execution_count": 675,
     "metadata": {},
     "output_type": "execute_result"
    }
   ],
   "source": [
    "df_18['customer_city'].unique()"
   ]
  },
  {
   "cell_type": "code",
   "execution_count": 676,
   "id": "13b5995f",
   "metadata": {},
   "outputs": [],
   "source": [
    "\n",
    "df_18['customer_city'] = df_18['customer_city'].str.strip().str.lower()\n",
    "\n",
    "CITY = {\n",
    "    \"bangalore\": \"Bengaluru\",\n",
    "    \"bengaluru\": \"Bengaluru\",\n",
    "    \"banglore\": \"Bengaluru\",\n",
    "    \"bengalore\": \"Bengaluru\",\n",
    "    \"bangluru\": \"Bengaluru\",\n",
    "\n",
    "    \"bombay\": \"Mumbai\",\n",
    "    \"mumbai\": \"Mumbai\",\n",
    "    \"mumba\": \"Mumbai\",\n",
    "    \"mumbai \": \"Mumbai\",\n",
    "\n",
    "    \"new delhi\": \"Delhi\",\n",
    "    \"delhi\": \"Delhi\",\n",
    "    \"delhi ncr\": \"Delhi\",\n",
    "\n",
    "    \"kolkata\": \"Kolkata\",\n",
    "    \"kolkata \": \"Kolkata\",\n",
    "    \"calcutta\": \"Kolkata\",\n",
    "    \"kolkatta\": \"Kolkata\",\n",
    "\n",
    "    \"chennai\": \"Chennai\",\n",
    "    \"chenai\": \"Chennai\",\n",
    "    \"chennai \": \"Chennai\",\n",
    "    \"madras\": \"Chennai\",\n",
    "}\n",
    "\n",
    "\n",
    "df_18[\"customer_city\"]=df_18[\"customer_city\"].replace(CITY)\n",
    "\n",
    "\n",
    "df_18['customer_city'] = df_18['customer_city'].str.title() #captailize first letter\n"
   ]
  },
  {
   "cell_type": "code",
   "execution_count": 677,
   "id": "ab2548f7",
   "metadata": {},
   "outputs": [
    {
     "data": {
      "text/plain": [
       "np.int64(0)"
      ]
     },
     "execution_count": 677,
     "metadata": {},
     "output_type": "execute_result"
    }
   ],
   "source": [
    "df_18['customer_city'].isna().sum()"
   ]
  },
  {
   "cell_type": "code",
   "execution_count": 678,
   "id": "050b48f9",
   "metadata": {},
   "outputs": [
    {
     "data": {
      "text/plain": [
       "array(['Delhi', 'Mumbai', 'Kochi', 'Indore', 'Bengaluru', 'Kanpur',\n",
       "       'Hyderabad', 'Ludhiana', 'Chandigarh', 'Visakhapatnam', 'Pune',\n",
       "       'Surat', 'Lucknow', 'Saharanpur', 'Coimbatore', 'Jaipur',\n",
       "       'Ahmedabad', 'Kolkata', 'Chennai', 'Nagpur', 'Patna',\n",
       "       'Bhubaneswar', 'Vadodara', 'Aligarh', 'Moradabad', 'Meerut',\n",
       "       'Varanasi', 'Gorakhpur', 'Bareilly', 'Allahabad'], dtype=object)"
      ]
     },
     "execution_count": 678,
     "metadata": {},
     "output_type": "execute_result"
    }
   ],
   "source": [
    "df_18['customer_city'].unique()"
   ]
  },
  {
   "cell_type": "code",
   "execution_count": null,
   "id": "b1de4c22",
   "metadata": {},
   "outputs": [],
   "source": []
  },
  {
   "cell_type": "code",
   "execution_count": null,
   "id": "89bee63c",
   "metadata": {},
   "outputs": [],
   "source": []
  },
  {
   "cell_type": "markdown",
   "id": "2ffe13fd",
   "metadata": {},
   "source": [
    "Question 5\n",
    "Boolean columns (is_prime_member, is_prime_eligible, is_festival_sale) contain mixed values: True/False, Yes/No, 1/0, Y/N, and some missing entries. Convert all boolean columns to consistent True/False format.\n"
   ]
  },
  {
   "cell_type": "code",
   "execution_count": 679,
   "id": "d0c7aea0",
   "metadata": {},
   "outputs": [
    {
     "name": "stdout",
     "output_type": "stream",
     "text": [
      "['False' 'True' '0' 'Yes' 'FALSE' 'No' 'TRUE' '1']\n",
      "['False' 'True' 'TRUE' 'Yes' '1' '0' 'FALSE' 'No']\n",
      "['False' 'True' '0' 'TRUE' 'FALSE' '1' 'No' 'Yes']\n"
     ]
    }
   ],
   "source": [
    "print(df_18[\"is_festival_sale\"].unique())\n",
    "print(df_18[\"is_prime_eligible\"].unique())\n",
    "print(df_18[\"is_prime_member\"].unique())"
   ]
  },
  {
   "cell_type": "code",
   "execution_count": 680,
   "id": "95b0edff",
   "metadata": {},
   "outputs": [
    {
     "name": "stderr",
     "output_type": "stream",
     "text": [
      "C:\\Users\\offic\\AppData\\Local\\Temp\\ipykernel_10448\\1027752133.py:14: FutureWarning: Downcasting behavior in `replace` is deprecated and will be removed in a future version. To retain the old behavior, explicitly call `result.infer_objects(copy=False)`. To opt-in to the future behavior, set `pd.set_option('future.no_silent_downcasting', True)`\n",
      "  df_18[[\"is_prime_eligible\",\"is_festival_sale\",\"is_prime_member\"]] = df_18[[\"is_prime_eligible\",\"is_festival_sale\",\"is_prime_member\"]].replace(boolian).astype(bool)\n"
     ]
    }
   ],
   "source": [
    "#Here set the all boolin true/false and set type bool from object\n",
    "\n",
    "boolian={\n",
    "    \"TRUE\": True,\n",
    "    \"FALSE\": False,\n",
    "    \"No\": False,\n",
    "    \"1\": True,\n",
    "    \"0\": False,\n",
    "    \"Yes\": True,\n",
    "    \"True\": True,\n",
    "    \"False\": False\n",
    "}\n",
    "\n",
    "df_18[[\"is_prime_eligible\",\"is_festival_sale\",\"is_prime_member\"]] = df_18[[\"is_prime_eligible\",\"is_festival_sale\",\"is_prime_member\"]].replace(boolian).astype(bool)"
   ]
  },
  {
   "cell_type": "code",
   "execution_count": 681,
   "id": "72866339",
   "metadata": {},
   "outputs": [
    {
     "name": "stdout",
     "output_type": "stream",
     "text": [
      "[False  True]\n",
      "[False  True]\n",
      "[False  True]\n"
     ]
    }
   ],
   "source": [
    "print(df_18[\"is_festival_sale\"].unique())\n",
    "print(df_18[\"is_prime_eligible\"].unique())\n",
    "print(df_18[\"is_prime_member\"].unique())"
   ]
  },
  {
   "cell_type": "code",
   "execution_count": 682,
   "id": "392aa069",
   "metadata": {},
   "outputs": [
    {
     "name": "stdout",
     "output_type": "stream",
     "text": [
      "0\n",
      "0\n",
      "0\n"
     ]
    }
   ],
   "source": [
    "print(df_18[\"is_festival_sale\"].isna().sum())\n",
    "print(df_18[\"is_prime_eligible\"].isna().sum())\n",
    "print(df_18[\"is_prime_member\"].isna().sum())"
   ]
  },
  {
   "cell_type": "code",
   "execution_count": 683,
   "id": "36fb3f51",
   "metadata": {},
   "outputs": [
    {
     "name": "stdout",
     "output_type": "stream",
     "text": [
      "<class 'pandas.core.series.Series'>\n",
      "RangeIndex: 99495 entries, 0 to 99494\n",
      "Series name: is_festival_sale\n",
      "Non-Null Count  Dtype\n",
      "--------------  -----\n",
      "99495 non-null  bool \n",
      "dtypes: bool(1)\n",
      "memory usage: 97.3 KB\n",
      "None\n",
      "<class 'pandas.core.series.Series'>\n",
      "RangeIndex: 99495 entries, 0 to 99494\n",
      "Series name: is_prime_eligible\n",
      "Non-Null Count  Dtype\n",
      "--------------  -----\n",
      "99495 non-null  bool \n",
      "dtypes: bool(1)\n",
      "memory usage: 97.3 KB\n",
      "None\n",
      "<class 'pandas.core.series.Series'>\n",
      "RangeIndex: 99495 entries, 0 to 99494\n",
      "Series name: is_prime_member\n",
      "Non-Null Count  Dtype\n",
      "--------------  -----\n",
      "99495 non-null  bool \n",
      "dtypes: bool(1)\n",
      "memory usage: 97.3 KB\n",
      "None\n"
     ]
    }
   ],
   "source": [
    "print(df_18[\"is_festival_sale\"].info())\n",
    "print(df_18[\"is_prime_eligible\"].info())\n",
    "print(df_18[\"is_prime_member\"].info())"
   ]
  },
  {
   "cell_type": "code",
   "execution_count": null,
   "id": "1eebec06",
   "metadata": {},
   "outputs": [],
   "source": []
  },
  {
   "cell_type": "code",
   "execution_count": null,
   "id": "3aca5d64",
   "metadata": {},
   "outputs": [],
   "source": []
  },
  {
   "cell_type": "markdown",
   "id": "0b1e3fe7",
   "metadata": {},
   "source": [
    "Question 6\n",
    "Product categories have variations: 'Electronics/Electronic/ELECTRONICS/Electronics & Accessories'. Standardize category names across the dataset and ensure consistent naming conventions.\n"
   ]
  },
  {
   "cell_type": "code",
   "execution_count": 684,
   "id": "c2545de5",
   "metadata": {},
   "outputs": [
    {
     "data": {
      "text/plain": [
       "array(['Electronics', 'Electronicss', 'ELECTRONICS', 'Electronic',\n",
       "       'Electronics & Accessories'], dtype=object)"
      ]
     },
     "execution_count": 684,
     "metadata": {},
     "output_type": "execute_result"
    }
   ],
   "source": [
    "df_18[\"category\"].unique()"
   ]
  },
  {
   "cell_type": "code",
   "execution_count": 685,
   "id": "1e98bc8f",
   "metadata": {},
   "outputs": [],
   "source": [
    "#  Normalize to lowercase \n",
    "df_18['category'] = df_18['category'].str.strip().str.lower()\n",
    "\n",
    "\n",
    "CATEGORY_MAP = {\n",
    "    \"electronics\": \"Electronics\",\n",
    "    \"electronic\": \"Electronics\",\n",
    "    \"electronics & accessories\": \"Electronics\",\n",
    "    \"electronicss\": \"Electronics\"\n",
    "    \n",
    "}\n",
    "\n",
    "# mapping\n",
    "df_18['category'] = df_18['category'].replace(CATEGORY_MAP)\n",
    "\n",
    "#  title case for display\n",
    "df_18['category'] = df_18['category'].str.title()\n",
    "\n",
    "\n",
    "# print(df['category'].unique())\n"
   ]
  },
  {
   "cell_type": "code",
   "execution_count": 686,
   "id": "ff9a16fc",
   "metadata": {},
   "outputs": [
    {
     "data": {
      "text/plain": [
       "array(['Electronics'], dtype=object)"
      ]
     },
     "execution_count": 686,
     "metadata": {},
     "output_type": "execute_result"
    }
   ],
   "source": [
    "df_18[\"category\"].unique()"
   ]
  },
  {
   "cell_type": "code",
   "execution_count": null,
   "id": "2452e72d",
   "metadata": {},
   "outputs": [],
   "source": []
  },
  {
   "cell_type": "code",
   "execution_count": null,
   "id": "16e0bc78",
   "metadata": {},
   "outputs": [],
   "source": []
  },
  {
   "cell_type": "markdown",
   "id": "2a344996",
   "metadata": {},
   "source": [
    "Question 7\n",
    "The delivery_days column contains negative values, text entries like 'Same Day', '1-2 days', and some unrealistic values like 50 days. Clean this column to contain only valid numeric delivery days.\n"
   ]
  },
  {
   "cell_type": "code",
   "execution_count": 687,
   "id": "ad743556",
   "metadata": {},
   "outputs": [
    {
     "data": {
      "text/plain": [
       "array(['3', '4', '7', '2', '1', '6', '5', '-1', '1-2 days', 'Express',\n",
       "       '15', 'Same Day', '0'], dtype=object)"
      ]
     },
     "execution_count": 687,
     "metadata": {},
     "output_type": "execute_result"
    }
   ],
   "source": [
    "df_18[\"delivery_days\"].unique()"
   ]
  },
  {
   "cell_type": "code",
   "execution_count": 688,
   "id": "9e507726",
   "metadata": {},
   "outputs": [],
   "source": [
    "mapping = {\n",
    "    'Same Day': 0,\n",
    "    '1-2 days': 1,\n",
    "    'Express': 0\n",
    "}\n",
    "\n",
    "def convert(value):\n",
    "    if value in mapping:\n",
    "        return mapping[value]\n",
    "    try:\n",
    "        return int(value)\n",
    "    except ValueError:\n",
    "        return -1 \n",
    "    \n",
    "\n",
    "df_18[\"delivery_days\"]=df_18[\"delivery_days\"].apply(convert)\n",
    "\n",
    "#now convert into type as integer\n",
    "\n",
    "df_18[\"delivery_days\"] = pd.to_numeric(df_18[\"delivery_days\"], errors='coerce')\n",
    "\n",
    "    \n",
    "    "
   ]
  },
  {
   "cell_type": "code",
   "execution_count": 689,
   "id": "1af44827",
   "metadata": {},
   "outputs": [
    {
     "data": {
      "text/plain": [
       "array([ 3,  4,  7,  2,  1,  6,  5, -1,  0, 15])"
      ]
     },
     "execution_count": 689,
     "metadata": {},
     "output_type": "execute_result"
    }
   ],
   "source": [
    "df_18[\"delivery_days\"].unique()"
   ]
  },
  {
   "cell_type": "code",
   "execution_count": 691,
   "id": "89a3dafa",
   "metadata": {},
   "outputs": [
    {
     "name": "stdout",
     "output_type": "stream",
     "text": [
      "601\n"
     ]
    }
   ],
   "source": [
    "invalid=(df_18[\"delivery_days\"]== -1).sum()\n",
    "print(invalid)"
   ]
  },
  {
   "cell_type": "code",
   "execution_count": 695,
   "id": "cbb40ac5",
   "metadata": {},
   "outputs": [
    {
     "name": "stdout",
     "output_type": "stream",
     "text": [
      "0\n"
     ]
    }
   ],
   "source": [
    "from sklearn.experimental import enable_iterative_imputer  # noqa\n",
    "from sklearn.impute import IterativeImputer\n",
    "from sklearn.linear_model import BayesianRidge\n",
    "\n",
    "\n",
    "df_18[\"delivery_days\"] = df_18[\"delivery_days\"].replace(-1, np.nan)\n",
    "\n",
    "# using iterative imputer\n",
    "imputer=IterativeImputer(estimator=BayesianRidge(),max_iter=10, random_state=0)\n",
    "\n",
    "df_18[[\"delivery_days\"]] = imputer.fit_transform(df_18[[\"delivery_days\"]])\n",
    "\n",
    "# Convert to integer \n",
    "df_18[\"delivery_days\"] = df_18[\"delivery_days\"].round().astype(int)\n",
    "\n",
    "print(df_18[\"delivery_days\"].isna().sum())\n",
    "\n"
   ]
  },
  {
   "cell_type": "code",
   "execution_count": 696,
   "id": "f12bd4b4",
   "metadata": {},
   "outputs": [
    {
     "name": "stdout",
     "output_type": "stream",
     "text": [
      "<class 'pandas.core.series.Series'>\n",
      "RangeIndex: 99495 entries, 0 to 99494\n",
      "Series name: delivery_days\n",
      "Non-Null Count  Dtype\n",
      "--------------  -----\n",
      "99495 non-null  int64\n",
      "dtypes: int64(1)\n",
      "memory usage: 777.4 KB\n"
     ]
    }
   ],
   "source": [
    "df_18[\"delivery_days\"].info()"
   ]
  },
  {
   "cell_type": "code",
   "execution_count": null,
   "id": "c42f5aba",
   "metadata": {},
   "outputs": [],
   "source": []
  },
  {
   "cell_type": "code",
   "execution_count": null,
   "id": "00643ae3",
   "metadata": {},
   "outputs": [],
   "source": []
  },
  {
   "cell_type": "markdown",
   "id": "c16f9f12",
   "metadata": {},
   "source": [
    "Question 8\n",
    "Identify and handle duplicate transactions where the same customer, product, date, and amount appear multiple times. Some duplicates are genuine (bulk orders) while others are data errors. Develop a strategy to distinguish and handle both cases.\n"
   ]
  },
  {
   "cell_type": "code",
   "execution_count": null,
   "id": "55afa1fa",
   "metadata": {},
   "outputs": [],
   "source": []
  },
  {
   "cell_type": "code",
   "execution_count": null,
   "id": "aa2646d4",
   "metadata": {},
   "outputs": [],
   "source": []
  },
  {
   "cell_type": "code",
   "execution_count": null,
   "id": "24a49cd6",
   "metadata": {},
   "outputs": [],
   "source": []
  },
  {
   "cell_type": "code",
   "execution_count": null,
   "id": "3d3c583d",
   "metadata": {},
   "outputs": [],
   "source": []
  },
  {
   "cell_type": "markdown",
   "id": "6bb7b452",
   "metadata": {},
   "source": [
    "Question 9\n",
    "The dataset contains outlier prices where some products show prices 100x higher than expected due to data entry errors (decimal point issues). Identify and correct these outliers using statistical methods and domain knowledge\n"
   ]
  },
  {
   "cell_type": "code",
   "execution_count": 697,
   "id": "47b41bd7",
   "metadata": {},
   "outputs": [
    {
     "data": {
      "text/plain": [
       "<Axes: xlabel='original_price_inr'>"
      ]
     },
     "execution_count": 697,
     "metadata": {},
     "output_type": "execute_result"
    },
    {
     "data": {
      "image/png": "[encoded data removed]",
      "text/plain": [
       "<Figure size 640x480 with 1 Axes>"
      ]
     },
     "metadata": {},
     "output_type": "display_data"
    }
   ],
   "source": [
    "sns.boxplot(x=df_18[\"original_price_inr\"])\n"
   ]
  },
  {
   "cell_type": "code",
   "execution_count": 698,
   "id": "eb3e1272",
   "metadata": {},
   "outputs": [
    {
     "name": "stdout",
     "output_type": "stream",
     "text": [
      "Detected outliers: 2382\n"
     ]
    },
    {
     "data": {
      "image/png": "[encoded data removed]",
      "text/plain": [
       "<Figure size 1500x500 with 2 Axes>"
      ]
     },
     "metadata": {},
     "output_type": "display_data"
    }
   ],
   "source": [
    "import pandas as pd\n",
    "import seaborn as sns\n",
    "import matplotlib.pyplot as plt\n",
    "\n",
    "\n",
    "n = df_18[\"original_price_inr\"].copy()\n",
    "\n",
    "# removing outliers...\n",
    "\n",
    "q1 = n.quantile(0.25)\n",
    "q3 = n.quantile(0.75)\n",
    "iqr = q3 - q1\n",
    "\n",
    "\n",
    "lower_bound = q1 - 1.5 * iqr\n",
    "upper_bound = q3 + 1.5 * iqr\n",
    "\n",
    "# outlier above the upper bound\n",
    "outliers = df_18[df_18[\"original_price_inr\"] > upper_bound]\n",
    "print(f\"Detected outliers: {outliers.shape[0]}\")\n",
    "\n",
    "# Correct those outliers assuming they were inflated by 100x\n",
    "df_18[\"corrected_price_inr\"] = df_18[\"original_price_inr\"]\n",
    "\n",
    "df_18.loc[df_18[\"original_price_inr\"] > upper_bound, \"corrected_price_inr\"] = df_18[\"original_price_inr\"] / 100\n",
    "\n",
    "# visualization  before and after\n",
    "\n",
    "plt.figure(figsize = (15,5))\n",
    "\n",
    "\n",
    "plt.subplot(121)\n",
    "sns.boxplot(x=df_18[\"original_price_inr\"])\n",
    "plt.title(\"Original Prices with Outliers\")\n",
    "\n",
    "\n",
    "plt.subplot(122)\n",
    "sns.boxplot(x=df_18[\"corrected_price_inr\"])\n",
    "plt.title(\"Corrected Prices\")\n",
    "\n",
    "plt.tight_layout()\n",
    "plt.show()\n"
   ]
  },
  {
   "cell_type": "code",
   "execution_count": 702,
   "id": "446a6c2a",
   "metadata": {},
   "outputs": [
    {
     "name": "stdout",
     "output_type": "stream",
     "text": [
      "<class 'pandas.core.series.Series'>\n",
      "RangeIndex: 99495 entries, 0 to 99494\n",
      "Series name: original_price_inr\n",
      "Non-Null Count  Dtype  \n",
      "--------------  -----  \n",
      "99495 non-null  float64\n",
      "dtypes: float64(1)\n",
      "memory usage: 777.4 KB\n"
     ]
    }
   ],
   "source": [
    "df_18[\"original_price_inr\"].info()"
   ]
  },
  {
   "cell_type": "code",
   "execution_count": 701,
   "id": "27bfb0e9",
   "metadata": {},
   "outputs": [
    {
     "name": "stdout",
     "output_type": "stream",
     "text": [
      "<class 'pandas.core.series.Series'>\n",
      "RangeIndex: 99495 entries, 0 to 99494\n",
      "Series name: corrected_price_inr\n",
      "Non-Null Count  Dtype  \n",
      "--------------  -----  \n",
      "99495 non-null  float64\n",
      "dtypes: float64(1)\n",
      "memory usage: 777.4 KB\n"
     ]
    }
   ],
   "source": [
    "df_18[\"corrected_price_inr\"].info()"
   ]
  },
  {
   "cell_type": "code",
   "execution_count": 703,
   "id": "d74b883f",
   "metadata": {},
   "outputs": [
    {
     "name": "stdout",
     "output_type": "stream",
     "text": [
      "<class 'pandas.core.frame.DataFrame'>\n",
      "RangeIndex: 99495 entries, 0 to 99494\n",
      "Data columns (total 35 columns):\n",
      " #   Column                  Non-Null Count  Dtype  \n",
      "---  ------                  --------------  -----  \n",
      " 0   transaction_id          99495 non-null  object \n",
      " 1   order_date              99495 non-null  object \n",
      " 2   customer_id             99495 non-null  object \n",
      " 3   product_id              99495 non-null  object \n",
      " 4   product_name            99495 non-null  object \n",
      " 5   category                99495 non-null  object \n",
      " 6   subcategory             99495 non-null  object \n",
      " 7   brand                   99495 non-null  object \n",
      " 8   original_price_inr      99495 non-null  float64\n",
      " 9   discount_percent        99495 non-null  float64\n",
      " 10  discounted_price_inr    99495 non-null  float64\n",
      " 11  quantity                99495 non-null  int64  \n",
      " 12  subtotal_inr            99495 non-null  float64\n",
      " 13  delivery_charges        99495 non-null  float64\n",
      " 14  final_amount_inr        99495 non-null  float64\n",
      " 15  customer_city           99495 non-null  object \n",
      " 16  customer_state          99495 non-null  object \n",
      " 17  customer_tier           99495 non-null  object \n",
      " 18  customer_spending_tier  99495 non-null  object \n",
      " 19  customer_age_group      99495 non-null  object \n",
      " 20  payment_method          99495 non-null  object \n",
      " 21  delivery_days           99495 non-null  int64  \n",
      " 22  delivery_type           99495 non-null  object \n",
      " 23  is_prime_member         99495 non-null  bool   \n",
      " 24  is_festival_sale        99495 non-null  bool   \n",
      " 25  festival_name           31577 non-null  object \n",
      " 26  customer_rating         99495 non-null  int64  \n",
      " 27  return_status           99495 non-null  object \n",
      " 28  order_month             99495 non-null  int64  \n",
      " 29  order_year              99495 non-null  int64  \n",
      " 30  order_quarter           99495 non-null  int64  \n",
      " 31  product_weight_kg       99495 non-null  float64\n",
      " 32  is_prime_eligible       99495 non-null  bool   \n",
      " 33  product_rating          99495 non-null  float64\n",
      " 34  corrected_price_inr     99495 non-null  float64\n",
      "dtypes: bool(3), float64(9), int64(6), object(17)\n",
      "memory usage: 24.6+ MB\n"
     ]
    }
   ],
   "source": [
    "df_18.info()"
   ]
  },
  {
   "cell_type": "markdown",
   "id": "ccd4beb7",
   "metadata": {},
   "source": [
    "# ------------------------------------------------------------------------------"
   ]
  },
  {
   "cell_type": "markdown",
   "id": "0f91748a",
   "metadata": {},
   "source": [
    "# ------------------------------------------------------------------------------"
   ]
  },
  {
   "cell_type": "markdown",
   "id": "1d54e18a",
   "metadata": {},
   "source": [
    "# ------------------------------------------------------------------------------"
   ]
  }
 ],
 "metadata": {
  "kernelspec": {
   "display_name": "Pandas_venv",
   "language": "python",
   "name": "pandas_venv"
  },
  "language_info": {
   "codemirror_mode": {
    "name": "ipython",
    "version": 3
   },
   "file_extension": ".py",
   "mimetype": "text/x-python",
   "name": "python",
   "nbconvert_exporter": "python",
   "pygments_lexer": "ipython3",
   "version": "3.13.5"
  }
 },
 "nbformat": 4,
 "nbformat_minor": 5
}
